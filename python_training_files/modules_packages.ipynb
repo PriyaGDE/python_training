{
 "cells": [
  {
   "cell_type": "code",
   "execution_count": 1,
   "id": "3d41005b-2cb8-4690-b4e7-357071414851",
   "metadata": {},
   "outputs": [],
   "source": [
    "#pip install package name to install\n"
   ]
  },
  {
   "cell_type": "code",
   "execution_count": null,
   "id": "02672f37-75a2-41b3-9630-2fdbbe4473af",
   "metadata": {},
   "outputs": [],
   "source": []
  }
 ],
 "metadata": {
  "kernelspec": {
   "display_name": "Python 3.10.4 (pyenv)",
   "language": "python",
   "name": "pyenv3104"
  },
  "language_info": {
   "codemirror_mode": {
    "name": "ipython",
    "version": 3
   },
   "file_extension": ".py",
   "mimetype": "text/x-python",
   "name": "python",
   "nbconvert_exporter": "python",
   "pygments_lexer": "ipython3",
   "version": "3.10.4"
  }
 },
 "nbformat": 4,
 "nbformat_minor": 5
}
