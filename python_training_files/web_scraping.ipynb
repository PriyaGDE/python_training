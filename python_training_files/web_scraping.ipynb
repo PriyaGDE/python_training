{
 "cells": [
  {
   "cell_type": "code",
   "execution_count": 3,
   "id": "ed9cc986-9a10-4af1-8c38-1243ae6062ed",
   "metadata": {},
   "outputs": [
    {
     "data": {
      "text/plain": [
       "'\\nRules\\nlimitations\\nunderstnad basic html and css\\n'"
      ]
     },
     "execution_count": 3,
     "metadata": {},
     "output_type": "execute_result"
    }
   ],
   "source": [
    "#gather data from website\n",
    "\n",
    "'''\n",
    "Rules\n",
    "limitations\n",
    "understnad basic html and css\n",
    "'''"
   ]
  },
  {
   "cell_type": "code",
   "execution_count": 4,
   "id": "82e73984-473f-4f57-b622-ec2016bdeff3",
   "metadata": {},
   "outputs": [],
   "source": [
    "#libraries installation"
   ]
  },
  {
   "cell_type": "code",
   "execution_count": 5,
   "id": "f5edea3c-c26f-46c0-b6e6-b247e4fc8f1a",
   "metadata": {},
   "outputs": [
    {
     "name": "stdout",
     "output_type": "stream",
     "text": [
      "Requirement already satisfied: requests in /Users/priyasuresh/.pyenv/versions/3.10.4/lib/python3.10/site-packages (2.32.3)\n",
      "Requirement already satisfied: charset-normalizer<4,>=2 in /Users/priyasuresh/.pyenv/versions/3.10.4/lib/python3.10/site-packages (from requests) (3.3.2)\n",
      "Requirement already satisfied: idna<4,>=2.5 in /Users/priyasuresh/.pyenv/versions/3.10.4/lib/python3.10/site-packages (from requests) (3.6)\n",
      "Requirement already satisfied: urllib3<3,>=1.21.1 in /Users/priyasuresh/.pyenv/versions/3.10.4/lib/python3.10/site-packages (from requests) (2.2.1)\n",
      "Requirement already satisfied: certifi>=2017.4.17 in /Users/priyasuresh/.pyenv/versions/3.10.4/lib/python3.10/site-packages (from requests) (2024.2.2)\n",
      "Note: you may need to restart the kernel to use updated packages.\n"
     ]
    }
   ],
   "source": [
    "pip install requests"
   ]
  },
  {
   "cell_type": "code",
   "execution_count": 6,
   "id": "8b78b971-37eb-4086-b8ab-256bcd4ccea3",
   "metadata": {},
   "outputs": [
    {
     "name": "stdout",
     "output_type": "stream",
     "text": [
      "Requirement already satisfied: lxml in /Users/priyasuresh/.pyenv/versions/3.10.4/lib/python3.10/site-packages (5.2.1)\n",
      "Note: you may need to restart the kernel to use updated packages.\n"
     ]
    }
   ],
   "source": [
    "pip install lxml"
   ]
  },
  {
   "cell_type": "code",
   "execution_count": 7,
   "id": "282a3786-55f8-4b92-9099-39e37aa49910",
   "metadata": {},
   "outputs": [
    {
     "name": "stdout",
     "output_type": "stream",
     "text": [
      "Collecting bs4\n",
      "  Downloading bs4-0.0.2-py2.py3-none-any.whl.metadata (411 bytes)\n",
      "Requirement already satisfied: beautifulsoup4 in /Users/priyasuresh/.pyenv/versions/3.10.4/lib/python3.10/site-packages (from bs4) (4.12.3)\n",
      "Requirement already satisfied: soupsieve>1.2 in /Users/priyasuresh/.pyenv/versions/3.10.4/lib/python3.10/site-packages (from beautifulsoup4->bs4) (2.5)\n",
      "Downloading bs4-0.0.2-py2.py3-none-any.whl (1.2 kB)\n",
      "Installing collected packages: bs4\n",
      "Successfully installed bs4-0.0.2\n",
      "Note: you may need to restart the kernel to use updated packages.\n"
     ]
    }
   ],
   "source": [
    "pip install bs4"
   ]
  },
  {
   "cell_type": "code",
   "execution_count": 8,
   "id": "783e4366-6b42-40dc-9172-3f482011f848",
   "metadata": {},
   "outputs": [],
   "source": [
    "import requests"
   ]
  },
  {
   "cell_type": "code",
   "execution_count": 9,
   "id": "90587013-03bf-4542-aec6-7629d4fa0997",
   "metadata": {},
   "outputs": [],
   "source": [
    "import bs4"
   ]
  },
  {
   "cell_type": "code",
   "execution_count": 10,
   "id": "fabc4e46-5206-477d-b7b8-e919d1e8d33b",
   "metadata": {},
   "outputs": [],
   "source": [
    "result =  requests.get(\"http://www.example.com\")"
   ]
  },
  {
   "cell_type": "code",
   "execution_count": 11,
   "id": "5549a93b-a514-443b-87dd-c82bdd910167",
   "metadata": {},
   "outputs": [
    {
     "data": {
      "text/plain": [
       "requests.models.Response"
      ]
     },
     "execution_count": 11,
     "metadata": {},
     "output_type": "execute_result"
    }
   ],
   "source": [
    "type(result)"
   ]
  },
  {
   "cell_type": "code",
   "execution_count": 12,
   "id": "4d54fd37-33e1-4b63-9ac8-4a23ba0f9d53",
   "metadata": {},
   "outputs": [
    {
     "data": {
      "text/plain": [
       "'<!doctype html>\\n<html>\\n<head>\\n    <title>Example Domain</title>\\n\\n    <meta charset=\"utf-8\" />\\n    <meta http-equiv=\"Content-type\" content=\"text/html; charset=utf-8\" />\\n    <meta name=\"viewport\" content=\"width=device-width, initial-scale=1\" />\\n    <style type=\"text/css\">\\n    body {\\n        background-color: #f0f0f2;\\n        margin: 0;\\n        padding: 0;\\n        font-family: -apple-system, system-ui, BlinkMacSystemFont, \"Segoe UI\", \"Open Sans\", \"Helvetica Neue\", Helvetica, Arial, sans-serif;\\n        \\n    }\\n    div {\\n        width: 600px;\\n        margin: 5em auto;\\n        padding: 2em;\\n        background-color: #fdfdff;\\n        border-radius: 0.5em;\\n        box-shadow: 2px 3px 7px 2px rgba(0,0,0,0.02);\\n    }\\n    a:link, a:visited {\\n        color: #38488f;\\n        text-decoration: none;\\n    }\\n    @media (max-width: 700px) {\\n        div {\\n            margin: 0 auto;\\n            width: auto;\\n        }\\n    }\\n    </style>    \\n</head>\\n\\n<body>\\n<div>\\n    <h1>Example Domain</h1>\\n    <p>This domain is for use in illustrative examples in documents. You may use this\\n    domain in literature without prior coordination or asking for permission.</p>\\n    <p><a href=\"https://www.iana.org/domains/example\">More information...</a></p>\\n</div>\\n</body>\\n</html>\\n'"
      ]
     },
     "execution_count": 12,
     "metadata": {},
     "output_type": "execute_result"
    }
   ],
   "source": [
    "result.text"
   ]
  },
  {
   "cell_type": "code",
   "execution_count": 13,
   "id": "b5e103b8-21d7-4103-b6b2-032b327635ea",
   "metadata": {},
   "outputs": [],
   "source": [
    "soup = bs4.BeautifulSoup(result.text,'lxml')"
   ]
  },
  {
   "cell_type": "code",
   "execution_count": 14,
   "id": "8531570a-c78f-4d9c-849a-e89cb4f9db2f",
   "metadata": {},
   "outputs": [
    {
     "data": {
      "text/plain": [
       "<!DOCTYPE html>\n",
       "<html>\n",
       "<head>\n",
       "<title>Example Domain</title>\n",
       "<meta charset=\"utf-8\"/>\n",
       "<meta content=\"text/html; charset=utf-8\" http-equiv=\"Content-type\"/>\n",
       "<meta content=\"width=device-width, initial-scale=1\" name=\"viewport\"/>\n",
       "<style type=\"text/css\">\n",
       "    body {\n",
       "        background-color: #f0f0f2;\n",
       "        margin: 0;\n",
       "        padding: 0;\n",
       "        font-family: -apple-system, system-ui, BlinkMacSystemFont, \"Segoe UI\", \"Open Sans\", \"Helvetica Neue\", Helvetica, Arial, sans-serif;\n",
       "        \n",
       "    }\n",
       "    div {\n",
       "        width: 600px;\n",
       "        margin: 5em auto;\n",
       "        padding: 2em;\n",
       "        background-color: #fdfdff;\n",
       "        border-radius: 0.5em;\n",
       "        box-shadow: 2px 3px 7px 2px rgba(0,0,0,0.02);\n",
       "    }\n",
       "    a:link, a:visited {\n",
       "        color: #38488f;\n",
       "        text-decoration: none;\n",
       "    }\n",
       "    @media (max-width: 700px) {\n",
       "        div {\n",
       "            margin: 0 auto;\n",
       "            width: auto;\n",
       "        }\n",
       "    }\n",
       "    </style>\n",
       "</head>\n",
       "<body>\n",
       "<div>\n",
       "<h1>Example Domain</h1>\n",
       "<p>This domain is for use in illustrative examples in documents. You may use this\n",
       "    domain in literature without prior coordination or asking for permission.</p>\n",
       "<p><a href=\"https://www.iana.org/domains/example\">More information...</a></p>\n",
       "</div>\n",
       "</body>\n",
       "</html>"
      ]
     },
     "execution_count": 14,
     "metadata": {},
     "output_type": "execute_result"
    }
   ],
   "source": [
    "soup"
   ]
  },
  {
   "cell_type": "code",
   "execution_count": 15,
   "id": "2b30215c-1ae4-4647-967a-0c32404d87b2",
   "metadata": {},
   "outputs": [
    {
     "data": {
      "text/plain": [
       "[<title>Example Domain</title>]"
      ]
     },
     "execution_count": 15,
     "metadata": {},
     "output_type": "execute_result"
    }
   ],
   "source": [
    "soup.select('title')"
   ]
  },
  {
   "cell_type": "code",
   "execution_count": 16,
   "id": "ec503f76-1435-4f23-98f2-3908d4fcc786",
   "metadata": {},
   "outputs": [
    {
     "data": {
      "text/plain": [
       "[<h1>Example Domain</h1>]"
      ]
     },
     "execution_count": 16,
     "metadata": {},
     "output_type": "execute_result"
    }
   ],
   "source": [
    "soup.select('h1')"
   ]
  },
  {
   "cell_type": "code",
   "execution_count": 17,
   "id": "895fe935-47e8-4943-a291-30bc2f5c63a0",
   "metadata": {},
   "outputs": [
    {
     "data": {
      "text/plain": [
       "'Example Domain'"
      ]
     },
     "execution_count": 17,
     "metadata": {},
     "output_type": "execute_result"
    }
   ],
   "source": [
    "soup.select('title')[0].getText()"
   ]
  },
  {
   "cell_type": "code",
   "execution_count": 18,
   "id": "6398d76d-546e-415e-8a56-b817c9234c6d",
   "metadata": {},
   "outputs": [],
   "source": [
    "site_para = soup.select('p')"
   ]
  },
  {
   "cell_type": "code",
   "execution_count": 20,
   "id": "fcdee0af-0588-4542-9e78-89bf47a06de0",
   "metadata": {},
   "outputs": [
    {
     "data": {
      "text/plain": [
       "<p>This domain is for use in illustrative examples in documents. You may use this\n",
       "    domain in literature without prior coordination or asking for permission.</p>"
      ]
     },
     "execution_count": 20,
     "metadata": {},
     "output_type": "execute_result"
    }
   ],
   "source": [
    "site_para[0]"
   ]
  },
  {
   "cell_type": "code",
   "execution_count": 21,
   "id": "4c3ff928-b779-4879-bce5-0e169b64c07b",
   "metadata": {},
   "outputs": [
    {
     "data": {
      "text/plain": [
       "bs4.element.ResultSet"
      ]
     },
     "execution_count": 21,
     "metadata": {},
     "output_type": "execute_result"
    }
   ],
   "source": [
    "type(site_para)"
   ]
  },
  {
   "cell_type": "code",
   "execution_count": 22,
   "id": "e12ecc20-9778-42b9-bf20-f51d439ca8c0",
   "metadata": {},
   "outputs": [
    {
     "data": {
      "text/plain": [
       "'This domain is for use in illustrative examples in documents. You may use this\\n    domain in literature without prior coordination or asking for permission.'"
      ]
     },
     "execution_count": 22,
     "metadata": {},
     "output_type": "execute_result"
    }
   ],
   "source": [
    "site_para[0].getText()"
   ]
  },
  {
   "cell_type": "code",
   "execution_count": 24,
   "id": "bcd56750-b176-4e73-ab42-4fe353f5d61b",
   "metadata": {},
   "outputs": [],
   "source": [
    "#Grabbing all elements of a class"
   ]
  },
  {
   "cell_type": "code",
   "execution_count": 25,
   "id": "5ddd407f-c7b5-4a01-b104-9d85bee7ec32",
   "metadata": {},
   "outputs": [],
   "source": [
    "res = requests.get(\"https://en.wikipedia.org/wiki/Jeff_Bezos\")"
   ]
  },
  {
   "cell_type": "code",
   "execution_count": 26,
   "id": "1a0469a8-26ce-4f91-9ba0-a1fd9a5c9600",
   "metadata": {},
   "outputs": [],
   "source": [
    "soup = bs4.BeautifulSoup(res.text,\"lxml\")"
   ]
  },
  {
   "cell_type": "code",
   "execution_count": 28,
   "id": "3c930e77-cff2-439c-9432-21f1ddde645a",
   "metadata": {},
   "outputs": [],
   "source": [
    "#soup"
   ]
  },
  {
   "cell_type": "code",
   "execution_count": 30,
   "id": "062e0c08-22e5-4fc8-a0de-599bf57cf5f3",
   "metadata": {},
   "outputs": [
    {
     "data": {
      "text/plain": [
       "[<div class=\"mw-heading mw-heading2\"><h2 id=\"Early_life_and_education\">Early life and education</h2></div>,\n",
       " <div class=\"mw-heading mw-heading2\"><h2 id=\"Business_career\">Business career</h2></div>,\n",
       " <div class=\"mw-heading mw-heading3\"><h3 id=\"Early_career\">Early career</h3></div>,\n",
       " <div class=\"mw-heading mw-heading3\"><h3 id=\"Amazon\">Amazon</h3></div>,\n",
       " <div class=\"mw-heading mw-heading3\"><h3 id=\"Blue_Origin\">Blue Origin</h3></div>,\n",
       " <div class=\"mw-heading mw-heading4\"><h4 id=\"Spaceflight\">Spaceflight</h4></div>,\n",
       " <div class=\"mw-heading mw-heading3\"><h3 id=\"The_Washington_Post\"><i>The Washington Post</i></h3></div>,\n",
       " <div class=\"mw-heading mw-heading3\"><h3 id=\"Bezos_Expeditions\">Bezos Expeditions</h3></div>,\n",
       " <div class=\"mw-heading mw-heading3\"><h3 id=\"Altos_Labs\">Altos Labs</h3></div>,\n",
       " <div class=\"mw-heading mw-heading2\"><h2 id=\"Public_image\">Public image</h2></div>,\n",
       " <div class=\"mw-heading mw-heading3\"><h3 id=\"Leadership_style\">Leadership style</h3></div>,\n",
       " <div class=\"mw-heading mw-heading2\"><h2 id=\"Recognition\">Recognition</h2></div>,\n",
       " <div class=\"mw-heading mw-heading2\"><h2 id=\"Wealth\">Wealth</h2></div>,\n",
       " <div class=\"mw-heading mw-heading2\"><h2 id=\"Criticism\">Criticism</h2></div>,\n",
       " <div class=\"mw-heading mw-heading2\"><h2 id=\"Personal_life\">Personal life</h2></div>,\n",
       " <div class=\"mw-heading mw-heading2\"><h2 id=\"Politics\">Politics</h2></div>,\n",
       " <div class=\"mw-heading mw-heading3\"><h3 id=\"Donald_Trump\">Donald Trump</h3></div>,\n",
       " <div class=\"mw-heading mw-heading3\"><h3 id=\"Saudi_hacking_claim\">Saudi hacking claim</h3></div>,\n",
       " <div class=\"mw-heading mw-heading2\"><h2 id=\"Philanthropy\">Philanthropy</h2></div>,\n",
       " <div class=\"mw-heading mw-heading2\"><h2 id=\"See_also\">See also</h2></div>,\n",
       " <div class=\"mw-heading mw-heading2\"><h2 id=\"Notes\">Notes</h2></div>,\n",
       " <div class=\"mw-heading mw-heading2\"><h2 id=\"References\">References</h2></div>,\n",
       " <div class=\"mw-heading mw-heading2\"><h2 id=\"Sources\">Sources</h2></div>,\n",
       " <div class=\"mw-heading mw-heading2\"><h2 id=\"Further_reading\">Further reading</h2></div>,\n",
       " <div class=\"mw-heading mw-heading2\"><h2 id=\"External_links\">External links</h2></div>]"
      ]
     },
     "execution_count": 30,
     "metadata": {},
     "output_type": "execute_result"
    }
   ],
   "source": [
    "soup.select('.mw-heading')"
   ]
  },
  {
   "cell_type": "code",
   "execution_count": 31,
   "id": "bf079eaa-5dd3-4276-ac9c-d43dcfbf6a01",
   "metadata": {},
   "outputs": [],
   "source": [
    "first_item = soup.select('.mw-heading')[0]"
   ]
  },
  {
   "cell_type": "code",
   "execution_count": 32,
   "id": "f093f244-b82e-4bac-b4d0-dad90e72ae0f",
   "metadata": {},
   "outputs": [
    {
     "data": {
      "text/plain": [
       "'Early life and education'"
      ]
     },
     "execution_count": 32,
     "metadata": {},
     "output_type": "execute_result"
    }
   ],
   "source": [
    "first_item.text"
   ]
  },
  {
   "cell_type": "code",
   "execution_count": 34,
   "id": "cf92ea83-9ec0-49c5-a98b-387522e59f4b",
   "metadata": {},
   "outputs": [
    {
     "name": "stdout",
     "output_type": "stream",
     "text": [
      "Early life and education\n",
      "Business career\n",
      "Early career\n",
      "Amazon\n",
      "Blue Origin\n",
      "Spaceflight\n",
      "The Washington Post\n",
      "Bezos Expeditions\n",
      "Altos Labs\n",
      "Public image\n",
      "Leadership style\n",
      "Recognition\n",
      "Wealth\n",
      "Criticism\n",
      "Personal life\n",
      "Politics\n",
      "Donald Trump\n",
      "Saudi hacking claim\n",
      "Philanthropy\n",
      "See also\n",
      "Notes\n",
      "References\n",
      "Sources\n",
      "Further reading\n",
      "External links\n"
     ]
    }
   ],
   "source": [
    "for item in soup.select('.mw-heading'):\n",
    "    print(item.text)"
   ]
  },
  {
   "cell_type": "code",
   "execution_count": null,
   "id": "bdc3c593-3e67-4dde-8aaf-a2663357322a",
   "metadata": {},
   "outputs": [],
   "source": []
  },
  {
   "cell_type": "code",
   "execution_count": 35,
   "id": "c2ed51e1-c61e-4f02-aabb-2a6b99e3a752",
   "metadata": {},
   "outputs": [],
   "source": [
    "#web scrapping- grabbing an image"
   ]
  },
  {
   "cell_type": "code",
   "execution_count": 36,
   "id": "b485a102-0b7f-4d18-9ae1-57085d898a76",
   "metadata": {},
   "outputs": [],
   "source": [
    "res = requests.get(\"https://en.wikipedia.org/wiki/Deep_Blue_(chess_computer)\")"
   ]
  },
  {
   "cell_type": "code",
   "execution_count": 37,
   "id": "5c4a9cc3-2f8d-4f9d-8080-1dc580f15197",
   "metadata": {},
   "outputs": [],
   "source": [
    "soup = bs4.BeautifulSoup(res.text,\"lxml\")"
   ]
  },
  {
   "cell_type": "code",
   "execution_count": 51,
   "id": "1776e7a6-06a6-4cce-aa46-694e7a1a9b65",
   "metadata": {},
   "outputs": [],
   "source": [
    "computer = soup.select('.infobox-image')[0]\n",
    "\n",
    "\n",
    "\n"
   ]
  },
  {
   "cell_type": "code",
   "execution_count": 53,
   "id": "c67db7ee-618a-4424-880c-c8df600765b7",
   "metadata": {},
   "outputs": [
    {
     "data": {
      "text/plain": [
       "<td class=\"infobox-image\" colspan=\"2\"><span class=\"mw-default-size\" typeof=\"mw:File/Frameless\"><a class=\"mw-file-description\" href=\"/wiki/File:Deep_Blue.jpg\"><img class=\"mw-file-element\" data-file-height=\"601\" data-file-width=\"400\" decoding=\"async\" height=\"376\" src=\"//upload.wikimedia.org/wikipedia/commons/thumb/b/be/Deep_Blue.jpg/250px-Deep_Blue.jpg\" srcset=\"//upload.wikimedia.org/wikipedia/commons/thumb/b/be/Deep_Blue.jpg/375px-Deep_Blue.jpg 1.5x, //upload.wikimedia.org/wikipedia/commons/b/be/Deep_Blue.jpg 2x\" width=\"250\"/></a></span><div class=\"infobox-caption\">A computer similar to Deep Blue at the <a href=\"/wiki/Computer_History_Museum\" title=\"Computer History Museum\">Computer History Museum</a></div></td>"
      ]
     },
     "execution_count": 53,
     "metadata": {},
     "output_type": "execute_result"
    }
   ],
   "source": [
    "computer"
   ]
  },
  {
   "cell_type": "code",
   "execution_count": 54,
   "id": "04dcc10d-185b-4f4a-916e-7b3e774f929e",
   "metadata": {},
   "outputs": [
    {
     "data": {
      "text/plain": [
       "['infobox-image']"
      ]
     },
     "execution_count": 54,
     "metadata": {},
     "output_type": "execute_result"
    }
   ],
   "source": [
    "computer['class']"
   ]
  },
  {
   "cell_type": "code",
   "execution_count": 58,
   "id": "f315f143-6e6b-4160-a339-ebe619b3b836",
   "metadata": {},
   "outputs": [],
   "source": [
    "image_link = requests.get('https://upload.wikimedia.org/wikipedia/commons/thumb/b/be/Deep_Blue.jpg/250px-Deep_Blue.jpg')"
   ]
  },
  {
   "cell_type": "code",
   "execution_count": 60,
   "id": "b103071a-9d5a-4e0d-9640-c1e2ef3abfc5",
   "metadata": {},
   "outputs": [],
   "source": [
    "#image_link.content"
   ]
  },
  {
   "cell_type": "code",
   "execution_count": 61,
   "id": "d5b70b26-16a4-41b1-8058-1281eb7e2cb2",
   "metadata": {},
   "outputs": [],
   "source": [
    "f = open('my_computer_iamge.jpg','wb')#write binary"
   ]
  },
  {
   "cell_type": "code",
   "execution_count": 62,
   "id": "7b62137e-ac14-45ca-a0d9-aeb0827a3af0",
   "metadata": {},
   "outputs": [
    {
     "data": {
      "text/plain": [
       "20190"
      ]
     },
     "execution_count": 62,
     "metadata": {},
     "output_type": "execute_result"
    }
   ],
   "source": [
    "f.write(image_link.content)"
   ]
  },
  {
   "cell_type": "code",
   "execution_count": 63,
   "id": "cb981e2a-1c98-4a23-8328-61a30674fe49",
   "metadata": {},
   "outputs": [],
   "source": [
    "f.close()"
   ]
  },
  {
   "cell_type": "code",
   "execution_count": null,
   "id": "bae66bdc-d69a-49a5-8ced-2197571704fa",
   "metadata": {},
   "outputs": [],
   "source": []
  }
 ],
 "metadata": {
  "kernelspec": {
   "display_name": "Python 3.10.4 (pyenv)",
   "language": "python",
   "name": "pyenv3104"
  },
  "language_info": {
   "codemirror_mode": {
    "name": "ipython",
    "version": 3
   },
   "file_extension": ".py",
   "mimetype": "text/x-python",
   "name": "python",
   "nbconvert_exporter": "python",
   "pygments_lexer": "ipython3",
   "version": "3.10.4"
  }
 },
 "nbformat": 4,
 "nbformat_minor": 5
}
