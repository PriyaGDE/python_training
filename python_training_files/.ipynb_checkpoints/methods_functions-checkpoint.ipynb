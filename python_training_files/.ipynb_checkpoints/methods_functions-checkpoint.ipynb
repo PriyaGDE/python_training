{
 "cells": [
  {
   "cell_type": "code",
   "execution_count": 1,
   "id": "e754698b-e337-475e-b315-04aac24b29ae",
   "metadata": {},
   "outputs": [
    {
     "data": {
      "text/plain": [
       "[3]"
      ]
     },
     "execution_count": 1,
     "metadata": {},
     "output_type": "execute_result"
    }
   ],
   "source": [
    "#methods\n",
    "mylist = []\n",
    "\n",
    "mylist.insert(0,3)\n",
    "mylist"
   ]
  },
  {
   "cell_type": "code",
   "execution_count": 4,
   "id": "a2442adc-6536-44b0-a8a6-9287757a0fa4",
   "metadata": {},
   "outputs": [
    {
     "name": "stdout",
     "output_type": "stream",
     "text": [
      "hello Jose\n"
     ]
    }
   ],
   "source": [
    "#functions-blocks of code that can be executed many times\n",
    "\n",
    "def name_of_function(name):\n",
    "    '''\n",
    "    comment of the function\n",
    "    '''\n",
    "    print(\"hello \" + name)\n",
    "name_of_function(\"Jose\")"
   ]
  },
  {
   "cell_type": "code",
   "execution_count": 5,
   "id": "e2c979fe-a34c-4628-8dbd-505abd772b4a",
   "metadata": {},
   "outputs": [
    {
     "name": "stdout",
     "output_type": "stream",
     "text": [
      "4\n"
     ]
    }
   ],
   "source": [
    "def add(num1,num2):\n",
    "    return num1+num2\n",
    "\n",
    "result = add(1,3)\n",
    "print(result)"
   ]
  },
  {
   "cell_type": "code",
   "execution_count": 7,
   "id": "b25f5380-0c97-4277-a636-6b6b988126c1",
   "metadata": {},
   "outputs": [
    {
     "name": "stdout",
     "output_type": "stream",
     "text": [
      "hello\n",
      "how are you\n",
      "Welcome\n"
     ]
    }
   ],
   "source": [
    "def say_hello():\n",
    "    print(\"hello\")\n",
    "    print(\"how are you\")\n",
    "    print(\"Welcome\")\n",
    "\n",
    "say_hello()"
   ]
  },
  {
   "cell_type": "code",
   "execution_count": 8,
   "id": "59de9e95-6475-4b4f-88ef-84bc40b1e795",
   "metadata": {},
   "outputs": [
    {
     "name": "stdout",
     "output_type": "stream",
     "text": [
      "hello\n",
      "how are you\n",
      "Welcome\n"
     ]
    }
   ],
   "source": [
    "say_hello()"
   ]
  },
  {
   "cell_type": "code",
   "execution_count": 9,
   "id": "b0442e36-ac58-45d3-8ef8-1db6a875b8fa",
   "metadata": {},
   "outputs": [
    {
     "name": "stdout",
     "output_type": "stream",
     "text": [
      "default\n"
     ]
    }
   ],
   "source": [
    "def say_hello(name=\"default\"):\n",
    "    print(name)\n",
    "\n",
    "say_hello()"
   ]
  },
  {
   "cell_type": "code",
   "execution_count": 10,
   "id": "71ffda61-f90a-484b-a2b8-275fd2e51c4a",
   "metadata": {},
   "outputs": [],
   "source": [
    "def print_result(a,b):\n",
    "    print(a+b)\n",
    "\n",
    "def return_result(a,b):\n",
    "    return a+b"
   ]
  },
  {
   "cell_type": "code",
   "execution_count": 14,
   "id": "9eb68de8-3237-4639-a87d-adad8ef4dee7",
   "metadata": {},
   "outputs": [
    {
     "name": "stdout",
     "output_type": "stream",
     "text": [
      "3\n"
     ]
    }
   ],
   "source": [
    "return1 = print_result(1,2)"
   ]
  },
  {
   "cell_type": "code",
   "execution_count": 15,
   "id": "6767ddb2-3ca4-47a7-804d-fd599fc80b94",
   "metadata": {},
   "outputs": [],
   "source": [
    "return1"
   ]
  },
  {
   "cell_type": "code",
   "execution_count": 16,
   "id": "b3fe5dd8-33fa-4cea-9c73-94740ea19274",
   "metadata": {},
   "outputs": [],
   "source": [
    "return2 = return_result(1,2)"
   ]
  },
  {
   "cell_type": "code",
   "execution_count": 17,
   "id": "f0eb6e49-d1ec-4854-b670-5b9f4dfc6563",
   "metadata": {},
   "outputs": [
    {
     "data": {
      "text/plain": [
       "3"
      ]
     },
     "execution_count": 17,
     "metadata": {},
     "output_type": "execute_result"
    }
   ],
   "source": [
    "return2"
   ]
  },
  {
   "cell_type": "code",
   "execution_count": 18,
   "id": "ff32e5fd-e066-4187-99df-2abe681af8ef",
   "metadata": {},
   "outputs": [],
   "source": [
    "return3 = return_result('1','2')"
   ]
  },
  {
   "cell_type": "code",
   "execution_count": 19,
   "id": "43491944-efaf-453d-b232-c75dcabf02e1",
   "metadata": {},
   "outputs": [
    {
     "data": {
      "text/plain": [
       "'12'"
      ]
     },
     "execution_count": 19,
     "metadata": {},
     "output_type": "execute_result"
    }
   ],
   "source": [
    "return3"
   ]
  },
  {
   "cell_type": "code",
   "execution_count": 20,
   "id": "00460304-11d1-4fc7-a9a8-462e2213c8d1",
   "metadata": {},
   "outputs": [],
   "source": [
    "#logic with python funtions\n",
    "def even_check(number):\n",
    "    result = (number % 2 == 0)\n",
    "    return(result)\n",
    "    "
   ]
  },
  {
   "cell_type": "code",
   "execution_count": 21,
   "id": "279eff41-8629-419e-a94e-864652bf0fee",
   "metadata": {},
   "outputs": [
    {
     "data": {
      "text/plain": [
       "True"
      ]
     },
     "execution_count": 21,
     "metadata": {},
     "output_type": "execute_result"
    }
   ],
   "source": [
    "even_check(20)"
   ]
  },
  {
   "cell_type": "code",
   "execution_count": 22,
   "id": "0afbc03b-c8f8-466c-a762-a681bb5b0e7b",
   "metadata": {},
   "outputs": [
    {
     "data": {
      "text/plain": [
       "False"
      ]
     },
     "execution_count": 22,
     "metadata": {},
     "output_type": "execute_result"
    }
   ],
   "source": [
    "even_check(23)"
   ]
  },
  {
   "cell_type": "code",
   "execution_count": 28,
   "id": "60cb7268-15fa-46aa-9c25-802d228d93d3",
   "metadata": {},
   "outputs": [],
   "source": [
    "#return true if any number is even inside a list\n",
    "\n",
    "def check_even_list(num_list):\n",
    "    for no in num_list:\n",
    "        if no %2==0:\n",
    "            return True\n",
    "        else:\n",
    "            pass\n",
    "    return False      "
   ]
  },
  {
   "cell_type": "code",
   "execution_count": 29,
   "id": "8c2af1b8-97b9-42f8-8544-19c1a82ffe1f",
   "metadata": {},
   "outputs": [
    {
     "data": {
      "text/plain": [
       "True"
      ]
     },
     "execution_count": 29,
     "metadata": {},
     "output_type": "execute_result"
    }
   ],
   "source": [
    "check_even_list([1,2,3,4])"
   ]
  },
  {
   "cell_type": "code",
   "execution_count": 30,
   "id": "31fa8283-eaff-454c-a2b1-e7a6b410a03a",
   "metadata": {},
   "outputs": [
    {
     "data": {
      "text/plain": [
       "False"
      ]
     },
     "execution_count": 30,
     "metadata": {},
     "output_type": "execute_result"
    }
   ],
   "source": [
    "check_even_list([9,7,5])"
   ]
  },
  {
   "cell_type": "code",
   "execution_count": 34,
   "id": "684da1a6-7586-4db6-a43b-2779198d8e9b",
   "metadata": {},
   "outputs": [],
   "source": [
    "#return all even numbers inside a list\n",
    "even_no = []\n",
    "def check_even_list(num_list):\n",
    "    for no in num_list:\n",
    "        if no %2==0:\n",
    "            even_no.append(no)\n",
    "        else:\n",
    "            pass\n",
    "    return even_no\n",
    "    \n"
   ]
  },
  {
   "cell_type": "code",
   "execution_count": 32,
   "id": "82e44273-1765-4e09-a254-e5fa4821ef90",
   "metadata": {},
   "outputs": [
    {
     "data": {
      "text/plain": [
       "[2, 4]"
      ]
     },
     "execution_count": 32,
     "metadata": {},
     "output_type": "execute_result"
    }
   ],
   "source": [
    "check_even_list([1,2,3,4])"
   ]
  },
  {
   "cell_type": "code",
   "execution_count": 35,
   "id": "de494f02-d467-4f2c-bc50-72f4684431f7",
   "metadata": {},
   "outputs": [
    {
     "data": {
      "text/plain": [
       "[]"
      ]
     },
     "execution_count": 35,
     "metadata": {},
     "output_type": "execute_result"
    }
   ],
   "source": [
    "check_even_list([9,7,5])"
   ]
  },
  {
   "cell_type": "code",
   "execution_count": 36,
   "id": "2d8f58f6-2c14-482f-9467-755464d073c8",
   "metadata": {},
   "outputs": [],
   "source": [
    "#Tuples and functions\n",
    "stock_prices = [('apple',200),('google',250),('msft',100)]"
   ]
  },
  {
   "cell_type": "code",
   "execution_count": 37,
   "id": "4de0813c-ac84-4dfd-9f3c-bccde611ba2a",
   "metadata": {},
   "outputs": [
    {
     "name": "stdout",
     "output_type": "stream",
     "text": [
      "('apple', 200)\n",
      "('google', 250)\n",
      "('msft', 100)\n"
     ]
    }
   ],
   "source": [
    "for item in stock_prices:\n",
    "    print(item)"
   ]
  },
  {
   "cell_type": "code",
   "execution_count": 38,
   "id": "3889b14d-0fd0-430c-b756-f8dc2cd5df8a",
   "metadata": {},
   "outputs": [
    {
     "name": "stdout",
     "output_type": "stream",
     "text": [
      "apple\n",
      "200\n",
      "google\n",
      "250\n",
      "msft\n",
      "100\n"
     ]
    }
   ],
   "source": [
    "for ticker,price in stock_prices:\n",
    "    print(ticker)\n",
    "    print(price)"
   ]
  },
  {
   "cell_type": "code",
   "execution_count": 43,
   "id": "be067228-9300-4607-81e1-63a28c56397d",
   "metadata": {},
   "outputs": [],
   "source": [
    "work_hours = [('Abby',100),('Cassy',800),('Billy',3000)]"
   ]
  },
  {
   "cell_type": "code",
   "execution_count": 44,
   "id": "d1a3309c-d1bd-4685-8358-77dad8f74a0e",
   "metadata": {},
   "outputs": [],
   "source": [
    "def employee_check(work_hours):\n",
    "    current_max = 0\n",
    "    employee_of_month = ''\n",
    "\n",
    "    for employee,hours in work_hours:\n",
    "        if hours > current_max:\n",
    "            current_max =hours\n",
    "            employee_of_month = employee\n",
    "        else:\n",
    "            pass\n",
    "\n",
    "    return(employee_of_month,current_max)"
   ]
  },
  {
   "cell_type": "code",
   "execution_count": 45,
   "id": "1e5de3f8-c274-4bcb-96b6-6d72ecb41eec",
   "metadata": {},
   "outputs": [
    {
     "data": {
      "text/plain": [
       "('Billy', 3000)"
      ]
     },
     "execution_count": 45,
     "metadata": {},
     "output_type": "execute_result"
    }
   ],
   "source": [
    "employee_check(work_hours)"
   ]
  },
  {
   "cell_type": "code",
   "execution_count": 46,
   "id": "50a399a0-be3d-46e2-9bce-d4eed913cf1c",
   "metadata": {},
   "outputs": [],
   "source": [
    "name,hours = employee_check(work_hours)"
   ]
  },
  {
   "cell_type": "code",
   "execution_count": 47,
   "id": "d389ce13-a258-4b98-a8d0-b9d15659249f",
   "metadata": {},
   "outputs": [
    {
     "data": {
      "text/plain": [
       "'Billy'"
      ]
     },
     "execution_count": 47,
     "metadata": {},
     "output_type": "execute_result"
    }
   ],
   "source": [
    "name"
   ]
  },
  {
   "cell_type": "code",
   "execution_count": 48,
   "id": "0cdb7b88-b382-4da9-99f1-fe5d73ebed41",
   "metadata": {},
   "outputs": [
    {
     "data": {
      "text/plain": [
       "3000"
      ]
     },
     "execution_count": 48,
     "metadata": {},
     "output_type": "execute_result"
    }
   ],
   "source": [
    "hours"
   ]
  },
  {
   "cell_type": "code",
   "execution_count": 49,
   "id": "d4e7ab49-1558-4be5-8c81-dea3800a6cc2",
   "metadata": {},
   "outputs": [],
   "source": [
    "#interactions between functions\n",
    "example = [1,2,3,4,5]\n",
    "\n",
    "from random import shuffle"
   ]
  },
  {
   "cell_type": "code",
   "execution_count": 50,
   "id": "28579f8b-3418-4543-9646-7763a6f4321b",
   "metadata": {},
   "outputs": [
    {
     "data": {
      "text/plain": [
       "[2, 4, 3, 1, 5]"
      ]
     },
     "execution_count": 50,
     "metadata": {},
     "output_type": "execute_result"
    }
   ],
   "source": [
    "shuffle(example)\n",
    "\n",
    "example"
   ]
  },
  {
   "cell_type": "code",
   "execution_count": 51,
   "id": "88473c5b-a028-4344-ba4f-59d8c1701734",
   "metadata": {},
   "outputs": [],
   "source": [
    "def shuffle_list(mylist):\n",
    "    shuffle(mylist)\n",
    "    return mylist\n",
    "    "
   ]
  },
  {
   "cell_type": "code",
   "execution_count": 55,
   "id": "0d34f728-b710-4e55-8922-be75bcb37e83",
   "metadata": {},
   "outputs": [
    {
     "data": {
      "text/plain": [
       "[2, 4, 3, 5, 1]"
      ]
     },
     "execution_count": 55,
     "metadata": {},
     "output_type": "execute_result"
    }
   ],
   "source": [
    "result = shuffle_list(example)\n",
    "result"
   ]
  },
  {
   "cell_type": "code",
   "execution_count": 53,
   "id": "998d9511-d705-4236-b49a-ef1945cd91fd",
   "metadata": {},
   "outputs": [
    {
     "data": {
      "text/plain": [
       "[1, 2, 4, 3, 5]"
      ]
     },
     "execution_count": 53,
     "metadata": {},
     "output_type": "execute_result"
    }
   ],
   "source": [
    "result"
   ]
  },
  {
   "cell_type": "code",
   "execution_count": 56,
   "id": "0c4fe654-d0d4-40c6-99ee-86eda445a81e",
   "metadata": {},
   "outputs": [],
   "source": [
    "#game where ball present in the three cups\n",
    "mylist =[' ', 'O',' ']"
   ]
  },
  {
   "cell_type": "code",
   "execution_count": 58,
   "id": "ffe42517-dd5f-41da-ab63-eea6a665cd72",
   "metadata": {},
   "outputs": [
    {
     "data": {
      "text/plain": [
       "['O', ' ', ' ']"
      ]
     },
     "execution_count": 58,
     "metadata": {},
     "output_type": "execute_result"
    }
   ],
   "source": [
    "shuffle_list(mylist)"
   ]
  },
  {
   "cell_type": "code",
   "execution_count": 59,
   "id": "83936f7b-2d3a-4f2d-aee5-c41e3104be62",
   "metadata": {},
   "outputs": [],
   "source": [
    "def player_guess():\n",
    "    guess = ''\n",
    "\n",
    "    while guess not in ['0','1','2']:\n",
    "        guess = input(\"Pick a number 0 or 1 or 2: \")\n",
    "\n",
    "    return int(guess)"
   ]
  },
  {
   "cell_type": "code",
   "execution_count": 60,
   "id": "e9056cce-dc49-4168-965b-6f64addf48cd",
   "metadata": {},
   "outputs": [
    {
     "name": "stdin",
     "output_type": "stream",
     "text": [
      "Pick a number 0 or 1 or 2:  4\n",
      "Pick a number 0 or 1 or 2:  2\n"
     ]
    },
    {
     "data": {
      "text/plain": [
       "2"
      ]
     },
     "execution_count": 60,
     "metadata": {},
     "output_type": "execute_result"
    }
   ],
   "source": [
    "player_guess()\n"
   ]
  },
  {
   "cell_type": "code",
   "execution_count": 62,
   "id": "84aa59f6-5bf5-4278-bcb6-b4d557707cc0",
   "metadata": {},
   "outputs": [
    {
     "name": "stdin",
     "output_type": "stream",
     "text": [
      "Pick a number 0 or 1 or 2:  2\n"
     ]
    },
    {
     "data": {
      "text/plain": [
       "2"
      ]
     },
     "execution_count": 62,
     "metadata": {},
     "output_type": "execute_result"
    }
   ],
   "source": [
    "myindex= player_guess()\n",
    "myindex"
   ]
  },
  {
   "cell_type": "code",
   "execution_count": 63,
   "id": "314b3e34-cec9-436d-a72f-972dd0531db4",
   "metadata": {},
   "outputs": [],
   "source": [
    "def check_guess(mylist,guess):\n",
    "    if mylist[guess] == 'O':\n",
    "        print(\"Correct\")\n",
    "    else:\n",
    "        print(\"Wrong Guess\")\n",
    "        print(mylist)"
   ]
  },
  {
   "cell_type": "code",
   "execution_count": 67,
   "id": "de085748-1bb9-45be-8ecb-67d791aeb13d",
   "metadata": {},
   "outputs": [
    {
     "name": "stdin",
     "output_type": "stream",
     "text": [
      "Pick a number 0 or 1 or 2:  0\n"
     ]
    },
    {
     "name": "stdout",
     "output_type": "stream",
     "text": [
      "Correct\n"
     ]
    }
   ],
   "source": [
    "#initial list\n",
    "mylist =[' ', 'O',' ']\n",
    "\n",
    "#shuffle the list\n",
    "\n",
    "mixed_list = shuffle_list(mylist)\n",
    "\n",
    "#users guess\n",
    "guess = player_guess()\n",
    "\n",
    "#check the guess\n",
    "\n",
    "check_guess(mixed_list,guess)"
   ]
  },
  {
   "cell_type": "code",
   "execution_count": 71,
   "id": "56e9f122-0e72-434d-854f-329b7cba17d2",
   "metadata": {},
   "outputs": [
    {
     "data": {
      "text/plain": [
       "10.5"
      ]
     },
     "execution_count": 71,
     "metadata": {},
     "output_type": "execute_result"
    }
   ],
   "source": [
    "#args and kwargs in python\n",
    "\n",
    "def myfunc(a,b,c=0,d=0):\n",
    "    #return 5% of sum of a and b\n",
    "    return sum((a,b,c,d)) * 0.05\n",
    "\n",
    "myfunc(40,60,50,60)"
   ]
  },
  {
   "cell_type": "code",
   "execution_count": 72,
   "id": "6a3222a5-58c6-4e06-99f2-391359761323",
   "metadata": {},
   "outputs": [
    {
     "data": {
      "text/plain": [
       "0.5"
      ]
     },
     "execution_count": 72,
     "metadata": {},
     "output_type": "execute_result"
    }
   ],
   "source": [
    "def myfunc(*args): #tuples\n",
    "    return sum(args)*0.05\n",
    "\n",
    "myfunc(1,4,5)"
   ]
  },
  {
   "cell_type": "code",
   "execution_count": 73,
   "id": "4f40821a-c92b-48c3-b6b3-ae0be7416c34",
   "metadata": {},
   "outputs": [
    {
     "data": {
      "text/plain": [
       "7.15"
      ]
     },
     "execution_count": 73,
     "metadata": {},
     "output_type": "execute_result"
    }
   ],
   "source": [
    "myfunc(3,50,70,5,7,8)"
   ]
  },
  {
   "cell_type": "code",
   "execution_count": 74,
   "id": "164821e4-fe8a-4b7e-ad78-774619e43a57",
   "metadata": {},
   "outputs": [
    {
     "name": "stdout",
     "output_type": "stream",
     "text": [
      "10\n",
      "20\n",
      "30\n",
      "40\n"
     ]
    }
   ],
   "source": [
    "def myfunc(*args):\n",
    "    for item in args:\n",
    "        print(item)\n",
    "myfunc(10,20,30,40)"
   ]
  },
  {
   "cell_type": "code",
   "execution_count": 77,
   "id": "709ce77d-a4ee-455f-8de9-8095f06926f8",
   "metadata": {},
   "outputs": [],
   "source": [
    "def myfuc(**kwargs): #dictionary\n",
    "    print(kwargs)\n",
    "    if 'fruit' in kwargs:\n",
    "        print('My fruit choice us {}'.format(kwargs['fruit']))\n",
    "    else:\n",
    "        print(\"I did not find any fruit here\")"
   ]
  },
  {
   "cell_type": "code",
   "execution_count": 78,
   "id": "4409c31c-188c-4bb1-bdac-ab3a624d2040",
   "metadata": {},
   "outputs": [
    {
     "name": "stdout",
     "output_type": "stream",
     "text": [
      "{'fruit': 'apple', 'veggie': 'carrot'}\n",
      "My fruit choice us apple\n"
     ]
    }
   ],
   "source": [
    "myfuc(fruit='apple',veggie='carrot')"
   ]
  },
  {
   "cell_type": "code",
   "execution_count": 80,
   "id": "c0c39c67-1d21-467d-8a2e-06acef728e09",
   "metadata": {},
   "outputs": [],
   "source": [
    "def myfunc(*args,**kwargs):\n",
    "    print(args)\n",
    "    print(kwargs)\n",
    "    print(\"I like {} {}\".format(args[0],kwargs['food']))"
   ]
  },
  {
   "cell_type": "code",
   "execution_count": 81,
   "id": "d8388e9d-fcc7-498d-b2aa-fe47c259853b",
   "metadata": {},
   "outputs": [
    {
     "name": "stdout",
     "output_type": "stream",
     "text": [
      "(10, 20, 30)\n",
      "{'food': 'eggs', 'fruit': 'apple'}\n",
      "I like 10 eggs\n"
     ]
    }
   ],
   "source": [
    "myfunc(10,20,30,food='eggs',fruit='apple')"
   ]
  },
  {
   "cell_type": "code",
   "execution_count": 101,
   "id": "2708c74a-4ca5-4033-ba0b-c36215917f98",
   "metadata": {},
   "outputs": [],
   "source": [
    "def myfunc(name):\n",
    "    mylist = []\n",
    "    for x in name:\n",
    "        mylist.append(x)\n",
    "    a=0\n",
    "    while True:\n",
    "        if a%2 == 0:\n",
    "            if mylist[a] == mylist[-1]:\n",
    "                mylist[a] = mylist[a].upper()\n",
    "            else:\n",
    "                mylist[a] = mylist[a].upper()\n",
    "                a += 1\n",
    "                continue\n",
    "        elif a%2 !=0:\n",
    "            if mylist[a] == mylist[-1]:\n",
    "                mylist[a] = mylist[a].lower()\n",
    "            else:\n",
    "                mylist[a] = mylist[a].lower()\n",
    "                a +=1\n",
    "                continue\n",
    "        \n",
    "        break\n",
    "    return mylist\n"
   ]
  },
  {
   "cell_type": "code",
   "execution_count": 102,
   "id": "88dedf35-7d94-4ba4-9b60-f82ba29c831f",
   "metadata": {},
   "outputs": [
    {
     "data": {
      "text/plain": [
       "['P', 'r', 'I', 'y', 'A']"
      ]
     },
     "execution_count": 102,
     "metadata": {},
     "output_type": "execute_result"
    }
   ],
   "source": [
    "result = myfunc('priya')\n",
    "result"
   ]
  },
  {
   "cell_type": "code",
   "execution_count": 108,
   "id": "3cb17321-6ac0-4b6f-aed9-4d7467071415",
   "metadata": {},
   "outputs": [
    {
     "name": "stdout",
     "output_type": "stream",
     "text": [
      "1\n",
      "4\n",
      "9\n",
      "16\n",
      "25\n"
     ]
    }
   ],
   "source": [
    "#map function\n",
    "def square(num):\n",
    "    return num**2\n",
    "\n",
    "my_nums = [1,2,3,4,5]\n",
    "\n",
    "for item in map(square,my_nums):\n",
    "    print(item)"
   ]
  },
  {
   "cell_type": "code",
   "execution_count": 109,
   "id": "5f318868-a655-4c20-8343-d4b95b5b5060",
   "metadata": {},
   "outputs": [
    {
     "data": {
      "text/plain": [
       "['Even', 'e', 's']"
      ]
     },
     "execution_count": 109,
     "metadata": {},
     "output_type": "execute_result"
    }
   ],
   "source": [
    "def splicer(mystring):\n",
    "    if len(mystring)%2==0:\n",
    "        return 'Even'\n",
    "    else:\n",
    "        return mystring[0]\n",
    "\n",
    "names= ['andy','eve','sally']\n",
    "\n",
    "list(map(splicer,names))"
   ]
  },
  {
   "cell_type": "code",
   "execution_count": 110,
   "id": "d183f679-4244-4c2e-b7e1-ab73fc55f5a0",
   "metadata": {},
   "outputs": [
    {
     "data": {
      "text/plain": [
       "[2, 4, 6]"
      ]
     },
     "execution_count": 110,
     "metadata": {},
     "output_type": "execute_result"
    }
   ],
   "source": [
    "#filter function\n",
    "def check_even(num):\n",
    "    return num%2==0\n",
    "\n",
    "mynums =[1,2,3,4,5,6]\n",
    "\n",
    "list(filter(check_even,mynums))"
   ]
  },
  {
   "cell_type": "code",
   "execution_count": 111,
   "id": "ae514086-b089-4f6b-8bf8-fdc8695db438",
   "metadata": {},
   "outputs": [
    {
     "name": "stdout",
     "output_type": "stream",
     "text": [
      "2\n",
      "4\n",
      "6\n"
     ]
    }
   ],
   "source": [
    "for n in filter(check_even,mynums):\n",
    "    print(n)"
   ]
  },
  {
   "cell_type": "code",
   "execution_count": 116,
   "id": "d77a8c2c-f069-43ef-82a1-d771d7c4fc8c",
   "metadata": {},
   "outputs": [],
   "source": [
    "#lambda expression\n",
    "square = lambda num: num ** 2"
   ]
  },
  {
   "cell_type": "code",
   "execution_count": 117,
   "id": "db9b91a6-7f7e-4c2e-9b11-171faded0bbd",
   "metadata": {},
   "outputs": [
    {
     "data": {
      "text/plain": [
       "9"
      ]
     },
     "execution_count": 117,
     "metadata": {},
     "output_type": "execute_result"
    }
   ],
   "source": [
    "square(3)"
   ]
  },
  {
   "cell_type": "code",
   "execution_count": 118,
   "id": "b2bf811a-f03a-4272-80ec-44e21c76ec13",
   "metadata": {},
   "outputs": [
    {
     "data": {
      "text/plain": [
       "[1, 4, 9, 16, 25, 36]"
      ]
     },
     "execution_count": 118,
     "metadata": {},
     "output_type": "execute_result"
    }
   ],
   "source": [
    "list(map(lambda num: num ** 2,mynums))"
   ]
  },
  {
   "cell_type": "code",
   "execution_count": 119,
   "id": "ecf287c7-6cbd-4c36-92e0-992b0db916f7",
   "metadata": {},
   "outputs": [
    {
     "data": {
      "text/plain": [
       "['andy', 'eve', 'sally']"
      ]
     },
     "execution_count": 119,
     "metadata": {},
     "output_type": "execute_result"
    }
   ],
   "source": [
    "names"
   ]
  },
  {
   "cell_type": "code",
   "execution_count": 121,
   "id": "b7243274-ab00-4469-8470-fe6c3b779fdd",
   "metadata": {},
   "outputs": [
    {
     "data": {
      "text/plain": [
       "['ydna', 'eve', 'yllas']"
      ]
     },
     "execution_count": 121,
     "metadata": {},
     "output_type": "execute_result"
    }
   ],
   "source": [
    "list(map(lambda name: name[::-1],names))"
   ]
  },
  {
   "cell_type": "code",
   "execution_count": 122,
   "id": "a014d9e1-1362-4d71-927f-db77add6c317",
   "metadata": {},
   "outputs": [],
   "source": [
    "#nested statements\n",
    "x = 25\n",
    "\n",
    "def printer():\n",
    "    x = 50\n",
    "    return x"
   ]
  },
  {
   "cell_type": "code",
   "execution_count": 123,
   "id": "7ee3c819-df0b-434f-b6ac-5cbf1aa7fa3d",
   "metadata": {},
   "outputs": [
    {
     "name": "stdout",
     "output_type": "stream",
     "text": [
      "25\n"
     ]
    }
   ],
   "source": [
    "print(x)"
   ]
  },
  {
   "cell_type": "code",
   "execution_count": 124,
   "id": "962cea96-826c-47ee-b1fe-be7be09ce766",
   "metadata": {},
   "outputs": [
    {
     "name": "stdout",
     "output_type": "stream",
     "text": [
      "50\n"
     ]
    }
   ],
   "source": [
    "print(printer())"
   ]
  },
  {
   "cell_type": "code",
   "execution_count": 126,
   "id": "36f59850-4bd6-425a-80fe-fd034a23b259",
   "metadata": {},
   "outputs": [],
   "source": [
    "#lambda num: num**2 #num local variable to lambda function\n"
   ]
  },
  {
   "cell_type": "code",
   "execution_count": 130,
   "id": "7f860613-05b2-44e6-9a00-b4e4f52461dc",
   "metadata": {},
   "outputs": [
    {
     "name": "stdout",
     "output_type": "stream",
     "text": [
      "Hello Sammy\n"
     ]
    }
   ],
   "source": [
    "name = \"This is a global string\"\n",
    "\n",
    "def greet():\n",
    "    name ='Sammy'\n",
    "    def hello():\n",
    "        print ('Hello '+name)\n",
    "    hello()\n",
    "\n",
    "greet()"
   ]
  },
  {
   "cell_type": "code",
   "execution_count": 131,
   "id": "eaf06d24-b1a2-4259-9c8c-77b531a3eb7a",
   "metadata": {},
   "outputs": [
    {
     "name": "stdout",
     "output_type": "stream",
     "text": [
      "Hello This is a global string\n"
     ]
    }
   ],
   "source": [
    "name = \"This is a global string\"\n",
    "\n",
    "def greet():\n",
    "    #name ='Sammy'\n",
    "    def hello():\n",
    "        print ('Hello '+name)\n",
    "    hello()\n",
    "\n",
    "greet()"
   ]
  },
  {
   "cell_type": "code",
   "execution_count": 132,
   "id": "13500241-1c40-4dfa-87eb-bd541d716d67",
   "metadata": {},
   "outputs": [
    {
     "name": "stdout",
     "output_type": "stream",
     "text": [
      "Hello I am local\n"
     ]
    }
   ],
   "source": [
    "name = \"This is a global string\"\n",
    "\n",
    "def greet():\n",
    "    name ='Sammy'\n",
    "    def hello():\n",
    "        name = 'I am local'\n",
    "        print ('Hello '+name)\n",
    "    hello()\n",
    "\n",
    "greet()"
   ]
  },
  {
   "cell_type": "code",
   "execution_count": 135,
   "id": "03d6770e-05ed-4f4d-bc04-ed7eee5bfd9a",
   "metadata": {},
   "outputs": [],
   "source": [
    "x =50\n",
    "def func(x):\n",
    "    print(f'X is {x}')\n",
    "    x=100\n",
    "    print(f'X is now {x}')"
   ]
  },
  {
   "cell_type": "code",
   "execution_count": 136,
   "id": "be1dce02-679f-4001-b49f-ea91692df56e",
   "metadata": {},
   "outputs": [
    {
     "name": "stdout",
     "output_type": "stream",
     "text": [
      "X is 50\n",
      "X is now 100\n"
     ]
    }
   ],
   "source": [
    "func(x)"
   ]
  },
  {
   "cell_type": "code",
   "execution_count": 137,
   "id": "50abfddb-d23f-416d-97ac-c36cfa6a1651",
   "metadata": {},
   "outputs": [
    {
     "name": "stdout",
     "output_type": "stream",
     "text": [
      "50\n"
     ]
    }
   ],
   "source": [
    "print(x)"
   ]
  },
  {
   "cell_type": "code",
   "execution_count": 144,
   "id": "2fb0983b-eae4-4aa1-a003-438f21061e32",
   "metadata": {},
   "outputs": [],
   "source": [
    "x =50\n",
    "def func():\n",
    "    global x\n",
    "    print(f'X is {x}')\n",
    "    x=100\n",
    "    print(f'X is now {x}')"
   ]
  },
  {
   "cell_type": "code",
   "execution_count": 146,
   "id": "d3346565-bcc0-4512-9992-215be04c5ca0",
   "metadata": {},
   "outputs": [
    {
     "name": "stdout",
     "output_type": "stream",
     "text": [
      "X is 50\n",
      "X is now 100\n"
     ]
    }
   ],
   "source": [
    "func()"
   ]
  },
  {
   "cell_type": "code",
   "execution_count": 147,
   "id": "ebd20f1b-f1e2-45fe-83c8-151fba55e1b2",
   "metadata": {},
   "outputs": [
    {
     "name": "stdout",
     "output_type": "stream",
     "text": [
      "100\n"
     ]
    }
   ],
   "source": [
    "print(x)"
   ]
  },
  {
   "cell_type": "code",
   "execution_count": null,
   "id": "fc37eead-1e37-4041-82e8-20aa1a7737fd",
   "metadata": {},
   "outputs": [],
   "source": []
  }
 ],
 "metadata": {
  "kernelspec": {
   "display_name": "Python 3.10.4 (pyenv)",
   "language": "python",
   "name": "pyenv3104"
  },
  "language_info": {
   "codemirror_mode": {
    "name": "ipython",
    "version": 3
   },
   "file_extension": ".py",
   "mimetype": "text/x-python",
   "name": "python",
   "nbconvert_exporter": "python",
   "pygments_lexer": "ipython3",
   "version": "3.10.4"
  }
 },
 "nbformat": 4,
 "nbformat_minor": 5
}
