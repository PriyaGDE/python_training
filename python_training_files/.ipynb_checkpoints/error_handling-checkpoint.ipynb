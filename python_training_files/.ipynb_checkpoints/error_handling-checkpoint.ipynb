{
 "cells": [
  {
   "cell_type": "code",
   "execution_count": 1,
   "id": "3d41005b-2cb8-4690-b4e7-357071414851",
   "metadata": {},
   "outputs": [],
   "source": [
    "#pip install package name to install\n"
   ]
  },
  {
   "cell_type": "code",
   "execution_count": 2,
   "id": "02672f37-75a2-41b3-9630-2fdbbe4473af",
   "metadata": {},
   "outputs": [],
   "source": [
    "#error handling\n",
    "#keywords-try,except,finally\n",
    "#try-may or may not lead to error\n",
    "#except-if any error occurs\n",
    "#finally always executed if error occured or not"
   ]
  },
  {
   "cell_type": "code",
   "execution_count": 3,
   "id": "4ae05ea4-47ef-460f-b093-a13b70a53abe",
   "metadata": {},
   "outputs": [],
   "source": [
    "def add(n1,n2):\n",
    "    print(n1+n2)"
   ]
  },
  {
   "cell_type": "code",
   "execution_count": 4,
   "id": "4155a9b1-0e61-4592-8c2a-e506ffb16ca6",
   "metadata": {},
   "outputs": [
    {
     "name": "stdout",
     "output_type": "stream",
     "text": [
      "30\n"
     ]
    }
   ],
   "source": [
    "add(10,20)"
   ]
  },
  {
   "cell_type": "code",
   "execution_count": 5,
   "id": "cbbb2bce-1cc8-410f-b781-f8da22770354",
   "metadata": {},
   "outputs": [
    {
     "name": "stdin",
     "output_type": "stream",
     "text": [
      "Please provide a no:  20\n"
     ]
    }
   ],
   "source": [
    "number1=10\n",
    "\n",
    "number2 = input(\"Please provide a no: \")\n",
    "\n"
   ]
  },
  {
   "cell_type": "code",
   "execution_count": 7,
   "id": "cfd1ac2d-9af9-4e6a-86b1-76b1dac963aa",
   "metadata": {},
   "outputs": [
    {
     "ename": "TypeError",
     "evalue": "unsupported operand type(s) for +: 'int' and 'str'",
     "output_type": "error",
     "traceback": [
      "\u001b[0;31m---------------------------------------------------------------------------\u001b[0m",
      "\u001b[0;31mTypeError\u001b[0m                                 Traceback (most recent call last)",
      "Cell \u001b[0;32mIn[7], line 1\u001b[0m\n\u001b[0;32m----> 1\u001b[0m \u001b[43madd\u001b[49m\u001b[43m(\u001b[49m\u001b[43mnumber1\u001b[49m\u001b[43m,\u001b[49m\u001b[43mnumber2\u001b[49m\u001b[43m)\u001b[49m\n\u001b[1;32m      2\u001b[0m \u001b[38;5;28mprint\u001b[39m(\u001b[38;5;124m\"\u001b[39m\u001b[38;5;124msomething happened\u001b[39m\u001b[38;5;124m\"\u001b[39m)\n",
      "Cell \u001b[0;32mIn[3], line 2\u001b[0m, in \u001b[0;36madd\u001b[0;34m(n1, n2)\u001b[0m\n\u001b[1;32m      1\u001b[0m \u001b[38;5;28;01mdef\u001b[39;00m \u001b[38;5;21madd\u001b[39m(n1,n2):\n\u001b[0;32m----> 2\u001b[0m     \u001b[38;5;28mprint\u001b[39m(\u001b[43mn1\u001b[49m\u001b[38;5;241;43m+\u001b[39;49m\u001b[43mn2\u001b[49m)\n",
      "\u001b[0;31mTypeError\u001b[0m: unsupported operand type(s) for +: 'int' and 'str'"
     ]
    }
   ],
   "source": [
    "add(number1,number2)\n",
    "print(\"something happened\")"
   ]
  },
  {
   "cell_type": "code",
   "execution_count": 12,
   "id": "847a1c10-87d8-4c06-b55d-463863e5d1a6",
   "metadata": {},
   "outputs": [
    {
     "name": "stdout",
     "output_type": "stream",
     "text": [
      "Hey it looks like you aren't adding correctly!\n"
     ]
    }
   ],
   "source": [
    "try:\n",
    "    add(number1,number2)\n",
    "except:\n",
    "    print(\"Hey it looks like you aren't adding correctly!\")\n",
    "else:\n",
    "    print(\"something happened\")"
   ]
  },
  {
   "cell_type": "code",
   "execution_count": 13,
   "id": "73ec8b5d-f6a2-483c-95f2-01eebb617d90",
   "metadata": {},
   "outputs": [
    {
     "name": "stdout",
     "output_type": "stream",
     "text": [
      "something happened\n",
      "3\n"
     ]
    }
   ],
   "source": [
    "try:\n",
    "    add21 = 1+2\n",
    "except:\n",
    "    print(\"Hey it looks like you aren't adding correctly!\")\n",
    "else:\n",
    "    print(\"something happened\")\n",
    "    print(add21)"
   ]
  },
  {
   "cell_type": "code",
   "execution_count": 17,
   "id": "6df2d1b9-ca5c-43ec-a09d-f84633757f3f",
   "metadata": {},
   "outputs": [
    {
     "name": "stdout",
     "output_type": "stream",
     "text": [
      "I always are run\n"
     ]
    }
   ],
   "source": [
    "try:\n",
    "    f = open('text1','w')\n",
    "    f.write(\"write a test line\")\n",
    "except TypeError:\n",
    "    print(\"There was a type error!!\")\n",
    "except OSError:\n",
    "    print(\"These was a OS Error!!\")\n",
    "finally:\n",
    "    print(\"I always are run\")"
   ]
  },
  {
   "cell_type": "code",
   "execution_count": 18,
   "id": "0300927e-5d0b-46b8-afb1-04b230abede4",
   "metadata": {},
   "outputs": [
    {
     "name": "stdout",
     "output_type": "stream",
     "text": [
      "These was a OS Error!!\n",
      "I always are run\n"
     ]
    }
   ],
   "source": [
    "try:\n",
    "    f = open('text2','r')\n",
    "    f.write(\"write a test line\")\n",
    "except TypeError:\n",
    "    print(\"There was a type error!!\")\n",
    "except OSError:\n",
    "    print(\"These was a OS Error!!\")\n",
    "finally:\n",
    "    print(\"I always are run\")"
   ]
  },
  {
   "cell_type": "code",
   "execution_count": 19,
   "id": "427aed0b-b007-47d1-bfe9-b1cee6dca354",
   "metadata": {},
   "outputs": [],
   "source": [
    "def ask_for_int():\n",
    "    try:\n",
    "        result = int(input(\"Please provide the no:\"))\n",
    "    except:\n",
    "        print(\"Thats not a number\")\n",
    "    finally:\n",
    "        print(\"The End of this block!!\")"
   ]
  },
  {
   "cell_type": "code",
   "execution_count": 22,
   "id": "3438246c-89d2-4613-9fb6-a2ac5af6af41",
   "metadata": {},
   "outputs": [
    {
     "name": "stdin",
     "output_type": "stream",
     "text": [
      "Please provide the no: 20\n"
     ]
    },
    {
     "name": "stdout",
     "output_type": "stream",
     "text": [
      "The End of this block!!\n"
     ]
    }
   ],
   "source": [
    "ask_for_int()"
   ]
  },
  {
   "cell_type": "code",
   "execution_count": 23,
   "id": "04918624-6957-400a-a269-caba46ee6c29",
   "metadata": {},
   "outputs": [
    {
     "name": "stdin",
     "output_type": "stream",
     "text": [
      "Please provide the no: eerr\n"
     ]
    },
    {
     "name": "stdout",
     "output_type": "stream",
     "text": [
      "Thats not a number\n",
      "The End of this block!!\n"
     ]
    }
   ],
   "source": [
    "ask_for_int()"
   ]
  },
  {
   "cell_type": "code",
   "execution_count": 26,
   "id": "553731ec-7898-4ac9-9e60-0860533cde70",
   "metadata": {},
   "outputs": [],
   "source": [
    "def ask_for_int():\n",
    "    while True:\n",
    "        try:\n",
    "            result = int(input(\"Please provide the no:\"))\n",
    "        except:\n",
    "            print(\"Thats not a number\")\n",
    "            continue\n",
    "        else:\n",
    "            print(\"Yes thank you\")\n",
    "            break\n",
    "        finally:\n",
    "            print(\"The End of this block!!\")\n",
    "            print(\"I will always run at the end\")"
   ]
  },
  {
   "cell_type": "code",
   "execution_count": 27,
   "id": "702cb396-795d-4114-8afb-5f31ab613ac5",
   "metadata": {},
   "outputs": [
    {
     "name": "stdin",
     "output_type": "stream",
     "text": [
      "Please provide the no: ee\n"
     ]
    },
    {
     "name": "stdout",
     "output_type": "stream",
     "text": [
      "Thats not a number\n",
      "The End of this block!!\n",
      "I will always run at the end\n"
     ]
    },
    {
     "name": "stdin",
     "output_type": "stream",
     "text": [
      "Please provide the no: 2\n"
     ]
    },
    {
     "name": "stdout",
     "output_type": "stream",
     "text": [
      "Yes thank you\n",
      "The End of this block!!\n",
      "I will always run at the end\n"
     ]
    }
   ],
   "source": [
    "ask_for_int()"
   ]
  },
  {
   "cell_type": "code",
   "execution_count": null,
   "id": "1112b53e-7854-43e7-9f23-715e7ae765ad",
   "metadata": {},
   "outputs": [],
   "source": [
    "#pylint--unit testing\n",
    "\n",
    "#pylint myexample.py -r y"
   ]
  }
 ],
 "metadata": {
  "kernelspec": {
   "display_name": "Python 3.10.4 (pyenv)",
   "language": "python",
   "name": "pyenv3104"
  },
  "language_info": {
   "codemirror_mode": {
    "name": "ipython",
    "version": 3
   },
   "file_extension": ".py",
   "mimetype": "text/x-python",
   "name": "python",
   "nbconvert_exporter": "python",
   "pygments_lexer": "ipython3",
   "version": "3.10.4"
  }
 },
 "nbformat": 4,
 "nbformat_minor": 5
}
