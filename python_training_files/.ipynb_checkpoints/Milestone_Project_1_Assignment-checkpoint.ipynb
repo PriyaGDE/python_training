{
 "cells": [
  {
   "cell_type": "markdown",
   "metadata": {},
   "source": [
    "___\n",
    "\n",
    "<a href='https://www.udemy.com/user/joseportilla/'><img src='../Pierian_Data_Logo.png'/></a>\n",
    "___\n",
    "<center><em>Content Copyright by Pierian Data</em></center>"
   ]
  },
  {
   "cell_type": "markdown",
   "metadata": {},
   "source": [
    "# Milestone Project 1\n",
    "## Congratulations on making it to your first milestone!\n",
    "You've already learned a ton and are ready to work on a real project.\n",
    "\n",
    "Your assignment: Create a Tic Tac Toe game. You are free to use any IDE you like.\n",
    "\n",
    "Here are the requirements:\n",
    "\n",
    "* 2 players should be able to play the game (both sitting at the same computer)\n",
    "* The board should be printed out every time a player makes a move\n",
    "* You should be able to accept input of the player position and then place a symbol on the board\n",
    "\n",
    "Feel free to use Google or any chatbot to help you figure anything out (but don't just ask \"Tic Tac Toe in Python\" otherwise you won't learn anything!) Keep in mind that this project can take anywhere between several hours to several days.\n",
    "\n",
    "There are 4 Jupyter Notebooks related to this assignment:\n",
    "\n",
    "* This Assignment Notebook\n",
    "* A \"Walkthrough Steps Workbook\" Notebook\n",
    "* A \"Complete Walkthrough Solution\" Notebook\n",
    "* An \"Advanced Solution\" Notebook\n",
    "\n",
    "I encourage you to just try to start the project on your own without referencing any of the notebooks. If you get stuck, check out the next lecture which is a text lecture with helpful hints and steps. If you're still stuck after that, then check out the Walkthrough Steps Workbook, which breaks up the project in steps for you to solve. Still stuck? Then check out the Complete Walkthrough Solution video for more help on approaching the project!"
   ]
  },
  {
   "cell_type": "markdown",
   "metadata": {},
   "source": [
    "There are parts of this that will be a struggle...and that is good! I have complete faith that if you have made it this far through the course you have all the tools and knowledge to tackle this project. Remember, it's totally open book, so take your time, do a little research, and remember:\n",
    "\n",
    "## HAVE FUN!"
   ]
  },
  {
   "cell_type": "code",
   "execution_count": 1,
   "metadata": {},
   "outputs": [],
   "source": [
    "#display information\n",
    "def display(row1,row2,row3):\n",
    "    print(row1)\n",
    "    print(row2)\n",
    "    print(row3)"
   ]
  },
  {
   "cell_type": "code",
   "execution_count": 3,
   "metadata": {},
   "outputs": [
    {
     "name": "stdout",
     "output_type": "stream",
     "text": [
      "[' ', ' ', ' ']\n",
      "[' ', ' ', ' ']\n",
      "[' ', ' ', ' ']\n"
     ]
    }
   ],
   "source": [
    "row1 = [' ',' ',' ']\n",
    "row2=[' ',' ',' ']\n",
    "row3 = [' ',' ',' ']\n",
    "display(row1,row2,row3)"
   ]
  },
  {
   "cell_type": "code",
   "execution_count": 4,
   "metadata": {},
   "outputs": [],
   "source": [
    "row2[1]='X'"
   ]
  },
  {
   "cell_type": "code",
   "execution_count": 5,
   "metadata": {},
   "outputs": [
    {
     "name": "stdout",
     "output_type": "stream",
     "text": [
      "[' ', ' ', ' ']\n",
      "[' ', 'X', ' ']\n",
      "[' ', ' ', ' ']\n"
     ]
    }
   ],
   "source": [
    "display(row1,row2,row3)"
   ]
  },
  {
   "cell_type": "code",
   "execution_count": 6,
   "metadata": {},
   "outputs": [
    {
     "name": "stdin",
     "output_type": "stream",
     "text": [
      "Please enter a value:  2\n"
     ]
    }
   ],
   "source": [
    "#accepting user input\n",
    "result = input(\"Please enter a value: \")"
   ]
  },
  {
   "cell_type": "code",
   "execution_count": 7,
   "metadata": {},
   "outputs": [
    {
     "data": {
      "text/plain": [
       "'2'"
      ]
     },
     "execution_count": 7,
     "metadata": {},
     "output_type": "execute_result"
    }
   ],
   "source": [
    "result"
   ]
  },
  {
   "cell_type": "code",
   "execution_count": 8,
   "metadata": {},
   "outputs": [
    {
     "name": "stdin",
     "output_type": "stream",
     "text": [
      "Enter Value:  2\n"
     ]
    }
   ],
   "source": [
    "result = int(input(\"Enter Value: \"))\n"
   ]
  },
  {
   "cell_type": "code",
   "execution_count": 9,
   "metadata": {},
   "outputs": [
    {
     "data": {
      "text/plain": [
       "int"
      ]
     },
     "execution_count": 9,
     "metadata": {},
     "output_type": "execute_result"
    }
   ],
   "source": [
    "type(result)"
   ]
  },
  {
   "cell_type": "code",
   "execution_count": 1,
   "metadata": {},
   "outputs": [],
   "source": [
    "#validating user input\n",
    "def user_choice():\n",
    "    choice = input(\"Please enter number 0 to 10:\")\n",
    "    return int(choice)"
   ]
  },
  {
   "cell_type": "code",
   "execution_count": 4,
   "metadata": {},
   "outputs": [
    {
     "name": "stdin",
     "output_type": "stream",
     "text": [
      "Please enter number 0 to 10: 3\n"
     ]
    },
    {
     "data": {
      "text/plain": [
       "3"
      ]
     },
     "execution_count": 4,
     "metadata": {},
     "output_type": "execute_result"
    }
   ],
   "source": [
    "user_choice()"
   ]
  },
  {
   "cell_type": "code",
   "execution_count": 5,
   "metadata": {},
   "outputs": [
    {
     "data": {
      "text/plain": [
       "False"
      ]
     },
     "execution_count": 5,
     "metadata": {},
     "output_type": "execute_result"
    }
   ],
   "source": [
    "choice = 'Wrong'\n",
    "choice.isdigit()"
   ]
  },
  {
   "cell_type": "code",
   "execution_count": 18,
   "metadata": {},
   "outputs": [],
   "source": [
    "def user_choice():\n",
    "    choice = 'Wrong'\n",
    "    acceptable_range = range(0,10)\n",
    "    within_range =False\n",
    "    while choice.isdigit() == False or within_range ==False:\n",
    "        choice = input(\"Please enter number 0 to 10:\")\n",
    "        if choice.isdigit() ==False:\n",
    "            print(\"this is not a digit\")\n",
    "        if choice.isdigit() == True:\n",
    "            if int(choice) in acceptable_range:\n",
    "                within_range = True\n",
    "            else:\n",
    "                print(\"The number is not in the range\")\n",
    "                within_range= False\n",
    "        \n",
    "    return int(choice)"
   ]
  },
  {
   "cell_type": "code",
   "execution_count": 19,
   "metadata": {},
   "outputs": [
    {
     "name": "stdin",
     "output_type": "stream",
     "text": [
      "Please enter number 0 to 10: 11\n"
     ]
    },
    {
     "name": "stdout",
     "output_type": "stream",
     "text": [
      "The number is not in the range\n"
     ]
    },
    {
     "name": "stdin",
     "output_type": "stream",
     "text": [
      "Please enter number 0 to 10: teo\n"
     ]
    },
    {
     "name": "stdout",
     "output_type": "stream",
     "text": [
      "this is not a digit\n"
     ]
    },
    {
     "name": "stdin",
     "output_type": "stream",
     "text": [
      "Please enter number 0 to 10: 3\n"
     ]
    },
    {
     "data": {
      "text/plain": [
       "3"
      ]
     },
     "execution_count": 19,
     "metadata": {},
     "output_type": "execute_result"
    }
   ],
   "source": [
    "user_choice()"
   ]
  },
  {
   "cell_type": "code",
   "execution_count": null,
   "metadata": {},
   "outputs": [],
   "source": [
    "game_list = [0,1,2]"
   ]
  },
  {
   "cell_type": "code",
   "execution_count": null,
   "metadata": {},
   "outputs": [],
   "source": []
  },
  {
   "cell_type": "code",
   "execution_count": null,
   "metadata": {},
   "outputs": [],
   "source": []
  },
  {
   "cell_type": "code",
   "execution_count": null,
   "metadata": {},
   "outputs": [],
   "source": []
  },
  {
   "cell_type": "code",
   "execution_count": null,
   "metadata": {},
   "outputs": [],
   "source": []
  },
  {
   "cell_type": "markdown",
   "metadata": {},
   "source": [
    "Tic Tac Toe Game"
   ]
  },
  {
   "cell_type": "code",
   "execution_count": 99,
   "metadata": {},
   "outputs": [],
   "source": [
    "#choosing player symbol and starting the game user input\n",
    "def choose_player():\n",
    "    player_choice = ' '\n",
    "    p_choice  = ['X','O']\n",
    "    while player_choice not in p_choice:\n",
    "        player_choice = input(\"Player 1: Do you want to be 'X' or 'O'?\")\n",
    "        if player_choice not in p_choice:\n",
    "            print(\"Wrong input. Please type 'X' or 'O'-caps!!\")\n",
    "    if player_choice == 'X':\n",
    "        return ['X','O']\n",
    "    else:\n",
    "        return ['O','X']\n",
    "    \n",
    "            "
   ]
  },
  {
   "cell_type": "code",
   "execution_count": 13,
   "metadata": {},
   "outputs": [],
   "source": [
    "#starting game\n",
    "def start_game():\n",
    "    s_choice = ' '\n",
    "    while s_choice not in ['yes','no'] :\n",
    "        s_choice = input(\"Are you ready to start the game?yes or no: \")\n",
    "        if s_choice not in ['yes','no']:\n",
    "            print(\"Wrong input. type only yes or no all lowercase!!\")\n",
    "    if s_choice == 'yes':\n",
    "        return True\n",
    "    else:\n",
    "        return False"
   ]
  },
  {
   "cell_type": "code",
   "execution_count": 16,
   "metadata": {},
   "outputs": [],
   "source": [
    "#stop game\n",
    "def stop_game():\n",
    "    print(\"Thank you for playing!!\")"
   ]
  },
  {
   "cell_type": "code",
   "execution_count": 79,
   "metadata": {},
   "outputs": [],
   "source": [
    "#choose number logic\n",
    "def num_logic():\n",
    "    num = 'Wrong'\n",
    "    within_range=False \n",
    "    while num.isdigit() == False or within_range == False:\n",
    "        num = input(\"Choose your number between 1 to 9: \")\n",
    "        if num.isdigit() == False:\n",
    "            print(\"Enter valid number between 1 to 9!!\")\n",
    "        if num.isdigit() == True:\n",
    "            if int(num) not in range(1,10):\n",
    "                print(\"Valid number should be entered between range 1 to 9!!\")\n",
    "                within_range == False\n",
    "            else:\n",
    "                within_range == True\n",
    "                break\n",
    "        \n",
    "    return int(num)"
   ]
  },
  {
   "cell_type": "code",
   "execution_count": 81,
   "metadata": {},
   "outputs": [],
   "source": [
    "def display_original():\n",
    "    row1 = ['1','2','3']\n",
    "    row2 = ['4','5','6']\n",
    "    row3 = ['7','8','9']\n",
    "    print(\"The Board with numbers for reference: \")\n",
    "    print(row1)\n",
    "    print(row2)\n",
    "    print(row3)\n",
    "    "
   ]
  },
  {
   "cell_type": "code",
   "execution_count": 101,
   "metadata": {},
   "outputs": [],
   "source": [
    "def display_num(num,string):\n",
    "    row1 = ['1','2','3']\n",
    "    row2 = ['4','5','6']\n",
    "    row3 = ['7','8','9']\n",
    "\n",
    "    global new_row1,new_row2,new_row3\n",
    "\n",
    "    new_row1 = [' ',' ',' ']\n",
    "    new_row2 = [' ',' ',' ']\n",
    "    new_row3 = [' ',' ',' ']\n",
    "\n",
    "\n",
    "    if num in range(1,4):\n",
    "        if num == 1:\n",
    "            new_row1[0] = string\n",
    "        elif num == 2:\n",
    "            new_row1[1] = string\n",
    "        else:\n",
    "            new_row1[2] = string\n",
    "    if num in range(4,7):\n",
    "        if num == 4:\n",
    "            new_row2[0] = string\n",
    "        elif num == 5:\n",
    "            new_row2[1] = string\n",
    "        else:\n",
    "            new_row2[2] = string\n",
    "    if num in range(7,10):\n",
    "        if num == 7:\n",
    "            new_row3[0] = string\n",
    "        elif num == 8:\n",
    "            new_row3[1] = string\n",
    "        else:\n",
    "            new_row3[2] = string\n",
    "        \n",
    "    print(\"The Board with numbers for reference: \")\n",
    "    print(row1,\"   \",new_row1)\n",
    "    print(row2,\"   \",new_row2)\n",
    "    print(row3,\"   \",new_row3)"
   ]
  },
  {
   "cell_type": "code",
   "execution_count": 93,
   "metadata": {},
   "outputs": [],
   "source": [
    "def replacement_choice(player_choice,a):\n",
    "    if a%2 ==0:\n",
    "        return player_choice[0]\n",
    "    else:\n",
    "        return player_choice[1]"
   ]
  },
  {
   "cell_type": "code",
   "execution_count": 107,
   "metadata": {},
   "outputs": [],
   "source": [
    "def win_logic():\n",
    "    if new_row1[0]==new_row1[1]==new_row1[2]=='X' or new_row2[0]==new_row2[1]==new_row2[2]=='X' or new_row3[0]==new_row3[1]==new_row3[2]=='X' or new_row1[0]==new_row1[1]==new_row1[2]=='O' or new_row2[0]==new_row2[1]==new_row2[2]=='O' or new_row3[0]==new_row3[1]==new_row3[2]=='O':\n",
    "        return False\n",
    "    elif new_row1[0]==new_row2[1]==new_row3[2]=='X' or new_row1[2]==new_row2[1]==new_row3[0]=='X' or new_row1[0]==new_row2[1]==new_row3[2]=='O' or new_row1[2]==new_row2[1]==new_row3[0]=='O':\n",
    "        return False\n",
    "    elif new_row1[0]==new_row2[0]==new_row3[0]=='X' or new_row1[1]==new_row2[1]==new_row3[1]=='X' or new_row1[2]==new_row2[2]==new_row3[2]=='X' or new_row1[0]==new_row2[0]==new_row3[0]=='O' or new_row1[1]==new_row2[1]==new_row3[1]=='O' or new_row1[2]==new_row2[2]==new_row3[2]=='O':\n",
    "        return False\n",
    "    else:\n",
    "        return True"
   ]
  },
  {
   "cell_type": "code",
   "execution_count": 108,
   "metadata": {},
   "outputs": [
    {
     "name": "stdout",
     "output_type": "stream",
     "text": [
      "Welcome to Tic Tac Toe!!\n"
     ]
    },
    {
     "name": "stdin",
     "output_type": "stream",
     "text": [
      "Player 1: Do you want to be 'X' or 'O'? O\n",
      "Are you ready to start the game?yes or no:  yes\n"
     ]
    },
    {
     "name": "stdout",
     "output_type": "stream",
     "text": [
      "The Board with numbers for reference: \n",
      "['1', '2', '3']\n",
      "['4', '5', '6']\n",
      "['7', '8', '9']\n"
     ]
    },
    {
     "name": "stdin",
     "output_type": "stream",
     "text": [
      "Choose your number between 1 to 9:  2\n"
     ]
    },
    {
     "name": "stdout",
     "output_type": "stream",
     "text": [
      "The Board with numbers for reference: \n",
      "['1', '2', '3']     [' ', 'O', ' ']\n",
      "['4', '5', '6']     [' ', ' ', ' ']\n",
      "['7', '8', '9']     [' ', ' ', ' ']\n"
     ]
    },
    {
     "name": "stdin",
     "output_type": "stream",
     "text": [
      "Choose your number between 1 to 9:  1\n"
     ]
    },
    {
     "name": "stdout",
     "output_type": "stream",
     "text": [
      "The Board with numbers for reference: \n",
      "['1', '2', '3']     ['X', ' ', ' ']\n",
      "['4', '5', '6']     [' ', ' ', ' ']\n",
      "['7', '8', '9']     [' ', ' ', ' ']\n"
     ]
    },
    {
     "name": "stdin",
     "output_type": "stream",
     "text": [
      "Choose your number between 1 to 9:  5\n"
     ]
    },
    {
     "name": "stdout",
     "output_type": "stream",
     "text": [
      "The Board with numbers for reference: \n",
      "['1', '2', '3']     [' ', ' ', ' ']\n",
      "['4', '5', '6']     [' ', 'O', ' ']\n",
      "['7', '8', '9']     [' ', ' ', ' ']\n"
     ]
    },
    {
     "name": "stdin",
     "output_type": "stream",
     "text": [
      "Choose your number between 1 to 9:  4\n"
     ]
    },
    {
     "name": "stdout",
     "output_type": "stream",
     "text": [
      "The Board with numbers for reference: \n",
      "['1', '2', '3']     [' ', ' ', ' ']\n",
      "['4', '5', '6']     ['X', ' ', ' ']\n",
      "['7', '8', '9']     [' ', ' ', ' ']\n"
     ]
    },
    {
     "name": "stdin",
     "output_type": "stream",
     "text": [
      "Choose your number between 1 to 9:  8\n"
     ]
    },
    {
     "name": "stdout",
     "output_type": "stream",
     "text": [
      "The Board with numbers for reference: \n",
      "['1', '2', '3']     [' ', ' ', ' ']\n",
      "['4', '5', '6']     [' ', ' ', ' ']\n",
      "['7', '8', '9']     [' ', 'O', ' ']\n"
     ]
    },
    {
     "ename": "KeyboardInterrupt",
     "evalue": "Interrupted by user",
     "output_type": "error",
     "traceback": [
      "\u001b[0;31m---------------------------------------------------------------------------\u001b[0m",
      "\u001b[0;31mKeyboardInterrupt\u001b[0m                         Traceback (most recent call last)",
      "Cell \u001b[0;32mIn[108], line 11\u001b[0m\n\u001b[1;32m      9\u001b[0m a \u001b[38;5;241m=\u001b[39m \u001b[38;5;241m0\u001b[39m\n\u001b[1;32m     10\u001b[0m \u001b[38;5;28;01mwhile\u001b[39;00m win_logic()\u001b[38;5;241m==\u001b[39m\u001b[38;5;28;01mTrue\u001b[39;00m:\n\u001b[0;32m---> 11\u001b[0m     num \u001b[38;5;241m=\u001b[39m \u001b[43mnum_logic\u001b[49m\u001b[43m(\u001b[49m\u001b[43m)\u001b[49m\n\u001b[1;32m     12\u001b[0m     mystring \u001b[38;5;241m=\u001b[39m replacement_choice(player_choice,a)\n\u001b[1;32m     13\u001b[0m     display_num(num,mystring)\n",
      "Cell \u001b[0;32mIn[79], line 6\u001b[0m, in \u001b[0;36mnum_logic\u001b[0;34m()\u001b[0m\n\u001b[1;32m      4\u001b[0m within_range\u001b[38;5;241m=\u001b[39m\u001b[38;5;28;01mFalse\u001b[39;00m \n\u001b[1;32m      5\u001b[0m \u001b[38;5;28;01mwhile\u001b[39;00m num\u001b[38;5;241m.\u001b[39misdigit() \u001b[38;5;241m==\u001b[39m \u001b[38;5;28;01mFalse\u001b[39;00m \u001b[38;5;129;01mor\u001b[39;00m within_range \u001b[38;5;241m==\u001b[39m \u001b[38;5;28;01mFalse\u001b[39;00m:\n\u001b[0;32m----> 6\u001b[0m     num \u001b[38;5;241m=\u001b[39m \u001b[38;5;28;43minput\u001b[39;49m\u001b[43m(\u001b[49m\u001b[38;5;124;43m\"\u001b[39;49m\u001b[38;5;124;43mChoose your number between 1 to 9: \u001b[39;49m\u001b[38;5;124;43m\"\u001b[39;49m\u001b[43m)\u001b[49m\n\u001b[1;32m      7\u001b[0m     \u001b[38;5;28;01mif\u001b[39;00m num\u001b[38;5;241m.\u001b[39misdigit() \u001b[38;5;241m==\u001b[39m \u001b[38;5;28;01mFalse\u001b[39;00m:\n\u001b[1;32m      8\u001b[0m         \u001b[38;5;28mprint\u001b[39m(\u001b[38;5;124m\"\u001b[39m\u001b[38;5;124mEnter valid number between 1 to 9!!\u001b[39m\u001b[38;5;124m\"\u001b[39m)\n",
      "File \u001b[0;32m~/.pyenv/versions/3.10.4/lib/python3.10/site-packages/ipykernel/kernelbase.py:1282\u001b[0m, in \u001b[0;36mKernel.raw_input\u001b[0;34m(self, prompt)\u001b[0m\n\u001b[1;32m   1280\u001b[0m     msg \u001b[38;5;241m=\u001b[39m \u001b[38;5;124m\"\u001b[39m\u001b[38;5;124mraw_input was called, but this frontend does not support input requests.\u001b[39m\u001b[38;5;124m\"\u001b[39m\n\u001b[1;32m   1281\u001b[0m     \u001b[38;5;28;01mraise\u001b[39;00m StdinNotImplementedError(msg)\n\u001b[0;32m-> 1282\u001b[0m \u001b[38;5;28;01mreturn\u001b[39;00m \u001b[38;5;28;43mself\u001b[39;49m\u001b[38;5;241;43m.\u001b[39;49m\u001b[43m_input_request\u001b[49m\u001b[43m(\u001b[49m\n\u001b[1;32m   1283\u001b[0m \u001b[43m    \u001b[49m\u001b[38;5;28;43mstr\u001b[39;49m\u001b[43m(\u001b[49m\u001b[43mprompt\u001b[49m\u001b[43m)\u001b[49m\u001b[43m,\u001b[49m\n\u001b[1;32m   1284\u001b[0m \u001b[43m    \u001b[49m\u001b[38;5;28;43mself\u001b[39;49m\u001b[38;5;241;43m.\u001b[39;49m\u001b[43m_parent_ident\u001b[49m\u001b[43m[\u001b[49m\u001b[38;5;124;43m\"\u001b[39;49m\u001b[38;5;124;43mshell\u001b[39;49m\u001b[38;5;124;43m\"\u001b[39;49m\u001b[43m]\u001b[49m\u001b[43m,\u001b[49m\n\u001b[1;32m   1285\u001b[0m \u001b[43m    \u001b[49m\u001b[38;5;28;43mself\u001b[39;49m\u001b[38;5;241;43m.\u001b[39;49m\u001b[43mget_parent\u001b[49m\u001b[43m(\u001b[49m\u001b[38;5;124;43m\"\u001b[39;49m\u001b[38;5;124;43mshell\u001b[39;49m\u001b[38;5;124;43m\"\u001b[39;49m\u001b[43m)\u001b[49m\u001b[43m,\u001b[49m\n\u001b[1;32m   1286\u001b[0m \u001b[43m    \u001b[49m\u001b[43mpassword\u001b[49m\u001b[38;5;241;43m=\u001b[39;49m\u001b[38;5;28;43;01mFalse\u001b[39;49;00m\u001b[43m,\u001b[49m\n\u001b[1;32m   1287\u001b[0m \u001b[43m\u001b[49m\u001b[43m)\u001b[49m\n",
      "File \u001b[0;32m~/.pyenv/versions/3.10.4/lib/python3.10/site-packages/ipykernel/kernelbase.py:1325\u001b[0m, in \u001b[0;36mKernel._input_request\u001b[0;34m(self, prompt, ident, parent, password)\u001b[0m\n\u001b[1;32m   1322\u001b[0m \u001b[38;5;28;01mexcept\u001b[39;00m \u001b[38;5;167;01mKeyboardInterrupt\u001b[39;00m:\n\u001b[1;32m   1323\u001b[0m     \u001b[38;5;66;03m# re-raise KeyboardInterrupt, to truncate traceback\u001b[39;00m\n\u001b[1;32m   1324\u001b[0m     msg \u001b[38;5;241m=\u001b[39m \u001b[38;5;124m\"\u001b[39m\u001b[38;5;124mInterrupted by user\u001b[39m\u001b[38;5;124m\"\u001b[39m\n\u001b[0;32m-> 1325\u001b[0m     \u001b[38;5;28;01mraise\u001b[39;00m \u001b[38;5;167;01mKeyboardInterrupt\u001b[39;00m(msg) \u001b[38;5;28;01mfrom\u001b[39;00m \u001b[38;5;28;01mNone\u001b[39;00m\n\u001b[1;32m   1326\u001b[0m \u001b[38;5;28;01mexcept\u001b[39;00m \u001b[38;5;167;01mException\u001b[39;00m:\n\u001b[1;32m   1327\u001b[0m     \u001b[38;5;28mself\u001b[39m\u001b[38;5;241m.\u001b[39mlog\u001b[38;5;241m.\u001b[39mwarning(\u001b[38;5;124m\"\u001b[39m\u001b[38;5;124mInvalid Message:\u001b[39m\u001b[38;5;124m\"\u001b[39m, exc_info\u001b[38;5;241m=\u001b[39m\u001b[38;5;28;01mTrue\u001b[39;00m)\n",
      "\u001b[0;31mKeyboardInterrupt\u001b[0m: Interrupted by user"
     ]
    }
   ],
   "source": [
    "#Game logic where all functions called and connected\n",
    "\n",
    "print(\"Welcome to Tic Tac Toe!!\")\n",
    "#choosing the player symbol and saying which player goes first\n",
    "player_choice = choose_player()\n",
    "#ask the players to start the game yes or no\n",
    "if start_game():\n",
    "    display_original()\n",
    "    a = 0\n",
    "    while win_logic()==True:\n",
    "        num = num_logic()\n",
    "        mystring = replacement_choice(player_choice,a)\n",
    "        display_num(num,mystring)\n",
    "        a = a + 1\n",
    "    \n",
    "else:\n",
    "    stop_game()\n"
   ]
  },
  {
   "cell_type": "code",
   "execution_count": null,
   "metadata": {},
   "outputs": [],
   "source": []
  }
 ],
 "metadata": {
  "kernelspec": {
   "display_name": "Python 3 (ipykernel)",
   "language": "python",
   "name": "python3"
  },
  "language_info": {
   "codemirror_mode": {
    "name": "ipython",
    "version": 3
   },
   "file_extension": ".py",
   "mimetype": "text/x-python",
   "name": "python",
   "nbconvert_exporter": "python",
   "pygments_lexer": "ipython3",
   "version": "3.10.4"
  }
 },
 "nbformat": 4,
 "nbformat_minor": 4
}
