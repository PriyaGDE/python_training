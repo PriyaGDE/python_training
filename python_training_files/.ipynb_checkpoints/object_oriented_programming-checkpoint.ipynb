{
 "cells": [
  {
   "cell_type": "code",
   "execution_count": 1,
   "id": "57ae0ba6-8b62-4dab-ac97-9950b517f067",
   "metadata": {},
   "outputs": [],
   "source": [
    "#object oriented programming--allows to create own objects that have methods and atttributes\n",
    "#these methods acts as function use info about the object, eg --append to a list\n"
   ]
  },
  {
   "cell_type": "code",
   "execution_count": 2,
   "id": "e958fba0-38e4-4a73-9248-cd0f6e4599b2",
   "metadata": {},
   "outputs": [],
   "source": [
    "mylist = [1,2,3]"
   ]
  },
  {
   "cell_type": "code",
   "execution_count": 3,
   "id": "35691ea1-9738-4a93-b885-4902f1b92ce2",
   "metadata": {},
   "outputs": [],
   "source": [
    "myset = set()\n"
   ]
  },
  {
   "cell_type": "code",
   "execution_count": 4,
   "id": "48a2c670-ad27-4be2-a6f0-38ddd5468f53",
   "metadata": {},
   "outputs": [],
   "source": [
    "myset.add(1)"
   ]
  },
  {
   "cell_type": "code",
   "execution_count": 5,
   "id": "1330cfb8-27e0-4d39-bcc1-4e7a4450053b",
   "metadata": {},
   "outputs": [
    {
     "data": {
      "text/plain": [
       "{1}"
      ]
     },
     "execution_count": 5,
     "metadata": {},
     "output_type": "execute_result"
    }
   ],
   "source": [
    "myset"
   ]
  },
  {
   "cell_type": "code",
   "execution_count": 6,
   "id": "ba5f3224-95a8-4ca0-aa73-c1241201f088",
   "metadata": {},
   "outputs": [
    {
     "data": {
      "text/plain": [
       "set"
      ]
     },
     "execution_count": 6,
     "metadata": {},
     "output_type": "execute_result"
    }
   ],
   "source": [
    "type(myset)"
   ]
  },
  {
   "cell_type": "code",
   "execution_count": 7,
   "id": "3d471d97-62bc-4b93-bec7-8014df1b43a3",
   "metadata": {},
   "outputs": [],
   "source": [
    "class Sample():\n",
    "    pass"
   ]
  },
  {
   "cell_type": "code",
   "execution_count": 8,
   "id": "bc52bf85-5302-4440-8dd5-1eb2f0c2e6d5",
   "metadata": {},
   "outputs": [],
   "source": [
    "my_sample = Sample()"
   ]
  },
  {
   "cell_type": "code",
   "execution_count": 9,
   "id": "829df816-a33f-41c3-8e14-9a05b7d58223",
   "metadata": {},
   "outputs": [
    {
     "data": {
      "text/plain": [
       "__main__.Sample"
      ]
     },
     "execution_count": 9,
     "metadata": {},
     "output_type": "execute_result"
    }
   ],
   "source": [
    "type(my_sample)"
   ]
  },
  {
   "cell_type": "code",
   "execution_count": 27,
   "id": "13c84159-8b62-4e51-b131-253eec62669e",
   "metadata": {},
   "outputs": [],
   "source": [
    "class Dog():\n",
    "\n",
    "    def __init__(self,breed,name,spots):\n",
    "\n",
    "        #attributes characteristic of the object\n",
    "        #we take in argument\n",
    "        #assign it using self.attribute_name\n",
    "\n",
    "        self.breed = breed\n",
    "        self.name = name\n",
    "        #expect boolean true/false\n",
    "        self.spots =spots"
   ]
  },
  {
   "cell_type": "code",
   "execution_count": 28,
   "id": "8499ee87-f6e8-4dbc-b174-4d22bdfb3a65",
   "metadata": {},
   "outputs": [],
   "source": [
    "my_dog = Dog(breed='Lab',name='Sammy',spots=False)"
   ]
  },
  {
   "cell_type": "code",
   "execution_count": 29,
   "id": "ea9a6a97-c2c6-4cde-bb90-b2d3cc78825f",
   "metadata": {},
   "outputs": [
    {
     "data": {
      "text/plain": [
       "__main__.Dog"
      ]
     },
     "execution_count": 29,
     "metadata": {},
     "output_type": "execute_result"
    }
   ],
   "source": [
    "type(my_dog)"
   ]
  },
  {
   "cell_type": "code",
   "execution_count": 30,
   "id": "531eba85-0ec9-4ee5-b351-ae44f3b2065c",
   "metadata": {},
   "outputs": [
    {
     "data": {
      "text/plain": [
       "'Lab'"
      ]
     },
     "execution_count": 30,
     "metadata": {},
     "output_type": "execute_result"
    }
   ],
   "source": [
    "my_dog.breed"
   ]
  },
  {
   "cell_type": "code",
   "execution_count": 31,
   "id": "8dae3650-bff3-4911-bda4-aa5cf4a3cea0",
   "metadata": {},
   "outputs": [
    {
     "data": {
      "text/plain": [
       "'Sammy'"
      ]
     },
     "execution_count": 31,
     "metadata": {},
     "output_type": "execute_result"
    }
   ],
   "source": [
    "my_dog.name"
   ]
  },
  {
   "cell_type": "code",
   "execution_count": 32,
   "id": "7dca1b00-3549-4442-b653-ab8281e46aae",
   "metadata": {},
   "outputs": [
    {
     "data": {
      "text/plain": [
       "False"
      ]
     },
     "execution_count": 32,
     "metadata": {},
     "output_type": "execute_result"
    }
   ],
   "source": [
    "my_dog.spots"
   ]
  },
  {
   "cell_type": "code",
   "execution_count": 57,
   "id": "30a9d7da-d9cd-4755-9647-18fa1e88620d",
   "metadata": {},
   "outputs": [],
   "source": [
    "class Dog():\n",
    "    \n",
    "    #class object attribute\n",
    "    #same for any instance of a class\n",
    "    species = 'mammal'\n",
    "\n",
    "    def __init__(self,breed,name):\n",
    "\n",
    "        #attributes characteristic of the object\n",
    "        #we take in argument\n",
    "        #assign it using self.attribute_name\n",
    "\n",
    "        self.breed = breed\n",
    "        self.name = name\n",
    "\n",
    "    #methods look like function inside a class-operations /action on object\n",
    "\n",
    "    def bark(self,number):\n",
    "        print(f\"Woof!! My name is {self.name} and the number is {number}\")"
   ]
  },
  {
   "cell_type": "code",
   "execution_count": 58,
   "id": "98ad0fc4-2885-4ccb-a2dc-8ec9bb4cb996",
   "metadata": {},
   "outputs": [],
   "source": [
    "my_dog= Dog('Lab','Frankie')"
   ]
  },
  {
   "cell_type": "code",
   "execution_count": 59,
   "id": "dcbfa84e-b191-475e-83eb-c3aa5288a61f",
   "metadata": {},
   "outputs": [
    {
     "data": {
      "text/plain": [
       "'mammal'"
      ]
     },
     "execution_count": 59,
     "metadata": {},
     "output_type": "execute_result"
    }
   ],
   "source": [
    "my_dog.species"
   ]
  },
  {
   "cell_type": "code",
   "execution_count": 60,
   "id": "4d9b04da-ae50-42fa-97e6-6b4926084760",
   "metadata": {},
   "outputs": [
    {
     "data": {
      "text/plain": [
       "'Frankie'"
      ]
     },
     "execution_count": 60,
     "metadata": {},
     "output_type": "execute_result"
    }
   ],
   "source": [
    "my_dog.name"
   ]
  },
  {
   "cell_type": "code",
   "execution_count": 61,
   "id": "e1b0430b-e694-4b13-be8c-db1539805e2a",
   "metadata": {},
   "outputs": [
    {
     "name": "stdout",
     "output_type": "stream",
     "text": [
      "Woof!! My name is Frankie and the number is 4\n"
     ]
    }
   ],
   "source": [
    "my_dog.bark(4)"
   ]
  },
  {
   "cell_type": "code",
   "execution_count": 78,
   "id": "3d914aa4-2d23-4589-a8bf-383c5db29017",
   "metadata": {},
   "outputs": [],
   "source": [
    "class Circle():\n",
    "\n",
    "    #class object attribute\n",
    "    pi = 3.14\n",
    "\n",
    "    def __init__(self,radius=1):\n",
    "\n",
    "        self.radius = radius\n",
    "        self.area = radius*radius*Circle.pi\n",
    "\n",
    "    #method\n",
    "\n",
    "    def get_circumference(self):\n",
    "        return self.radius *Circle.pi *2"
   ]
  },
  {
   "cell_type": "code",
   "execution_count": 79,
   "id": "027530f7-88ed-4c66-8e39-250de7190440",
   "metadata": {},
   "outputs": [],
   "source": [
    "my_circle = Circle(3)"
   ]
  },
  {
   "cell_type": "code",
   "execution_count": 80,
   "id": "2d00b42e-9a53-4288-bed5-e36492f87f72",
   "metadata": {},
   "outputs": [
    {
     "data": {
      "text/plain": [
       "3.14"
      ]
     },
     "execution_count": 80,
     "metadata": {},
     "output_type": "execute_result"
    }
   ],
   "source": [
    "my_circle.pi"
   ]
  },
  {
   "cell_type": "code",
   "execution_count": 81,
   "id": "9e03b599-2f4b-45ea-b598-0ed067349566",
   "metadata": {},
   "outputs": [
    {
     "data": {
      "text/plain": [
       "3"
      ]
     },
     "execution_count": 81,
     "metadata": {},
     "output_type": "execute_result"
    }
   ],
   "source": [
    "my_circle.radius"
   ]
  },
  {
   "cell_type": "code",
   "execution_count": 82,
   "id": "3a5bc19f-4ba5-43b8-a941-6fb0b89ba85f",
   "metadata": {},
   "outputs": [
    {
     "data": {
      "text/plain": [
       "18.84"
      ]
     },
     "execution_count": 82,
     "metadata": {},
     "output_type": "execute_result"
    }
   ],
   "source": [
    "my_circle.get_circumference()"
   ]
  },
  {
   "cell_type": "code",
   "execution_count": 83,
   "id": "2715b783-5bbe-4d22-aee0-167e89ada1fe",
   "metadata": {},
   "outputs": [
    {
     "data": {
      "text/plain": [
       "28.26"
      ]
     },
     "execution_count": 83,
     "metadata": {},
     "output_type": "execute_result"
    }
   ],
   "source": [
    "my_circle.area"
   ]
  },
  {
   "cell_type": "code",
   "execution_count": 84,
   "id": "066ee366-5ae2-4a48-a623-5b8b7a85aff3",
   "metadata": {},
   "outputs": [],
   "source": [
    "#inheritence and polymorphism\n",
    "class Animal():\n",
    "\n",
    "    def __init__(self):\n",
    "        print(\"Animal Created\")\n",
    "\n",
    "    def who_am_i(self):\n",
    "        print(\"I am an Animal\")\n",
    "\n",
    "    def eat(self):\n",
    "        print(\"I am eating\")"
   ]
  },
  {
   "cell_type": "code",
   "execution_count": 99,
   "id": "dd2fa154-7528-4ae5-b6c6-b067d4f3a1db",
   "metadata": {},
   "outputs": [],
   "source": [
    "class Dog(Animal):\n",
    "\n",
    "    def __init__(self):\n",
    "        Animal.__init__(self)\n",
    "        print(\"Dog Created\")\n",
    "\n",
    "    def who_am_i(self):\n",
    "        print(\"I am a Dog\")\n",
    "\n",
    "    def bark(self):\n",
    "        print(\"Woof!!\")"
   ]
  },
  {
   "cell_type": "code",
   "execution_count": 100,
   "id": "d3e0eeff-4677-4f9d-946c-3195346a9e79",
   "metadata": {},
   "outputs": [
    {
     "name": "stdout",
     "output_type": "stream",
     "text": [
      "Animal Created\n"
     ]
    }
   ],
   "source": [
    "my_animal = Animal()"
   ]
  },
  {
   "cell_type": "code",
   "execution_count": 101,
   "id": "3b2950c2-4c90-4994-b83b-61c5f6c53205",
   "metadata": {},
   "outputs": [
    {
     "name": "stdout",
     "output_type": "stream",
     "text": [
      "I am eating\n"
     ]
    }
   ],
   "source": [
    "my_animal.eat()\n"
   ]
  },
  {
   "cell_type": "code",
   "execution_count": 102,
   "id": "b0a95db9-c615-4921-99af-386da46e18d7",
   "metadata": {},
   "outputs": [
    {
     "name": "stdout",
     "output_type": "stream",
     "text": [
      "Animal Created\n",
      "Dog Created\n"
     ]
    }
   ],
   "source": [
    "my_dog = Dog()"
   ]
  },
  {
   "cell_type": "code",
   "execution_count": 103,
   "id": "7ab6a6e8-64f3-41d8-a543-84e03b7b4ec7",
   "metadata": {},
   "outputs": [
    {
     "name": "stdout",
     "output_type": "stream",
     "text": [
      "I am a Dog\n"
     ]
    }
   ],
   "source": [
    "my_dog.who_am_i()"
   ]
  },
  {
   "cell_type": "code",
   "execution_count": 104,
   "id": "5e19c7e8-9dc2-4e75-8de3-efc6bb61d147",
   "metadata": {},
   "outputs": [
    {
     "name": "stdout",
     "output_type": "stream",
     "text": [
      "I am eating\n"
     ]
    }
   ],
   "source": [
    "my_dog.eat()"
   ]
  },
  {
   "cell_type": "code",
   "execution_count": 105,
   "id": "1a9cabe6-89e9-4467-bc62-ecdb06ce686a",
   "metadata": {},
   "outputs": [
    {
     "name": "stdout",
     "output_type": "stream",
     "text": [
      "Woof!!\n"
     ]
    }
   ],
   "source": [
    "my_dog.bark()"
   ]
  },
  {
   "cell_type": "code",
   "execution_count": 110,
   "id": "3583b09f-a68d-4289-b185-e4bc98a2a8f1",
   "metadata": {},
   "outputs": [],
   "source": [
    "#polymorphism\n",
    "\n",
    "class Dog():\n",
    "\n",
    "    def __init__(self,name):\n",
    "        self.name =name\n",
    "\n",
    "    def speak(self):\n",
    "        return self.name + \" says Woof!!\"\n"
   ]
  },
  {
   "cell_type": "code",
   "execution_count": 111,
   "id": "ad73e0e8-82f8-476a-9653-9a5818c3ca25",
   "metadata": {},
   "outputs": [],
   "source": [
    "class Cat():\n",
    "    def __init__(self,name):\n",
    "        self.name =name\n",
    "\n",
    "    def speak(self):\n",
    "        return self.name + \" says Meow!!\""
   ]
  },
  {
   "cell_type": "code",
   "execution_count": 112,
   "id": "893056bb-2ee6-44ad-a185-06cb17a39cd4",
   "metadata": {},
   "outputs": [],
   "source": [
    "niko = Dog(\"Niko\")\n",
    "felix = Cat(\"Felix\")"
   ]
  },
  {
   "cell_type": "code",
   "execution_count": 113,
   "id": "2db2ff92-c044-4e85-ba9d-0573027c9f3f",
   "metadata": {},
   "outputs": [
    {
     "name": "stdout",
     "output_type": "stream",
     "text": [
      "Niko says Woof!!\n"
     ]
    }
   ],
   "source": [
    "print(niko.speak())"
   ]
  },
  {
   "cell_type": "code",
   "execution_count": 114,
   "id": "11e295f1-63e4-4777-97db-7a9b5194290f",
   "metadata": {},
   "outputs": [
    {
     "name": "stdout",
     "output_type": "stream",
     "text": [
      "Felix says Meow!!\n"
     ]
    }
   ],
   "source": [
    "print(felix.speak())"
   ]
  },
  {
   "cell_type": "code",
   "execution_count": 115,
   "id": "6bbd3a0f-eb7b-4d58-92a8-70e2ac10b242",
   "metadata": {},
   "outputs": [
    {
     "name": "stdout",
     "output_type": "stream",
     "text": [
      "<class '__main__.Dog'>\n",
      "Niko says Woof!!\n",
      "<class '__main__.Cat'>\n",
      "Felix says Meow!!\n"
     ]
    }
   ],
   "source": [
    "for pet in [niko,felix]:\n",
    "    print(type(pet))\n",
    "    print(pet.speak())"
   ]
  },
  {
   "cell_type": "code",
   "execution_count": 116,
   "id": "b8d050ee-0d6c-4734-9e27-5fc5c4e5737a",
   "metadata": {},
   "outputs": [],
   "source": [
    "def pet_speak(pet):\n",
    "    print(pet.speak())"
   ]
  },
  {
   "cell_type": "code",
   "execution_count": 117,
   "id": "1057eb1a-b7ec-4d77-9226-90fb435abc25",
   "metadata": {},
   "outputs": [
    {
     "name": "stdout",
     "output_type": "stream",
     "text": [
      "Niko says Woof!!\n"
     ]
    }
   ],
   "source": [
    "pet_speak(niko)"
   ]
  },
  {
   "cell_type": "code",
   "execution_count": 118,
   "id": "27013869-fe7e-46d3-8da9-773d34b5c65f",
   "metadata": {},
   "outputs": [
    {
     "name": "stdout",
     "output_type": "stream",
     "text": [
      "Felix says Meow!!\n"
     ]
    }
   ],
   "source": [
    "pet_speak(felix)"
   ]
  },
  {
   "cell_type": "code",
   "execution_count": 119,
   "id": "52d7dcc2-3f54-4d32-a507-8c62fb539b0a",
   "metadata": {},
   "outputs": [],
   "source": [
    "#abstract class\n",
    "\n",
    "class Animal():\n",
    "\n",
    "    def __init__(self,name):\n",
    "        self.name = name\n",
    "\n",
    "    def speak(self):\n",
    "        raise NotImplementedError(\"Subclass must implement this abstract method\")"
   ]
  },
  {
   "cell_type": "code",
   "execution_count": 121,
   "id": "01388ebe-2003-46dc-beb8-2e461477bea8",
   "metadata": {},
   "outputs": [],
   "source": [
    "myanimal =Animal('fred')"
   ]
  },
  {
   "cell_type": "code",
   "execution_count": 122,
   "id": "e2cb3a99-a730-4070-8b79-699c5ba46777",
   "metadata": {},
   "outputs": [
    {
     "ename": "NotImplementedError",
     "evalue": "Subclass must implement this abstract method",
     "output_type": "error",
     "traceback": [
      "\u001b[0;31m---------------------------------------------------------------------------\u001b[0m",
      "\u001b[0;31mNotImplementedError\u001b[0m                       Traceback (most recent call last)",
      "Cell \u001b[0;32mIn[122], line 1\u001b[0m\n\u001b[0;32m----> 1\u001b[0m \u001b[43mmyanimal\u001b[49m\u001b[38;5;241;43m.\u001b[39;49m\u001b[43mspeak\u001b[49m\u001b[43m(\u001b[49m\u001b[43m)\u001b[49m\n",
      "Cell \u001b[0;32mIn[119], line 9\u001b[0m, in \u001b[0;36mAnimal.speak\u001b[0;34m(self)\u001b[0m\n\u001b[1;32m      8\u001b[0m \u001b[38;5;28;01mdef\u001b[39;00m \u001b[38;5;21mspeak\u001b[39m(\u001b[38;5;28mself\u001b[39m):\n\u001b[0;32m----> 9\u001b[0m     \u001b[38;5;28;01mraise\u001b[39;00m \u001b[38;5;167;01mNotImplementedError\u001b[39;00m(\u001b[38;5;124m\"\u001b[39m\u001b[38;5;124mSubclass must implement this abstract method\u001b[39m\u001b[38;5;124m\"\u001b[39m)\n",
      "\u001b[0;31mNotImplementedError\u001b[0m: Subclass must implement this abstract method"
     ]
    }
   ],
   "source": [
    "myanimal.speak()"
   ]
  },
  {
   "cell_type": "code",
   "execution_count": 123,
   "id": "18807286-7415-4968-99d5-e43377c70d02",
   "metadata": {},
   "outputs": [],
   "source": [
    "class Dog(Animal):\n",
    "\n",
    "    def speak(self):\n",
    "        return self.name+\" says woof!!\""
   ]
  },
  {
   "cell_type": "code",
   "execution_count": 124,
   "id": "40232339-bb67-4776-88e4-7dd0a3733152",
   "metadata": {},
   "outputs": [],
   "source": [
    "class Cat(Animal):\n",
    "    def speak(self):\n",
    "        return self.name+\" says meow!!\""
   ]
  },
  {
   "cell_type": "code",
   "execution_count": 125,
   "id": "ec38cf29-507d-46c3-8cb7-3a8968e6cd2b",
   "metadata": {},
   "outputs": [],
   "source": [
    "ss = Dog('nik')"
   ]
  },
  {
   "cell_type": "code",
   "execution_count": 126,
   "id": "0d959276-b346-4821-bd44-abf8a39cb9d3",
   "metadata": {},
   "outputs": [
    {
     "data": {
      "text/plain": [
       "'nik says woof!!'"
      ]
     },
     "execution_count": 126,
     "metadata": {},
     "output_type": "execute_result"
    }
   ],
   "source": [
    "ss.speak()"
   ]
  },
  {
   "cell_type": "code",
   "execution_count": 127,
   "id": "3daa32cc-59c0-4e25-9852-bbb80a489691",
   "metadata": {},
   "outputs": [],
   "source": [
    "isis =  Cat('isis')"
   ]
  },
  {
   "cell_type": "code",
   "execution_count": 128,
   "id": "142a4dca-5d79-42af-b7f0-a822940b30c7",
   "metadata": {},
   "outputs": [
    {
     "data": {
      "text/plain": [
       "'isis says meow!!'"
      ]
     },
     "execution_count": 128,
     "metadata": {},
     "output_type": "execute_result"
    }
   ],
   "source": [
    "isis.speak()"
   ]
  },
  {
   "cell_type": "code",
   "execution_count": 129,
   "id": "5f2c5365-b8d8-4f22-b4ab-7c81f89fd5e9",
   "metadata": {},
   "outputs": [
    {
     "data": {
      "text/plain": [
       "3"
      ]
     },
     "execution_count": 129,
     "metadata": {},
     "output_type": "execute_result"
    }
   ],
   "source": [
    "mylist=[1,2,3]\n",
    "len(mylist)"
   ]
  },
  {
   "cell_type": "code",
   "execution_count": 130,
   "id": "83acdfe0-1ee9-4d22-af52-6f00638daa89",
   "metadata": {},
   "outputs": [],
   "source": [
    "class Sample():\n",
    "    pass\n",
    "\n",
    "mysample=Sample()"
   ]
  },
  {
   "cell_type": "code",
   "execution_count": 131,
   "id": "4741de38-3209-463c-8772-71f07ed12adb",
   "metadata": {},
   "outputs": [
    {
     "ename": "TypeError",
     "evalue": "object of type 'Sample' has no len()",
     "output_type": "error",
     "traceback": [
      "\u001b[0;31m---------------------------------------------------------------------------\u001b[0m",
      "\u001b[0;31mTypeError\u001b[0m                                 Traceback (most recent call last)",
      "Cell \u001b[0;32mIn[131], line 1\u001b[0m\n\u001b[0;32m----> 1\u001b[0m \u001b[38;5;28;43mlen\u001b[39;49m\u001b[43m(\u001b[49m\u001b[43mmysample\u001b[49m\u001b[43m)\u001b[49m\n",
      "\u001b[0;31mTypeError\u001b[0m: object of type 'Sample' has no len()"
     ]
    }
   ],
   "source": [
    "len(mysample)"
   ]
  },
  {
   "cell_type": "code",
   "execution_count": 132,
   "id": "d621ecc5-530d-4cc2-8bfc-10b363825253",
   "metadata": {},
   "outputs": [
    {
     "name": "stdout",
     "output_type": "stream",
     "text": [
      "<__main__.Sample object at 0x10abd7fa0>\n"
     ]
    }
   ],
   "source": [
    "print(mysample)"
   ]
  },
  {
   "cell_type": "code",
   "execution_count": 147,
   "id": "1b801b18-d954-468d-a5ba-0f4eb887d957",
   "metadata": {},
   "outputs": [],
   "source": [
    "class Book():\n",
    "\n",
    "    def __init__(self,title,author,pages):\n",
    "        self.title =title\n",
    "        self.author=author\n",
    "        self.pages = pages\n",
    "\n",
    "    def __str__(self):\n",
    "        return f\"{self.title} by {self.author}\"\n",
    "\n",
    "    def __len__(self):\n",
    "        return self.pages\n",
    "    def __del__(self):\n",
    "        print(\"A book object has been deleted\")"
   ]
  },
  {
   "cell_type": "code",
   "execution_count": 148,
   "id": "e3423435-baf2-4928-9c19-88ea857e0361",
   "metadata": {},
   "outputs": [],
   "source": [
    "b = Book('Python rocks','Jose',200)"
   ]
  },
  {
   "cell_type": "code",
   "execution_count": 149,
   "id": "07ffe1d7-f550-4e42-a614-4b4ef2d2f775",
   "metadata": {},
   "outputs": [
    {
     "name": "stdout",
     "output_type": "stream",
     "text": [
      "Python rocks by Jose\n"
     ]
    }
   ],
   "source": [
    "print(b)"
   ]
  },
  {
   "cell_type": "code",
   "execution_count": 150,
   "id": "a3140648-a386-47d4-8047-c251d166572d",
   "metadata": {},
   "outputs": [
    {
     "data": {
      "text/plain": [
       "200"
      ]
     },
     "execution_count": 150,
     "metadata": {},
     "output_type": "execute_result"
    }
   ],
   "source": [
    "len(b)"
   ]
  },
  {
   "cell_type": "code",
   "execution_count": 151,
   "id": "936ce060-1907-45cb-a5e0-ce2c501e0e95",
   "metadata": {},
   "outputs": [
    {
     "name": "stdout",
     "output_type": "stream",
     "text": [
      "A book object has been deleted\n"
     ]
    }
   ],
   "source": [
    "del b"
   ]
  },
  {
   "cell_type": "code",
   "execution_count": 152,
   "id": "3ecec40f-b14e-4706-b379-eb874c6a9c4b",
   "metadata": {},
   "outputs": [
    {
     "ename": "NameError",
     "evalue": "name 'b' is not defined",
     "output_type": "error",
     "traceback": [
      "\u001b[0;31m---------------------------------------------------------------------------\u001b[0m",
      "\u001b[0;31mNameError\u001b[0m                                 Traceback (most recent call last)",
      "Cell \u001b[0;32mIn[152], line 1\u001b[0m\n\u001b[0;32m----> 1\u001b[0m \u001b[38;5;28mprint\u001b[39m(\u001b[43mb\u001b[49m)\n",
      "\u001b[0;31mNameError\u001b[0m: name 'b' is not defined"
     ]
    }
   ],
   "source": [
    "print(b)"
   ]
  },
  {
   "cell_type": "code",
   "execution_count": null,
   "id": "fe434d55-0e55-4501-8715-a0adbdd09079",
   "metadata": {},
   "outputs": [],
   "source": []
  }
 ],
 "metadata": {
  "kernelspec": {
   "display_name": "Python 3.10.4 (pyenv)",
   "language": "python",
   "name": "pyenv3104"
  },
  "language_info": {
   "codemirror_mode": {
    "name": "ipython",
    "version": 3
   },
   "file_extension": ".py",
   "mimetype": "text/x-python",
   "name": "python",
   "nbconvert_exporter": "python",
   "pygments_lexer": "ipython3",
   "version": "3.10.4"
  }
 },
 "nbformat": 4,
 "nbformat_minor": 5
}
