{
 "cells": [
  {
   "cell_type": "code",
   "execution_count": 1,
   "id": "e34fe6f4-05fd-4a5c-82cb-c00db9e74e1b",
   "metadata": {},
   "outputs": [
    {
     "data": {
      "text/plain": [
       "3"
      ]
     },
     "execution_count": 1,
     "metadata": {},
     "output_type": "execute_result"
    }
   ],
   "source": [
    "#python numbers\n",
    "2+1"
   ]
  },
  {
   "cell_type": "code",
   "execution_count": 2,
   "id": "96253e97-fd1c-4d17-94d3-6a017f2f631c",
   "metadata": {},
   "outputs": [
    {
     "data": {
      "text/plain": [
       "1"
      ]
     },
     "execution_count": 2,
     "metadata": {},
     "output_type": "execute_result"
    }
   ],
   "source": [
    "2-1"
   ]
  },
  {
   "cell_type": "code",
   "execution_count": 3,
   "id": "ffb32228-fb41-4b62-8e01-3e44c0d2e9ad",
   "metadata": {},
   "outputs": [
    {
     "data": {
      "text/plain": [
       "10"
      ]
     },
     "execution_count": 3,
     "metadata": {},
     "output_type": "execute_result"
    }
   ],
   "source": [
    "2*5"
   ]
  },
  {
   "cell_type": "code",
   "execution_count": 4,
   "id": "b218ecdf-6501-499f-a097-81f1b8357693",
   "metadata": {},
   "outputs": [
    {
     "data": {
      "text/plain": [
       "2.0"
      ]
     },
     "execution_count": 4,
     "metadata": {},
     "output_type": "execute_result"
    }
   ],
   "source": [
    "4/2"
   ]
  },
  {
   "cell_type": "code",
   "execution_count": 5,
   "id": "5453b881-78f9-4877-959a-2c4266aebe55",
   "metadata": {},
   "outputs": [
    {
     "data": {
      "text/plain": [
       "3"
      ]
     },
     "execution_count": 5,
     "metadata": {},
     "output_type": "execute_result"
    }
   ],
   "source": [
    "#Module operator--gives reminder\n",
    "7%4"
   ]
  },
  {
   "cell_type": "code",
   "execution_count": 6,
   "id": "1ba84f88-0441-4a8f-a4ae-89f7aedab3b3",
   "metadata": {},
   "outputs": [
    {
     "data": {
      "text/plain": [
       "0"
      ]
     },
     "execution_count": 6,
     "metadata": {},
     "output_type": "execute_result"
    }
   ],
   "source": [
    "50%5"
   ]
  },
  {
   "cell_type": "code",
   "execution_count": 7,
   "id": "0f56b53e-ee71-4585-bf08-984259f684e8",
   "metadata": {},
   "outputs": [
    {
     "data": {
      "text/plain": [
       "1"
      ]
     },
     "execution_count": 7,
     "metadata": {},
     "output_type": "execute_result"
    }
   ],
   "source": [
    "23%2"
   ]
  },
  {
   "cell_type": "code",
   "execution_count": 8,
   "id": "b64f7708-2d9f-4f56-a2f7-fc6c190b5c8e",
   "metadata": {},
   "outputs": [
    {
     "data": {
      "text/plain": [
       "0"
      ]
     },
     "execution_count": 8,
     "metadata": {},
     "output_type": "execute_result"
    }
   ],
   "source": [
    "20%2"
   ]
  },
  {
   "cell_type": "code",
   "execution_count": 9,
   "id": "e296f68e-39b6-4100-acf5-d83820e486ce",
   "metadata": {},
   "outputs": [
    {
     "data": {
      "text/plain": [
       "8"
      ]
     },
     "execution_count": 9,
     "metadata": {},
     "output_type": "execute_result"
    }
   ],
   "source": [
    "2 ** 3 #power operator"
   ]
  },
  {
   "cell_type": "code",
   "execution_count": 10,
   "id": "d874b1f4-894f-428b-b436-16f94d7a43a0",
   "metadata": {},
   "outputs": [
    {
     "data": {
      "text/plain": [
       "105"
      ]
     },
     "execution_count": 10,
     "metadata": {},
     "output_type": "execute_result"
    }
   ],
   "source": [
    "2+10 * 10 +3"
   ]
  },
  {
   "cell_type": "code",
   "execution_count": 11,
   "id": "b7278c7f-e58d-440b-a566-6cdb06b3445b",
   "metadata": {},
   "outputs": [
    {
     "data": {
      "text/plain": [
       "60"
      ]
     },
     "execution_count": 11,
     "metadata": {},
     "output_type": "execute_result"
    }
   ],
   "source": [
    "(2+10)*(2+3)"
   ]
  },
  {
   "cell_type": "code",
   "execution_count": 12,
   "id": "faeab9e8-c6a8-4c13-9b59-1661689c1615",
   "metadata": {},
   "outputs": [
    {
     "data": {
      "text/plain": [
       "100.0"
      ]
     },
     "execution_count": 12,
     "metadata": {},
     "output_type": "execute_result"
    }
   ],
   "source": [
    "(2*5)+(180/2)"
   ]
  },
  {
   "cell_type": "code",
   "execution_count": 13,
   "id": "bd6a3579-378a-49be-a2d3-1be1220083b5",
   "metadata": {},
   "outputs": [
    {
     "name": "stdout",
     "output_type": "stream",
     "text": [
      "['sam', 'Reggi']\n"
     ]
    }
   ],
   "source": [
    "#variable assignments\n",
    "my_dogs=2\n",
    "my_dogs = [\"sam\",\"Reggi\"]\n",
    "print(my_dogs)"
   ]
  },
  {
   "cell_type": "code",
   "execution_count": 14,
   "id": "047d706e-4c34-49ab-8f10-f1d2d797f6bc",
   "metadata": {},
   "outputs": [],
   "source": [
    "a = 5"
   ]
  },
  {
   "cell_type": "code",
   "execution_count": 15,
   "id": "c56bb188-6142-426e-a345-1ccb0cd200ce",
   "metadata": {},
   "outputs": [
    {
     "data": {
      "text/plain": [
       "5"
      ]
     },
     "execution_count": 15,
     "metadata": {},
     "output_type": "execute_result"
    }
   ],
   "source": [
    "a"
   ]
  },
  {
   "cell_type": "code",
   "execution_count": 16,
   "id": "63a973da-6a03-4cd9-9470-cd517d12ea01",
   "metadata": {},
   "outputs": [],
   "source": [
    "a =10"
   ]
  },
  {
   "cell_type": "code",
   "execution_count": 17,
   "id": "9b284971-308b-46ae-bd72-25016153f4ad",
   "metadata": {},
   "outputs": [
    {
     "data": {
      "text/plain": [
       "10"
      ]
     },
     "execution_count": 17,
     "metadata": {},
     "output_type": "execute_result"
    }
   ],
   "source": [
    "a"
   ]
  },
  {
   "cell_type": "code",
   "execution_count": 18,
   "id": "20a1ac90-c613-4c62-a9d1-3050bafc1958",
   "metadata": {},
   "outputs": [
    {
     "data": {
      "text/plain": [
       "20"
      ]
     },
     "execution_count": 18,
     "metadata": {},
     "output_type": "execute_result"
    }
   ],
   "source": [
    "a +a"
   ]
  },
  {
   "cell_type": "code",
   "execution_count": 21,
   "id": "af59cefd-bfbd-406f-8399-936a25d6e7d9",
   "metadata": {},
   "outputs": [],
   "source": [
    "a = a+a"
   ]
  },
  {
   "cell_type": "code",
   "execution_count": 22,
   "id": "3fc37852-14c6-4b03-8337-c5611241a86e",
   "metadata": {},
   "outputs": [
    {
     "data": {
      "text/plain": [
       "40"
      ]
     },
     "execution_count": 22,
     "metadata": {},
     "output_type": "execute_result"
    }
   ],
   "source": [
    "a"
   ]
  },
  {
   "cell_type": "code",
   "execution_count": 23,
   "id": "8e45dd18-f8d0-4fcf-af91-eed6167f4756",
   "metadata": {},
   "outputs": [
    {
     "data": {
      "text/plain": [
       "int"
      ]
     },
     "execution_count": 23,
     "metadata": {},
     "output_type": "execute_result"
    }
   ],
   "source": [
    "type(a)"
   ]
  },
  {
   "cell_type": "code",
   "execution_count": 24,
   "id": "b954e4d2-da4b-40ae-93e4-ffcdbab2398d",
   "metadata": {},
   "outputs": [],
   "source": [
    "a = 100.5"
   ]
  },
  {
   "cell_type": "code",
   "execution_count": 25,
   "id": "d1bd8584-509e-4009-a778-3fdcb0859e4e",
   "metadata": {},
   "outputs": [
    {
     "data": {
      "text/plain": [
       "float"
      ]
     },
     "execution_count": 25,
     "metadata": {},
     "output_type": "execute_result"
    }
   ],
   "source": [
    "type(a)"
   ]
  },
  {
   "cell_type": "code",
   "execution_count": 26,
   "id": "ba942dd7-4399-4416-ae75-d272d5176491",
   "metadata": {},
   "outputs": [],
   "source": [
    "my_income =100\n",
    "tax_rate =0.1\n",
    "my_taxes = my_income * tax_rate"
   ]
  },
  {
   "cell_type": "code",
   "execution_count": 27,
   "id": "3087a2f9-b64a-4258-a31d-4b51ab7d6f61",
   "metadata": {},
   "outputs": [
    {
     "data": {
      "text/plain": [
       "10.0"
      ]
     },
     "execution_count": 27,
     "metadata": {},
     "output_type": "execute_result"
    }
   ],
   "source": [
    "my_taxes"
   ]
  },
  {
   "cell_type": "code",
   "execution_count": 29,
   "id": "f77ab251-fcbe-4e62-9f90-86f49755835d",
   "metadata": {},
   "outputs": [
    {
     "data": {
      "text/plain": [
       "'hello'"
      ]
     },
     "execution_count": 29,
     "metadata": {},
     "output_type": "execute_result"
    }
   ],
   "source": [
    "#strings\n",
    "'hello'"
   ]
  },
  {
   "cell_type": "code",
   "execution_count": 30,
   "id": "ea1695c4-66c7-4547-88a9-58c9c03209f9",
   "metadata": {},
   "outputs": [
    {
     "data": {
      "text/plain": [
       "'world'"
      ]
     },
     "execution_count": 30,
     "metadata": {},
     "output_type": "execute_result"
    }
   ],
   "source": [
    "\"world\""
   ]
  },
  {
   "cell_type": "code",
   "execution_count": 31,
   "id": "6f3dc576-75c6-493a-8fa5-ca3086938db5",
   "metadata": {},
   "outputs": [
    {
     "data": {
      "text/plain": [
       "\"i'm going on the run\""
      ]
     },
     "execution_count": 31,
     "metadata": {},
     "output_type": "execute_result"
    }
   ],
   "source": [
    "\"i'm going on the run\""
   ]
  },
  {
   "cell_type": "code",
   "execution_count": 32,
   "id": "be3f7eb4-6e79-477a-a729-2067a479fa47",
   "metadata": {},
   "outputs": [
    {
     "name": "stdout",
     "output_type": "stream",
     "text": [
      "How are you?\n"
     ]
    }
   ],
   "source": [
    "print(\"How are you?\")"
   ]
  },
  {
   "cell_type": "code",
   "execution_count": 33,
   "id": "de56adac-31a0-415a-b592-ead830fd7e3d",
   "metadata": {},
   "outputs": [
    {
     "name": "stdout",
     "output_type": "stream",
     "text": [
      "Hello\n",
      "World\n"
     ]
    }
   ],
   "source": [
    "print(\"Hello\\nWorld\")"
   ]
  },
  {
   "cell_type": "code",
   "execution_count": 34,
   "id": "90caafb0-0e34-4a00-a3de-4a476dd67670",
   "metadata": {},
   "outputs": [
    {
     "data": {
      "text/plain": [
       "5"
      ]
     },
     "execution_count": 34,
     "metadata": {},
     "output_type": "execute_result"
    }
   ],
   "source": [
    "len('hello')"
   ]
  },
  {
   "cell_type": "code",
   "execution_count": 35,
   "id": "c48489e2-0b18-463d-9268-b98b92c12bbf",
   "metadata": {},
   "outputs": [
    {
     "data": {
      "text/plain": [
       "4"
      ]
     },
     "execution_count": 35,
     "metadata": {},
     "output_type": "execute_result"
    }
   ],
   "source": [
    "len('I am')"
   ]
  },
  {
   "cell_type": "code",
   "execution_count": 36,
   "id": "9bee9b99-0900-4c12-bd04-e4863f9a2e14",
   "metadata": {},
   "outputs": [
    {
     "data": {
      "text/plain": [
       "'Hello World'"
      ]
     },
     "execution_count": 36,
     "metadata": {},
     "output_type": "execute_result"
    }
   ],
   "source": [
    "mystring = \"Hello World\"\n",
    "mystring"
   ]
  },
  {
   "cell_type": "code",
   "execution_count": 37,
   "id": "07cc4e64-3b7c-4ae6-b6fd-81b27560b384",
   "metadata": {},
   "outputs": [
    {
     "data": {
      "text/plain": [
       "'H'"
      ]
     },
     "execution_count": 37,
     "metadata": {},
     "output_type": "execute_result"
    }
   ],
   "source": [
    "mystring[0]"
   ]
  },
  {
   "cell_type": "code",
   "execution_count": 38,
   "id": "b2875292-94ff-4e47-8efe-7cb9baf30002",
   "metadata": {},
   "outputs": [
    {
     "data": {
      "text/plain": [
       "'r'"
      ]
     },
     "execution_count": 38,
     "metadata": {},
     "output_type": "execute_result"
    }
   ],
   "source": [
    "mystring[8]"
   ]
  },
  {
   "cell_type": "code",
   "execution_count": 39,
   "id": "7981cab9-0c56-457e-bd77-7b079850f43a",
   "metadata": {},
   "outputs": [
    {
     "data": {
      "text/plain": [
       "'l'"
      ]
     },
     "execution_count": 39,
     "metadata": {},
     "output_type": "execute_result"
    }
   ],
   "source": [
    "mystring[-2]"
   ]
  },
  {
   "cell_type": "code",
   "execution_count": 40,
   "id": "3c559cdd-63a7-4fd3-a132-0807f96eeab6",
   "metadata": {},
   "outputs": [
    {
     "data": {
      "text/plain": [
       "'Hello World'"
      ]
     },
     "execution_count": 40,
     "metadata": {},
     "output_type": "execute_result"
    }
   ],
   "source": [
    "#slicing\n",
    "mystring"
   ]
  },
  {
   "cell_type": "code",
   "execution_count": 41,
   "id": "8456ac6c-ad43-4969-b5bf-5ee2213f6914",
   "metadata": {},
   "outputs": [],
   "source": [
    "mystring =\"abcdefghijk\""
   ]
  },
  {
   "cell_type": "code",
   "execution_count": 42,
   "id": "fa19a382-e2bf-4823-960c-a70c076a3e8b",
   "metadata": {},
   "outputs": [
    {
     "data": {
      "text/plain": [
       "'abcdefghijk'"
      ]
     },
     "execution_count": 42,
     "metadata": {},
     "output_type": "execute_result"
    }
   ],
   "source": [
    "mystring"
   ]
  },
  {
   "cell_type": "code",
   "execution_count": 43,
   "id": "22f396a4-b215-40c2-a82a-5a9d1ea523fa",
   "metadata": {},
   "outputs": [
    {
     "data": {
      "text/plain": [
       "'cdefghijk'"
      ]
     },
     "execution_count": 43,
     "metadata": {},
     "output_type": "execute_result"
    }
   ],
   "source": [
    "mystring[2:]"
   ]
  },
  {
   "cell_type": "code",
   "execution_count": 44,
   "id": "677ce877-29de-4d68-b66f-715417afe105",
   "metadata": {},
   "outputs": [
    {
     "data": {
      "text/plain": [
       "'abc'"
      ]
     },
     "execution_count": 44,
     "metadata": {},
     "output_type": "execute_result"
    }
   ],
   "source": [
    "mystring[:3] #upto not include 3 that is d."
   ]
  },
  {
   "cell_type": "code",
   "execution_count": 45,
   "id": "c8d13d6c-c1ba-46b3-a10f-0a95b2d9db88",
   "metadata": {},
   "outputs": [
    {
     "data": {
      "text/plain": [
       "'def'"
      ]
     },
     "execution_count": 45,
     "metadata": {},
     "output_type": "execute_result"
    }
   ],
   "source": [
    "mystring[3:6]"
   ]
  },
  {
   "cell_type": "code",
   "execution_count": 49,
   "id": "d214632b-3307-427d-a570-68418be656b0",
   "metadata": {},
   "outputs": [
    {
     "data": {
      "text/plain": [
       "'abcdefghijk'"
      ]
     },
     "execution_count": 49,
     "metadata": {},
     "output_type": "execute_result"
    }
   ],
   "source": [
    "mystring[::] #whole string"
   ]
  },
  {
   "cell_type": "code",
   "execution_count": 48,
   "id": "f3b626b4-1077-4c89-a9e6-548476a00044",
   "metadata": {},
   "outputs": [
    {
     "data": {
      "text/plain": [
       "'acegik'"
      ]
     },
     "execution_count": 48,
     "metadata": {},
     "output_type": "execute_result"
    }
   ],
   "source": [
    "mystring[::2]#jump step size of 2"
   ]
  },
  {
   "cell_type": "code",
   "execution_count": 50,
   "id": "172db83f-8361-4b4c-b70b-5bbac923526c",
   "metadata": {},
   "outputs": [
    {
     "data": {
      "text/plain": [
       "'kigeca'"
      ]
     },
     "execution_count": 50,
     "metadata": {},
     "output_type": "execute_result"
    }
   ],
   "source": [
    "mystring[::-2] #reverse a string"
   ]
  },
  {
   "cell_type": "code",
   "execution_count": 51,
   "id": "2905dc86-9e3a-4139-b184-8f98c23bd24b",
   "metadata": {},
   "outputs": [
    {
     "name": "stdout",
     "output_type": "stream",
     "text": [
      "r\n"
     ]
    }
   ],
   "source": [
    "print('Hello World'[8])"
   ]
  },
  {
   "cell_type": "code",
   "execution_count": 52,
   "id": "8612daad-ac5f-46b7-b9d6-5d6221590bd9",
   "metadata": {},
   "outputs": [],
   "source": [
    "#string properties and methods\n",
    "name=\"sam\""
   ]
  },
  {
   "cell_type": "code",
   "execution_count": 54,
   "id": "7525a7e1-2d7c-46b2-933c-9f1139e75b2f",
   "metadata": {},
   "outputs": [
    {
     "data": {
      "text/plain": [
       "'am'"
      ]
     },
     "execution_count": 54,
     "metadata": {},
     "output_type": "execute_result"
    }
   ],
   "source": [
    "last_letters=name[1:]\n",
    "last_letters"
   ]
  },
  {
   "cell_type": "code",
   "execution_count": 55,
   "id": "416b3bd3-79dc-46c8-a975-9104861fa2cb",
   "metadata": {},
   "outputs": [
    {
     "data": {
      "text/plain": [
       "'Pam'"
      ]
     },
     "execution_count": 55,
     "metadata": {},
     "output_type": "execute_result"
    }
   ],
   "source": [
    "'P'+last_letters"
   ]
  },
  {
   "cell_type": "code",
   "execution_count": 56,
   "id": "2326c501-256b-431c-b6da-4e567615308e",
   "metadata": {},
   "outputs": [
    {
     "data": {
      "text/plain": [
       "'hello world'"
      ]
     },
     "execution_count": 56,
     "metadata": {},
     "output_type": "execute_result"
    }
   ],
   "source": [
    "x = 'hello'\n",
    "x = x+' world'\n",
    "x"
   ]
  },
  {
   "cell_type": "code",
   "execution_count": 57,
   "id": "6bb740c9-9963-42ff-8f61-1f0771ef8472",
   "metadata": {},
   "outputs": [
    {
     "data": {
      "text/plain": [
       "'23'"
      ]
     },
     "execution_count": 57,
     "metadata": {},
     "output_type": "execute_result"
    }
   ],
   "source": [
    "'2'+'3'"
   ]
  },
  {
   "cell_type": "code",
   "execution_count": 58,
   "id": "20b98e27-57ae-4bc0-b91c-94a9d8cd4ace",
   "metadata": {},
   "outputs": [
    {
     "data": {
      "text/plain": [
       "'HELLO WORLD'"
      ]
     },
     "execution_count": 58,
     "metadata": {},
     "output_type": "execute_result"
    }
   ],
   "source": [
    "x = 'hello world'\n",
    "x.upper()"
   ]
  },
  {
   "cell_type": "code",
   "execution_count": 59,
   "id": "cf2927e6-0c2f-4104-b033-5acb3baf5436",
   "metadata": {},
   "outputs": [
    {
     "data": {
      "text/plain": [
       "'hello world'"
      ]
     },
     "execution_count": 59,
     "metadata": {},
     "output_type": "execute_result"
    }
   ],
   "source": [
    "x.lower()"
   ]
  },
  {
   "cell_type": "code",
   "execution_count": 60,
   "id": "34e6c5ee-db41-4210-959f-1af8f8bfccb9",
   "metadata": {},
   "outputs": [
    {
     "data": {
      "text/plain": [
       "['hello', 'world']"
      ]
     },
     "execution_count": 60,
     "metadata": {},
     "output_type": "execute_result"
    }
   ],
   "source": [
    "x.split() #based on whitespace"
   ]
  },
  {
   "cell_type": "code",
   "execution_count": 61,
   "id": "86902dcd-0193-4cd1-8b42-3add2d363b7a",
   "metadata": {},
   "outputs": [
    {
     "data": {
      "text/plain": [
       "['hell', ' w', 'rld']"
      ]
     },
     "execution_count": 61,
     "metadata": {},
     "output_type": "execute_result"
    }
   ],
   "source": [
    "x.split('o')"
   ]
  },
  {
   "cell_type": "code",
   "execution_count": 64,
   "id": "c2ccd963-2846-42ce-b25e-f34fb7e9058d",
   "metadata": {},
   "outputs": [
    {
     "name": "stdout",
     "output_type": "stream",
     "text": [
      "This is a string Inserted\n"
     ]
    }
   ],
   "source": [
    "print('This is a string {}'.format('Inserted'))"
   ]
  },
  {
   "cell_type": "code",
   "execution_count": 66,
   "id": "e0042f51-dfd4-491b-800a-fd875b1b097a",
   "metadata": {},
   "outputs": [
    {
     "name": "stdout",
     "output_type": "stream",
     "text": [
      "The brown fox\n"
     ]
    }
   ],
   "source": [
    "print (\"The {1} {0}\".format('fox','brown'))"
   ]
  },
  {
   "cell_type": "code",
   "execution_count": 67,
   "id": "b1b19c0b-b198-4729-9e3e-621cea6b9391",
   "metadata": {},
   "outputs": [
    {
     "name": "stdout",
     "output_type": "stream",
     "text": [
      "The quick\n"
     ]
    }
   ],
   "source": [
    "print (\"The {q}\".format(q='quick'))"
   ]
  },
  {
   "cell_type": "code",
   "execution_count": 68,
   "id": "108708e5-1bb4-44d1-9ea3-e233fa0f64d6",
   "metadata": {},
   "outputs": [],
   "source": [
    "result = 100/177"
   ]
  },
  {
   "cell_type": "code",
   "execution_count": 69,
   "id": "35a42f7c-441d-4967-8462-75391090a2c6",
   "metadata": {},
   "outputs": [
    {
     "data": {
      "text/plain": [
       "0.5649717514124294"
      ]
     },
     "execution_count": 69,
     "metadata": {},
     "output_type": "execute_result"
    }
   ],
   "source": [
    "result"
   ]
  },
  {
   "cell_type": "code",
   "execution_count": 70,
   "id": "88f6569f-f1cb-4610-834b-36599778e781",
   "metadata": {},
   "outputs": [
    {
     "name": "stdout",
     "output_type": "stream",
     "text": [
      "The result was: 0.5649717514124294\n"
     ]
    }
   ],
   "source": [
    "print(\"The result was: {}\".format(result))"
   ]
  },
  {
   "cell_type": "code",
   "execution_count": 73,
   "id": "a9eb9aca-5fb5-42f8-b0db-6b64440ffdd7",
   "metadata": {},
   "outputs": [
    {
     "name": "stdout",
     "output_type": "stream",
     "text": [
      "The result was: 0.565\n"
     ]
    }
   ],
   "source": [
    "print(\"The result was: {r:1.3f}\".format(r=result))"
   ]
  },
  {
   "cell_type": "code",
   "execution_count": 74,
   "id": "34c1e8c9-b8b3-4a5e-9f3b-433834f0ed11",
   "metadata": {},
   "outputs": [],
   "source": [
    "result =104.213242"
   ]
  },
  {
   "cell_type": "code",
   "execution_count": 75,
   "id": "6cc482d4-f61c-49cc-9ec2-f1cdb815a666",
   "metadata": {},
   "outputs": [
    {
     "name": "stdout",
     "output_type": "stream",
     "text": [
      "The result was: 104.213\n"
     ]
    }
   ],
   "source": [
    "print(\"The result was: {r:1.3f}\".format(r=result))"
   ]
  },
  {
   "cell_type": "code",
   "execution_count": 76,
   "id": "c387b1b9-44fa-42a0-904a-4b871b9a88ca",
   "metadata": {},
   "outputs": [],
   "source": [
    "name=\"Jose\""
   ]
  },
  {
   "cell_type": "code",
   "execution_count": 77,
   "id": "5e316a42-ed4d-4a97-a171-cf32f6809905",
   "metadata": {},
   "outputs": [
    {
     "name": "stdout",
     "output_type": "stream",
     "text": [
      "Hello his name is Jose\n"
     ]
    }
   ],
   "source": [
    "print(f'Hello his name is {name}')"
   ]
  },
  {
   "cell_type": "code",
   "execution_count": 78,
   "id": "a979c670-792c-4d69-8b0e-f4a0fa726f9f",
   "metadata": {},
   "outputs": [
    {
     "name": "stdout",
     "output_type": "stream",
     "text": [
      "Jose is 3 years old.\n"
     ]
    }
   ],
   "source": [
    "age =3 \n",
    "print(f'{name} is {age} years old.')"
   ]
  },
  {
   "cell_type": "code",
   "execution_count": 79,
   "id": "86e90943-747f-4168-814b-0b8d1af99904",
   "metadata": {},
   "outputs": [
    {
     "name": "stdout",
     "output_type": "stream",
     "text": [
      "Python rules!\n"
     ]
    }
   ],
   "source": [
    "print('{} {}!'.format('Python','rules'))"
   ]
  },
  {
   "cell_type": "code",
   "execution_count": 80,
   "id": "b50df918-ca35-4bd7-8b77-d064059379fb",
   "metadata": {},
   "outputs": [
    {
     "data": {
      "text/plain": [
       "[1, 2, 3]"
      ]
     },
     "execution_count": 80,
     "metadata": {},
     "output_type": "execute_result"
    }
   ],
   "source": [
    "#list\n",
    "mylist=[1,2,3]\n",
    "mylist"
   ]
  },
  {
   "cell_type": "code",
   "execution_count": 81,
   "id": "7b2947fc-e9a0-43ec-a800-e741fa890a12",
   "metadata": {},
   "outputs": [
    {
     "data": {
      "text/plain": [
       "['Hi', 12, 200.6]"
      ]
     },
     "execution_count": 81,
     "metadata": {},
     "output_type": "execute_result"
    }
   ],
   "source": [
    "mylist=['Hi',12,200.6]\n",
    "mylist"
   ]
  },
  {
   "cell_type": "code",
   "execution_count": 82,
   "id": "baa3e542-da20-4868-b3d9-d0b879d054a0",
   "metadata": {},
   "outputs": [
    {
     "data": {
      "text/plain": [
       "3"
      ]
     },
     "execution_count": 82,
     "metadata": {},
     "output_type": "execute_result"
    }
   ],
   "source": [
    "len(mylist)"
   ]
  },
  {
   "cell_type": "code",
   "execution_count": 83,
   "id": "f12ccdf1-7265-4328-b8c9-b7a2cbca67a8",
   "metadata": {},
   "outputs": [
    {
     "data": {
      "text/plain": [
       "'one'"
      ]
     },
     "execution_count": 83,
     "metadata": {},
     "output_type": "execute_result"
    }
   ],
   "source": [
    "mylist = ['one','two','three']\n",
    "mylist[0]"
   ]
  },
  {
   "cell_type": "code",
   "execution_count": 84,
   "id": "90e64fb2-0c89-4fb8-9189-964d4f898878",
   "metadata": {},
   "outputs": [
    {
     "data": {
      "text/plain": [
       "['two', 'three']"
      ]
     },
     "execution_count": 84,
     "metadata": {},
     "output_type": "execute_result"
    }
   ],
   "source": [
    "mylist[1:]"
   ]
  },
  {
   "cell_type": "code",
   "execution_count": 85,
   "id": "ae416be6-c132-4738-801c-324126bcf28b",
   "metadata": {},
   "outputs": [
    {
     "data": {
      "text/plain": [
       "['four']"
      ]
     },
     "execution_count": 85,
     "metadata": {},
     "output_type": "execute_result"
    }
   ],
   "source": [
    "anotherlist = ['four']\n",
    "anotherlist"
   ]
  },
  {
   "cell_type": "code",
   "execution_count": 86,
   "id": "a5a1058d-a9ca-45c1-980a-1b23f2dad94e",
   "metadata": {},
   "outputs": [],
   "source": [
    "mynewlist=mylist+anotherlist"
   ]
  },
  {
   "cell_type": "code",
   "execution_count": 87,
   "id": "8c844ee7-7ad4-4fdd-a895-4887d58d4540",
   "metadata": {},
   "outputs": [
    {
     "data": {
      "text/plain": [
       "['one', 'two', 'three', 'four']"
      ]
     },
     "execution_count": 87,
     "metadata": {},
     "output_type": "execute_result"
    }
   ],
   "source": [
    "mynewlist"
   ]
  },
  {
   "cell_type": "code",
   "execution_count": 89,
   "id": "2447b7c3-4a00-4784-931c-3c05f4a183c8",
   "metadata": {},
   "outputs": [
    {
     "data": {
      "text/plain": [
       "['one', 'two', 'three', 'five']"
      ]
     },
     "execution_count": 89,
     "metadata": {},
     "output_type": "execute_result"
    }
   ],
   "source": [
    "mynewlist[3]='five'\n",
    "mynewlist"
   ]
  },
  {
   "cell_type": "code",
   "execution_count": 90,
   "id": "4b62ac79-ae56-4397-9390-ab89e813bc69",
   "metadata": {},
   "outputs": [
    {
     "data": {
      "text/plain": [
       "['one', 'two', 'three', 'five', 'six']"
      ]
     },
     "execution_count": 90,
     "metadata": {},
     "output_type": "execute_result"
    }
   ],
   "source": [
    "mynewlist.append('six')\n",
    "mynewlist"
   ]
  },
  {
   "cell_type": "code",
   "execution_count": 91,
   "id": "c71f8a07-8c47-46b0-b3c8-4c3a6c6b4557",
   "metadata": {},
   "outputs": [
    {
     "data": {
      "text/plain": [
       "['one', 'two', 'three', 'five', 'six', 'seven']"
      ]
     },
     "execution_count": 91,
     "metadata": {},
     "output_type": "execute_result"
    }
   ],
   "source": [
    "mynewlist.append('seven')\n",
    "mynewlist"
   ]
  },
  {
   "cell_type": "code",
   "execution_count": 92,
   "id": "892e0afb-563e-4542-8fec-9ebbaf2f9c54",
   "metadata": {},
   "outputs": [
    {
     "data": {
      "text/plain": [
       "'seven'"
      ]
     },
     "execution_count": 92,
     "metadata": {},
     "output_type": "execute_result"
    }
   ],
   "source": [
    "mynewlist.pop()"
   ]
  },
  {
   "cell_type": "code",
   "execution_count": 93,
   "id": "dd3084c8-3048-485d-91cd-2016b894d901",
   "metadata": {},
   "outputs": [
    {
     "data": {
      "text/plain": [
       "['one', 'two', 'three', 'five', 'six']"
      ]
     },
     "execution_count": 93,
     "metadata": {},
     "output_type": "execute_result"
    }
   ],
   "source": [
    "mynewlist"
   ]
  },
  {
   "cell_type": "code",
   "execution_count": 94,
   "id": "f79351f7-7382-4b31-bf17-aee0c78ccd72",
   "metadata": {},
   "outputs": [],
   "source": [
    "popped_item = mynewlist.pop()"
   ]
  },
  {
   "cell_type": "code",
   "execution_count": 95,
   "id": "6669749f-172c-4922-9bb5-0e2c0ed182fd",
   "metadata": {},
   "outputs": [
    {
     "data": {
      "text/plain": [
       "'six'"
      ]
     },
     "execution_count": 95,
     "metadata": {},
     "output_type": "execute_result"
    }
   ],
   "source": [
    "popped_item"
   ]
  },
  {
   "cell_type": "code",
   "execution_count": 96,
   "id": "f725b235-3e69-4144-865f-a1f157ce12c1",
   "metadata": {},
   "outputs": [
    {
     "data": {
      "text/plain": [
       "['one', 'two', 'three', 'five']"
      ]
     },
     "execution_count": 96,
     "metadata": {},
     "output_type": "execute_result"
    }
   ],
   "source": [
    "mynewlist"
   ]
  },
  {
   "cell_type": "code",
   "execution_count": 97,
   "id": "aed07e01-854b-46c6-8564-bfc093bef526",
   "metadata": {},
   "outputs": [
    {
     "data": {
      "text/plain": [
       "'two'"
      ]
     },
     "execution_count": 97,
     "metadata": {},
     "output_type": "execute_result"
    }
   ],
   "source": [
    "mynewlist.pop(1)"
   ]
  },
  {
   "cell_type": "code",
   "execution_count": 98,
   "id": "3a0f1754-477c-4cbc-9a46-3622b0502a0f",
   "metadata": {},
   "outputs": [
    {
     "data": {
      "text/plain": [
       "['one', 'three', 'five']"
      ]
     },
     "execution_count": 98,
     "metadata": {},
     "output_type": "execute_result"
    }
   ],
   "source": [
    "mynewlist"
   ]
  },
  {
   "cell_type": "code",
   "execution_count": 103,
   "id": "f8989d7d-cc65-4afc-8fe3-862a99d0a445",
   "metadata": {},
   "outputs": [],
   "source": [
    "newlist=['a','e','d','c','b']\n",
    "newlist.sort()"
   ]
  },
  {
   "cell_type": "code",
   "execution_count": 104,
   "id": "489a3c78-3f57-4ec0-87b1-2ceb5a84c6a2",
   "metadata": {},
   "outputs": [
    {
     "data": {
      "text/plain": [
       "['a', 'b', 'c', 'd', 'e']"
      ]
     },
     "execution_count": 104,
     "metadata": {},
     "output_type": "execute_result"
    }
   ],
   "source": [
    "newlist"
   ]
  },
  {
   "cell_type": "code",
   "execution_count": 105,
   "id": "528b0bf6-6353-4580-933f-074ba7e1ee6c",
   "metadata": {},
   "outputs": [],
   "source": [
    "newlist.reverse()"
   ]
  },
  {
   "cell_type": "code",
   "execution_count": 106,
   "id": "495a3f15-be50-4c59-bf48-457b287027f2",
   "metadata": {},
   "outputs": [
    {
     "data": {
      "text/plain": [
       "['e', 'd', 'c', 'b', 'a']"
      ]
     },
     "execution_count": 106,
     "metadata": {},
     "output_type": "execute_result"
    }
   ],
   "source": [
    "newlist"
   ]
  },
  {
   "cell_type": "code",
   "execution_count": 107,
   "id": "fbb3476f-66ec-4985-be68-c6b4d5938adb",
   "metadata": {},
   "outputs": [
    {
     "data": {
      "text/plain": [
       "{'name': 'priya', 'age': '32'}"
      ]
     },
     "execution_count": 107,
     "metadata": {},
     "output_type": "execute_result"
    }
   ],
   "source": [
    "#dictionaries--quick to retrieve value without knowing index--cant sort\n",
    "#key-value pair\n",
    "mydict={'name':'priya','age':'32'}\n",
    "mydict"
   ]
  },
  {
   "cell_type": "code",
   "execution_count": 109,
   "id": "a41b27b4-d023-46a7-98d2-05bab5f311ca",
   "metadata": {},
   "outputs": [
    {
     "data": {
      "text/plain": [
       "'priya'"
      ]
     },
     "execution_count": 109,
     "metadata": {},
     "output_type": "execute_result"
    }
   ],
   "source": [
    "mydict['name']"
   ]
  },
  {
   "cell_type": "code",
   "execution_count": 116,
   "id": "6ed26242-c5b6-496a-8789-d97cfbce5a17",
   "metadata": {},
   "outputs": [],
   "source": [
    "d = {'k1':['a','b','c']}"
   ]
  },
  {
   "cell_type": "code",
   "execution_count": 117,
   "id": "77c33f6d-d219-45ac-ba0a-b43497e4dc67",
   "metadata": {},
   "outputs": [
    {
     "data": {
      "text/plain": [
       "'C'"
      ]
     },
     "execution_count": 117,
     "metadata": {},
     "output_type": "execute_result"
    }
   ],
   "source": [
    "d['k1'][2].upper()"
   ]
  },
  {
   "cell_type": "code",
   "execution_count": 118,
   "id": "38d8659b-ed72-4dc0-ba92-17d241370abb",
   "metadata": {},
   "outputs": [],
   "source": [
    "d['k2']=100"
   ]
  },
  {
   "cell_type": "code",
   "execution_count": 119,
   "id": "6789fc4c-720e-47e1-91f9-47b81ab4d0fa",
   "metadata": {},
   "outputs": [
    {
     "data": {
      "text/plain": [
       "{'k1': ['a', 'b', 'c'], 'k2': 100}"
      ]
     },
     "execution_count": 119,
     "metadata": {},
     "output_type": "execute_result"
    }
   ],
   "source": [
    "d"
   ]
  },
  {
   "cell_type": "code",
   "execution_count": 120,
   "id": "e0e96485-8a18-49fa-9afa-80627807410c",
   "metadata": {},
   "outputs": [],
   "source": [
    "d['k1']='new_value'"
   ]
  },
  {
   "cell_type": "code",
   "execution_count": 121,
   "id": "8264fa53-16cb-45b7-83ed-a852ac3f8ce1",
   "metadata": {},
   "outputs": [
    {
     "data": {
      "text/plain": [
       "{'k1': 'new_value', 'k2': 100}"
      ]
     },
     "execution_count": 121,
     "metadata": {},
     "output_type": "execute_result"
    }
   ],
   "source": [
    "d"
   ]
  },
  {
   "cell_type": "code",
   "execution_count": 122,
   "id": "8a04b49d-ba53-4a68-ad03-724bd4c38b6b",
   "metadata": {},
   "outputs": [
    {
     "data": {
      "text/plain": [
       "dict_keys(['k1', 'k2'])"
      ]
     },
     "execution_count": 122,
     "metadata": {},
     "output_type": "execute_result"
    }
   ],
   "source": [
    "d.keys()"
   ]
  },
  {
   "cell_type": "code",
   "execution_count": 123,
   "id": "c0be41b1-0451-41ca-9f13-bc99f7f663ff",
   "metadata": {},
   "outputs": [
    {
     "data": {
      "text/plain": [
       "dict_values(['new_value', 100])"
      ]
     },
     "execution_count": 123,
     "metadata": {},
     "output_type": "execute_result"
    }
   ],
   "source": [
    "d.values()"
   ]
  },
  {
   "cell_type": "code",
   "execution_count": 124,
   "id": "32d5a36b-6428-4f9b-8575-c7be47e2b5c1",
   "metadata": {},
   "outputs": [
    {
     "data": {
      "text/plain": [
       "dict_items([('k1', 'new_value'), ('k2', 100)])"
      ]
     },
     "execution_count": 124,
     "metadata": {},
     "output_type": "execute_result"
    }
   ],
   "source": [
    "d.items()"
   ]
  },
  {
   "cell_type": "code",
   "execution_count": 125,
   "id": "2a608bc3-64a0-4ac6-ac83-880d26dbc3e5",
   "metadata": {},
   "outputs": [
    {
     "data": {
      "text/plain": [
       "tuple"
      ]
     },
     "execution_count": 125,
     "metadata": {},
     "output_type": "execute_result"
    }
   ],
   "source": [
    "#tuples are immutable--once variable assigned cant change it\n",
    "t = (1,2,3)\n",
    "mylist = [1,2,3]\n",
    "type(t)"
   ]
  },
  {
   "cell_type": "code",
   "execution_count": 126,
   "id": "497e83e4-b6e3-4989-8996-e59bdb2c612a",
   "metadata": {},
   "outputs": [
    {
     "data": {
      "text/plain": [
       "(1, 2, 3)"
      ]
     },
     "execution_count": 126,
     "metadata": {},
     "output_type": "execute_result"
    }
   ],
   "source": [
    "t"
   ]
  },
  {
   "cell_type": "code",
   "execution_count": 127,
   "id": "84245ed9-5976-432b-8aed-2ad4d3e83bcb",
   "metadata": {},
   "outputs": [],
   "source": [
    "t = ('one',2)"
   ]
  },
  {
   "cell_type": "code",
   "execution_count": 128,
   "id": "52aef772-8d93-484e-a307-f5cf1244ace8",
   "metadata": {},
   "outputs": [
    {
     "data": {
      "text/plain": [
       "('one', 2)"
      ]
     },
     "execution_count": 128,
     "metadata": {},
     "output_type": "execute_result"
    }
   ],
   "source": [
    "t"
   ]
  },
  {
   "cell_type": "code",
   "execution_count": 129,
   "id": "452637ca-4e9d-48e9-b14d-3e55f216d82d",
   "metadata": {},
   "outputs": [
    {
     "data": {
      "text/plain": [
       "'one'"
      ]
     },
     "execution_count": 129,
     "metadata": {},
     "output_type": "execute_result"
    }
   ],
   "source": [
    "t[0]"
   ]
  },
  {
   "cell_type": "code",
   "execution_count": 130,
   "id": "daf3adc2-a24b-4789-aa03-2934a6c41753",
   "metadata": {},
   "outputs": [
    {
     "data": {
      "text/plain": [
       "2"
      ]
     },
     "execution_count": 130,
     "metadata": {},
     "output_type": "execute_result"
    }
   ],
   "source": [
    "t[-1]"
   ]
  },
  {
   "cell_type": "code",
   "execution_count": 131,
   "id": "3dd42c78-a1c9-48e5-bcd6-91cbd5d00b2e",
   "metadata": {},
   "outputs": [
    {
     "data": {
      "text/plain": [
       "2"
      ]
     },
     "execution_count": 131,
     "metadata": {},
     "output_type": "execute_result"
    }
   ],
   "source": [
    "t = ('a','a','b')\n",
    "t.count('a')"
   ]
  },
  {
   "cell_type": "code",
   "execution_count": 132,
   "id": "a33603cc-52df-4e29-916b-2282144bb632",
   "metadata": {},
   "outputs": [
    {
     "data": {
      "text/plain": [
       "0"
      ]
     },
     "execution_count": 132,
     "metadata": {},
     "output_type": "execute_result"
    }
   ],
   "source": [
    "t.index('a')"
   ]
  },
  {
   "cell_type": "code",
   "execution_count": 133,
   "id": "a7722b2b-ea1d-4e4e-ae4e-dc2bb190ae26",
   "metadata": {},
   "outputs": [
    {
     "data": {
      "text/plain": [
       "2"
      ]
     },
     "execution_count": 133,
     "metadata": {},
     "output_type": "execute_result"
    }
   ],
   "source": [
    "t.index('b')"
   ]
  },
  {
   "cell_type": "code",
   "execution_count": 134,
   "id": "3a1ca8f3-4a4d-41bc-ad11-69faa39239ea",
   "metadata": {},
   "outputs": [
    {
     "data": {
      "text/plain": [
       "[1, 2, 3]"
      ]
     },
     "execution_count": 134,
     "metadata": {},
     "output_type": "execute_result"
    }
   ],
   "source": [
    "mylist"
   ]
  },
  {
   "cell_type": "code",
   "execution_count": 136,
   "id": "dee1661a-72f1-4fc9-89dd-8de7bb99e2b6",
   "metadata": {},
   "outputs": [],
   "source": [
    "mylist[0]='new'"
   ]
  },
  {
   "cell_type": "code",
   "execution_count": 137,
   "id": "04fa7d21-dff9-4784-a832-ced5d81d55b8",
   "metadata": {},
   "outputs": [
    {
     "data": {
      "text/plain": [
       "['new', 2, 3]"
      ]
     },
     "execution_count": 137,
     "metadata": {},
     "output_type": "execute_result"
    }
   ],
   "source": [
    "mylist"
   ]
  },
  {
   "cell_type": "code",
   "execution_count": 138,
   "id": "883b3e4f-b649-4e20-8355-bec181b0ce82",
   "metadata": {},
   "outputs": [],
   "source": [
    "#tuples values cant be changed"
   ]
  },
  {
   "cell_type": "code",
   "execution_count": 139,
   "id": "17196b9a-a6fd-4bfb-b461-4847124f4c8d",
   "metadata": {},
   "outputs": [],
   "source": [
    "#set\n",
    "myset =set()"
   ]
  },
  {
   "cell_type": "code",
   "execution_count": 140,
   "id": "93b2abc5-7d3a-4302-8aa4-c920645251f8",
   "metadata": {},
   "outputs": [
    {
     "data": {
      "text/plain": [
       "set()"
      ]
     },
     "execution_count": 140,
     "metadata": {},
     "output_type": "execute_result"
    }
   ],
   "source": [
    "myset"
   ]
  },
  {
   "cell_type": "code",
   "execution_count": 141,
   "id": "687d7084-ed1e-48f2-8165-bbf4b6915009",
   "metadata": {},
   "outputs": [],
   "source": [
    "myset.add(1)"
   ]
  },
  {
   "cell_type": "code",
   "execution_count": 142,
   "id": "79600737-e15d-4450-a646-7f203841c264",
   "metadata": {},
   "outputs": [
    {
     "data": {
      "text/plain": [
       "{1}"
      ]
     },
     "execution_count": 142,
     "metadata": {},
     "output_type": "execute_result"
    }
   ],
   "source": [
    "myset"
   ]
  },
  {
   "cell_type": "code",
   "execution_count": 143,
   "id": "3a59899b-1c54-418d-91c5-29af21c22249",
   "metadata": {},
   "outputs": [],
   "source": [
    "myset.add(2)"
   ]
  },
  {
   "cell_type": "code",
   "execution_count": 144,
   "id": "16a6faa5-826c-4a6b-8018-fa4a11c7537d",
   "metadata": {},
   "outputs": [
    {
     "data": {
      "text/plain": [
       "{1, 2}"
      ]
     },
     "execution_count": 144,
     "metadata": {},
     "output_type": "execute_result"
    }
   ],
   "source": [
    "myset"
   ]
  },
  {
   "cell_type": "code",
   "execution_count": 147,
   "id": "ead8feb5-fcc4-4e1c-b8e0-f5662c30656c",
   "metadata": {},
   "outputs": [],
   "source": [
    "#only unique values in the set,unordered collection of unique elemets"
   ]
  },
  {
   "cell_type": "code",
   "execution_count": 146,
   "id": "d2b7271c-ecb0-4645-a66c-2778be1e240f",
   "metadata": {},
   "outputs": [
    {
     "data": {
      "text/plain": [
       "{1, 2, 3, 4}"
      ]
     },
     "execution_count": 146,
     "metadata": {},
     "output_type": "execute_result"
    }
   ],
   "source": [
    "mylist = [1,1,1,3,3,4,4,2,2,2]\n",
    "set(mylist)"
   ]
  },
  {
   "cell_type": "code",
   "execution_count": 148,
   "id": "b1923d7b-ac1e-4a5c-baf7-462f818c9b5d",
   "metadata": {},
   "outputs": [
    {
     "data": {
      "text/plain": [
       "True"
      ]
     },
     "execution_count": 148,
     "metadata": {},
     "output_type": "execute_result"
    }
   ],
   "source": [
    "#booleans- true or false\n",
    "True"
   ]
  },
  {
   "cell_type": "code",
   "execution_count": 149,
   "id": "b188fb6b-4f96-418a-8f85-1829b5396371",
   "metadata": {},
   "outputs": [
    {
     "data": {
      "text/plain": [
       "False"
      ]
     },
     "execution_count": 149,
     "metadata": {},
     "output_type": "execute_result"
    }
   ],
   "source": [
    "False"
   ]
  },
  {
   "cell_type": "code",
   "execution_count": 150,
   "id": "cc2e3557-bd04-4abc-ba7b-5cb8d586a186",
   "metadata": {},
   "outputs": [
    {
     "data": {
      "text/plain": [
       "bool"
      ]
     },
     "execution_count": 150,
     "metadata": {},
     "output_type": "execute_result"
    }
   ],
   "source": [
    "type(False)"
   ]
  },
  {
   "cell_type": "code",
   "execution_count": 151,
   "id": "402c4f27-8f11-4385-bfbc-90a48fb9ba14",
   "metadata": {},
   "outputs": [
    {
     "data": {
      "text/plain": [
       "False"
      ]
     },
     "execution_count": 151,
     "metadata": {},
     "output_type": "execute_result"
    }
   ],
   "source": [
    "1>5"
   ]
  },
  {
   "cell_type": "code",
   "execution_count": 152,
   "id": "5fed1f8b-4f0c-4530-b06b-8a95f10795ce",
   "metadata": {},
   "outputs": [
    {
     "data": {
      "text/plain": [
       "True"
      ]
     },
     "execution_count": 152,
     "metadata": {},
     "output_type": "execute_result"
    }
   ],
   "source": [
    "1 ==1"
   ]
  },
  {
   "cell_type": "code",
   "execution_count": 153,
   "id": "b32ca8a3-af60-4774-b312-ecf489dd35d9",
   "metadata": {},
   "outputs": [],
   "source": [
    "b = None"
   ]
  },
  {
   "cell_type": "code",
   "execution_count": 154,
   "id": "a9b2f966-7b88-4a28-ac7e-2a113255bcb9",
   "metadata": {},
   "outputs": [],
   "source": [
    "b"
   ]
  },
  {
   "cell_type": "code",
   "execution_count": 155,
   "id": "032a2158-8a45-4062-8cf2-66c5b8efb1cd",
   "metadata": {},
   "outputs": [
    {
     "data": {
      "text/plain": [
       "{1, 2}"
      ]
     },
     "execution_count": 155,
     "metadata": {},
     "output_type": "execute_result"
    }
   ],
   "source": [
    "set([1,1,2])"
   ]
  },
  {
   "cell_type": "code",
   "execution_count": 173,
   "id": "857419d4-4e10-4773-82ac-141886ff6a06",
   "metadata": {},
   "outputs": [],
   "source": [
    "#open and closing a file in jupyter notebook"
   ]
  },
  {
   "cell_type": "code",
   "execution_count": 157,
   "id": "76cc96b8-7050-4aa0-8c7a-047ce0c02321",
   "metadata": {},
   "outputs": [
    {
     "data": {
      "text/plain": [
       "'/Users/priyasuresh/Documents/Documents_Priya’s MacBook Pro/Selectiva_Systems_Training/python/python_training_files'"
      ]
     },
     "execution_count": 157,
     "metadata": {},
     "output_type": "execute_result"
    }
   ],
   "source": [
    "pwd"
   ]
  },
  {
   "cell_type": "code",
   "execution_count": 166,
   "id": "90e22c62-ad59-44a5-9ccc-481e6e18d914",
   "metadata": {},
   "outputs": [
    {
     "name": "stdout",
     "output_type": "stream",
     "text": [
      "First_notebook.ipynb  Object_and_DS.ipynb   text.txt\n"
     ]
    }
   ],
   "source": [
    "ls"
   ]
  },
  {
   "cell_type": "code",
   "execution_count": 167,
   "id": "8dca5da0-1d49-45f7-86eb-d09c1b74a54c",
   "metadata": {},
   "outputs": [],
   "source": [
    "myfile=open('/Users/priyasuresh/Documents/Documents_Priya’s MacBook Pro/Selectiva_Systems_Training/python/python_training_files/text.txt')"
   ]
  },
  {
   "cell_type": "code",
   "execution_count": 168,
   "id": "f304facd-6232-48c7-9bb2-3c2c49fb7800",
   "metadata": {},
   "outputs": [
    {
     "data": {
      "text/plain": [
       "'Hi\\nHello\\nwelcome'"
      ]
     },
     "execution_count": 168,
     "metadata": {},
     "output_type": "execute_result"
    }
   ],
   "source": [
    "myfile.read()"
   ]
  },
  {
   "cell_type": "code",
   "execution_count": 171,
   "id": "e46e803d-f263-4100-8297-704d4c29d3db",
   "metadata": {},
   "outputs": [
    {
     "data": {
      "text/plain": [
       "['Hi\\n', 'Hello\\n', 'welcome']"
      ]
     },
     "execution_count": 171,
     "metadata": {},
     "output_type": "execute_result"
    }
   ],
   "source": [
    "myfile.readlines()"
   ]
  },
  {
   "cell_type": "code",
   "execution_count": 170,
   "id": "735f32eb-92f2-4304-889f-5825139dc851",
   "metadata": {},
   "outputs": [
    {
     "data": {
      "text/plain": [
       "0"
      ]
     },
     "execution_count": 170,
     "metadata": {},
     "output_type": "execute_result"
    }
   ],
   "source": [
    "myfile.seek(0)"
   ]
  },
  {
   "cell_type": "code",
   "execution_count": 172,
   "id": "e6fae7e9-04ba-4e54-b05e-3f5ab64138a0",
   "metadata": {},
   "outputs": [],
   "source": [
    "myfile.close()"
   ]
  },
  {
   "cell_type": "code",
   "execution_count": null,
   "id": "f57562d8-83c0-4d6b-931c-7ea87e48caf5",
   "metadata": {},
   "outputs": [],
   "source": [
    "with open('test.txt', mode='w') as f:\n",
    "    f.write('Hello World')"
   ]
  }
 ],
 "metadata": {
  "kernelspec": {
   "display_name": "Python 3.10.4 (pyenv)",
   "language": "python",
   "name": "pyenv3104"
  },
  "language_info": {
   "codemirror_mode": {
    "name": "ipython",
    "version": 3
   },
   "file_extension": ".py",
   "mimetype": "text/x-python",
   "name": "python",
   "nbconvert_exporter": "python",
   "pygments_lexer": "ipython3",
   "version": "3.10.4"
  }
 },
 "nbformat": 4,
 "nbformat_minor": 5
}
