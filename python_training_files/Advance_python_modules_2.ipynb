{
 "cells": [
  {
   "cell_type": "code",
   "execution_count": 1,
   "id": "1599ea39-9489-4c00-bda2-52f5636f04de",
   "metadata": {},
   "outputs": [],
   "source": [
    "#python debugger"
   ]
  },
  {
   "cell_type": "code",
   "execution_count": 2,
   "id": "7fb1bf39-96e1-4f82-8811-977dcad7cd1e",
   "metadata": {},
   "outputs": [],
   "source": [
    "x = [1,2,3]\n",
    "y =2\n",
    "z =4\n"
   ]
  },
  {
   "cell_type": "code",
   "execution_count": 3,
   "id": "c571d63c-a13a-4d6e-9502-622b41de5fbe",
   "metadata": {},
   "outputs": [],
   "source": [
    "import pdb"
   ]
  },
  {
   "cell_type": "code",
   "execution_count": 5,
   "id": "ebf2467f-f4f9-4f8d-9cfc-2e33e1150fcc",
   "metadata": {},
   "outputs": [
    {
     "ename": "TypeError",
     "evalue": "unsupported operand type(s) for +: 'int' and 'list'",
     "output_type": "error",
     "traceback": [
      "\u001b[0;31m---------------------------------------------------------------------------\u001b[0m",
      "\u001b[0;31mTypeError\u001b[0m                                 Traceback (most recent call last)",
      "Cell \u001b[0;32mIn[5], line 3\u001b[0m\n\u001b[1;32m      1\u001b[0m result_one \u001b[38;5;241m=\u001b[39m y\u001b[38;5;241m+\u001b[39mz\n\u001b[0;32m----> 3\u001b[0m result_two \u001b[38;5;241m=\u001b[39m \u001b[43my\u001b[49m\u001b[38;5;241;43m+\u001b[39;49m\u001b[43mx\u001b[49m\n",
      "\u001b[0;31mTypeError\u001b[0m: unsupported operand type(s) for +: 'int' and 'list'"
     ]
    }
   ],
   "source": [
    "result_one = y+z\n",
    "\n",
    "result_two = y+x"
   ]
  },
  {
   "cell_type": "code",
   "execution_count": 6,
   "id": "51f02a90-9b2a-42b0-a72d-4b6c14f36fc1",
   "metadata": {},
   "outputs": [
    {
     "name": "stdout",
     "output_type": "stream",
     "text": [
      "--Return--\n",
      "None\n",
      "> \u001b[0;32m/var/folders/9j/0m5g2l6d03z4pd5y6pt7xh1h0000gn/T/ipykernel_44991/3689275592.py\u001b[0m(7)\u001b[0;36m<module>\u001b[0;34m()\u001b[0m\n",
      "\u001b[0;32m      4 \u001b[0;31m\u001b[0;34m\u001b[0m\u001b[0m\n",
      "\u001b[0m\u001b[0;32m      5 \u001b[0;31m\u001b[0mresult_one\u001b[0m \u001b[0;34m=\u001b[0m \u001b[0my\u001b[0m\u001b[0;34m+\u001b[0m\u001b[0mz\u001b[0m\u001b[0;34m\u001b[0m\u001b[0;34m\u001b[0m\u001b[0m\n",
      "\u001b[0m\u001b[0;32m      6 \u001b[0;31m\u001b[0;31m#set trace before error line 7\u001b[0m\u001b[0;34m\u001b[0m\u001b[0;34m\u001b[0m\u001b[0m\n",
      "\u001b[0m\u001b[0;32m----> 7 \u001b[0;31m\u001b[0mpdb\u001b[0m\u001b[0;34m.\u001b[0m\u001b[0mset_trace\u001b[0m\u001b[0;34m(\u001b[0m\u001b[0;34m)\u001b[0m\u001b[0;34m\u001b[0m\u001b[0;34m\u001b[0m\u001b[0m\n",
      "\u001b[0m\u001b[0;32m      8 \u001b[0;31m\u001b[0mresult_two\u001b[0m \u001b[0;34m=\u001b[0m \u001b[0my\u001b[0m\u001b[0;34m+\u001b[0m\u001b[0mx\u001b[0m\u001b[0;34m\u001b[0m\u001b[0;34m\u001b[0m\u001b[0m\n",
      "\u001b[0m\n"
     ]
    },
    {
     "name": "stdin",
     "output_type": "stream",
     "text": [
      "ipdb>  x\n"
     ]
    },
    {
     "name": "stdout",
     "output_type": "stream",
     "text": [
      "[1, 2, 3]\n"
     ]
    },
    {
     "name": "stdin",
     "output_type": "stream",
     "text": [
      "ipdb>  y\n"
     ]
    },
    {
     "name": "stdout",
     "output_type": "stream",
     "text": [
      "2\n"
     ]
    },
    {
     "name": "stdin",
     "output_type": "stream",
     "text": [
      "ipdb>  result_one\n"
     ]
    },
    {
     "name": "stdout",
     "output_type": "stream",
     "text": [
      "6\n"
     ]
    },
    {
     "name": "stdin",
     "output_type": "stream",
     "text": [
      "ipdb>  q\n"
     ]
    }
   ],
   "source": [
    "x = [1,2,3]\n",
    "y =2\n",
    "z =4\n",
    "\n",
    "result_one = y+z\n",
    "#set trace before error line 7\n",
    "pdb.set_trace()\n",
    "result_two = y+x"
   ]
  },
  {
   "cell_type": "code",
   "execution_count": null,
   "id": "65a74405-e55e-4ef1-9e65-4736e66c75e0",
   "metadata": {},
   "outputs": [],
   "source": []
  },
  {
   "cell_type": "code",
   "execution_count": 7,
   "id": "84aa5bc4-ae41-420f-aa27-a4adc990570b",
   "metadata": {},
   "outputs": [],
   "source": [
    "#python regular expression part one"
   ]
  },
  {
   "cell_type": "code",
   "execution_count": 8,
   "id": "73451ec6-d7c8-4e8e-943a-b69d3d1b21ec",
   "metadata": {},
   "outputs": [],
   "source": [
    "# email format ==  text + @ +text +.com"
   ]
  },
  {
   "cell_type": "code",
   "execution_count": 19,
   "id": "c2ef7dfa-8ac5-4f3c-8669-2dce1cb169b8",
   "metadata": {},
   "outputs": [],
   "source": [
    "text = \"The agent's phone number is 408-777-1234. agent call soon\""
   ]
  },
  {
   "cell_type": "code",
   "execution_count": 10,
   "id": "44150ae9-d9c0-432a-84ab-8e50b2fae94f",
   "metadata": {},
   "outputs": [
    {
     "data": {
      "text/plain": [
       "True"
      ]
     },
     "execution_count": 10,
     "metadata": {},
     "output_type": "execute_result"
    }
   ],
   "source": [
    "'phone' in text"
   ]
  },
  {
   "cell_type": "code",
   "execution_count": 11,
   "id": "ce8e1261-a849-40e8-aa78-c68a745b4b61",
   "metadata": {},
   "outputs": [],
   "source": [
    "import re"
   ]
  },
  {
   "cell_type": "code",
   "execution_count": 12,
   "id": "b4762fe2-85ae-4b5b-84e9-87e821c2dcd3",
   "metadata": {},
   "outputs": [],
   "source": [
    "pattern = 'phone'"
   ]
  },
  {
   "cell_type": "code",
   "execution_count": 13,
   "id": "58e0501d-b17e-4000-9af5-6a7ea6c2f109",
   "metadata": {},
   "outputs": [
    {
     "data": {
      "text/plain": [
       "<re.Match object; span=(12, 17), match='phone'>"
      ]
     },
     "execution_count": 13,
     "metadata": {},
     "output_type": "execute_result"
    }
   ],
   "source": [
    "re.search(pattern,text)"
   ]
  },
  {
   "cell_type": "code",
   "execution_count": 14,
   "id": "a3e13ab5-40b8-49df-9f52-d5cd147e4bce",
   "metadata": {},
   "outputs": [],
   "source": [
    "pattern ='hello'"
   ]
  },
  {
   "cell_type": "code",
   "execution_count": 15,
   "id": "03df24ce-f102-4cb0-b462-687d5ae22337",
   "metadata": {},
   "outputs": [],
   "source": [
    "re.search(pattern,text)"
   ]
  },
  {
   "cell_type": "code",
   "execution_count": 16,
   "id": "f8aec6f9-150f-4364-919e-a0bddec5ec5e",
   "metadata": {},
   "outputs": [],
   "source": [
    "pattern = 'phone'"
   ]
  },
  {
   "cell_type": "code",
   "execution_count": 17,
   "id": "2acb4929-c1f0-4e71-8647-2754c57f82b2",
   "metadata": {},
   "outputs": [],
   "source": [
    "match = re.search(pattern,text)"
   ]
  },
  {
   "cell_type": "code",
   "execution_count": 18,
   "id": "ae046b8b-75f8-4f8c-81c2-4cc3b0fbe09f",
   "metadata": {},
   "outputs": [
    {
     "data": {
      "text/plain": [
       "(12, 17)"
      ]
     },
     "execution_count": 18,
     "metadata": {},
     "output_type": "execute_result"
    }
   ],
   "source": [
    "match.span()"
   ]
  },
  {
   "cell_type": "code",
   "execution_count": 20,
   "id": "6b5b0a42-07af-4c69-af09-aa6883f9e58c",
   "metadata": {},
   "outputs": [],
   "source": [
    "matches = re.findall('agent',text)"
   ]
  },
  {
   "cell_type": "code",
   "execution_count": 21,
   "id": "6c9fd464-c14c-4fe6-9a4a-d2a11a4d29f6",
   "metadata": {},
   "outputs": [
    {
     "data": {
      "text/plain": [
       "['agent', 'agent']"
      ]
     },
     "execution_count": 21,
     "metadata": {},
     "output_type": "execute_result"
    }
   ],
   "source": [
    "matches"
   ]
  },
  {
   "cell_type": "code",
   "execution_count": 22,
   "id": "2362e29a-cfb1-4131-af21-13702a64b865",
   "metadata": {},
   "outputs": [],
   "source": [
    "text = \"The agent's phone number is 408-777-1234. agent call soon\""
   ]
  },
  {
   "cell_type": "code",
   "execution_count": 23,
   "id": "cf91c842-581c-4a3f-afa9-274ff55cb18b",
   "metadata": {},
   "outputs": [],
   "source": [
    "phone =  re.search(r'\\d\\d\\d-\\d\\d\\d-\\d\\d\\d\\d',text)"
   ]
  },
  {
   "cell_type": "code",
   "execution_count": 24,
   "id": "de74afcd-39b0-46b5-b0a4-c592208326c3",
   "metadata": {},
   "outputs": [
    {
     "data": {
      "text/plain": [
       "<re.Match object; span=(28, 40), match='408-777-1234'>"
      ]
     },
     "execution_count": 24,
     "metadata": {},
     "output_type": "execute_result"
    }
   ],
   "source": [
    "phone"
   ]
  },
  {
   "cell_type": "code",
   "execution_count": 29,
   "id": "86ea522a-e714-42ba-ab9d-ee9cc67aaf76",
   "metadata": {},
   "outputs": [],
   "source": [
    "text1 = \"The agent's phone number is 998-777-1234. agent call soon\""
   ]
  },
  {
   "cell_type": "code",
   "execution_count": 30,
   "id": "b395fa26-9168-4634-9a57-a3d65e182531",
   "metadata": {},
   "outputs": [],
   "source": [
    "phone1 =  re.search(r'\\d\\d\\d-\\d\\d\\d-\\d\\d\\d\\d',text1)"
   ]
  },
  {
   "cell_type": "code",
   "execution_count": 31,
   "id": "8453f6e2-231c-4bee-9443-0d0a9e200750",
   "metadata": {},
   "outputs": [
    {
     "data": {
      "text/plain": [
       "<re.Match object; span=(28, 40), match='998-777-1234'>"
      ]
     },
     "execution_count": 31,
     "metadata": {},
     "output_type": "execute_result"
    }
   ],
   "source": [
    "phone1"
   ]
  },
  {
   "cell_type": "code",
   "execution_count": 32,
   "id": "3c8252b3-3c6c-440d-a670-c5e11ded1f0a",
   "metadata": {},
   "outputs": [],
   "source": [
    "#quantifiers\n",
    "phone12 =  re.search(r'\\d{3}-\\d{3}-\\d{4}',text1)"
   ]
  },
  {
   "cell_type": "code",
   "execution_count": 33,
   "id": "ff6fd6cc-a2b4-4f87-b463-a0a31ef0d99e",
   "metadata": {},
   "outputs": [
    {
     "data": {
      "text/plain": [
       "<re.Match object; span=(28, 40), match='998-777-1234'>"
      ]
     },
     "execution_count": 33,
     "metadata": {},
     "output_type": "execute_result"
    }
   ],
   "source": [
    "phone12"
   ]
  },
  {
   "cell_type": "code",
   "execution_count": 34,
   "id": "f69114bd-f065-4f82-904f-ace54bb76c6c",
   "metadata": {},
   "outputs": [],
   "source": [
    "#Additional Regex Syntax"
   ]
  },
  {
   "cell_type": "code",
   "execution_count": 35,
   "id": "3b58e2c0-1add-4dcb-aa53-fce4465c46d2",
   "metadata": {},
   "outputs": [
    {
     "data": {
      "text/plain": [
       "<re.Match object; span=(4, 7), match='cat'>"
      ]
     },
     "execution_count": 35,
     "metadata": {},
     "output_type": "execute_result"
    }
   ],
   "source": [
    "re.search(r'cat|dog',\"The cat is here\")"
   ]
  },
  {
   "cell_type": "code",
   "execution_count": 36,
   "id": "5d637e34-6e4a-4333-b547-90e6fef4d3ed",
   "metadata": {},
   "outputs": [
    {
     "data": {
      "text/plain": [
       "['cat', 'hat', 'lat']"
      ]
     },
     "execution_count": 36,
     "metadata": {},
     "output_type": "execute_result"
    }
   ],
   "source": [
    "re.findall(r'.at',\"The cat in the hat went splat\")"
   ]
  },
  {
   "cell_type": "code",
   "execution_count": 37,
   "id": "bb6ffa60-ad69-4707-9efa-752b525ded17",
   "metadata": {},
   "outputs": [
    {
     "data": {
      "text/plain": [
       "['e cat', 'e hat', 'splat']"
      ]
     },
     "execution_count": 37,
     "metadata": {},
     "output_type": "execute_result"
    }
   ],
   "source": [
    "re.findall(r'...at',\"The cat in the hat went splat\")"
   ]
  },
  {
   "cell_type": "code",
   "execution_count": 39,
   "id": "a4295078-54ce-4d57-8f74-8b58ac9c63af",
   "metadata": {},
   "outputs": [
    {
     "data": {
      "text/plain": [
       "['1']"
      ]
     },
     "execution_count": 39,
     "metadata": {},
     "output_type": "execute_result"
    }
   ],
   "source": [
    "re.findall(r'^\\d',\"1 is a number\") #entire sentence starts with a number"
   ]
  },
  {
   "cell_type": "code",
   "execution_count": 42,
   "id": "51007bb1-7151-47f5-b1b8-d8e2a8c4a1a2",
   "metadata": {},
   "outputs": [
    {
     "data": {
      "text/plain": [
       "['2']"
      ]
     },
     "execution_count": 42,
     "metadata": {},
     "output_type": "execute_result"
    }
   ],
   "source": [
    "re.findall(r'\\d$',\"The a number 2\")"
   ]
  },
  {
   "cell_type": "code",
   "execution_count": null,
   "id": "8b833f78-d8af-41e4-994a-f08013095715",
   "metadata": {},
   "outputs": [],
   "source": []
  },
  {
   "cell_type": "code",
   "execution_count": null,
   "id": "217a8180-436d-4510-9155-316044935f95",
   "metadata": {},
   "outputs": [],
   "source": []
  },
  {
   "cell_type": "code",
   "execution_count": 49,
   "id": "574fafc9-29ac-4418-a7c5-077785e670ee",
   "metadata": {},
   "outputs": [],
   "source": [
    "phrase = 'there are 3 and 34 inside 5 in this sentence'"
   ]
  },
  {
   "cell_type": "code",
   "execution_count": 50,
   "id": "fa103dae-4254-4f6c-8951-2bd18986fa13",
   "metadata": {},
   "outputs": [],
   "source": [
    "#exclude digit\n",
    "\n",
    "pattern = r'[^\\d]' "
   ]
  },
  {
   "cell_type": "code",
   "execution_count": 51,
   "id": "48c896dd-8045-4ac1-a994-a9eadbac3dd6",
   "metadata": {},
   "outputs": [
    {
     "data": {
      "text/plain": [
       "['t',\n",
       " 'h',\n",
       " 'e',\n",
       " 'r',\n",
       " 'e',\n",
       " ' ',\n",
       " 'a',\n",
       " 'r',\n",
       " 'e',\n",
       " ' ',\n",
       " ' ',\n",
       " 'a',\n",
       " 'n',\n",
       " 'd',\n",
       " ' ',\n",
       " ' ',\n",
       " 'i',\n",
       " 'n',\n",
       " 's',\n",
       " 'i',\n",
       " 'd',\n",
       " 'e',\n",
       " ' ',\n",
       " ' ',\n",
       " 'i',\n",
       " 'n',\n",
       " ' ',\n",
       " 't',\n",
       " 'h',\n",
       " 'i',\n",
       " 's',\n",
       " ' ',\n",
       " 's',\n",
       " 'e',\n",
       " 'n',\n",
       " 't',\n",
       " 'e',\n",
       " 'n',\n",
       " 'c',\n",
       " 'e']"
      ]
     },
     "execution_count": 51,
     "metadata": {},
     "output_type": "execute_result"
    }
   ],
   "source": [
    "re.findall(pattern,phrase)"
   ]
  },
  {
   "cell_type": "code",
   "execution_count": 54,
   "id": "21e0b411-880b-4a84-ac36-27087d9f8623",
   "metadata": {},
   "outputs": [],
   "source": [
    "pattern = r'[^\\d]+' #remove numbers in the senetence"
   ]
  },
  {
   "cell_type": "code",
   "execution_count": 55,
   "id": "dac31c7d-e944-48a3-8bd9-70c267c38c64",
   "metadata": {},
   "outputs": [
    {
     "data": {
      "text/plain": [
       "['there are ', ' and ', ' inside ', ' in this sentence']"
      ]
     },
     "execution_count": 55,
     "metadata": {},
     "output_type": "execute_result"
    }
   ],
   "source": [
    "re.findall(pattern,phrase)"
   ]
  },
  {
   "cell_type": "code",
   "execution_count": null,
   "id": "7c734bcd-c47c-4617-afab-449a79c89ea8",
   "metadata": {},
   "outputs": [],
   "source": []
  },
  {
   "cell_type": "code",
   "execution_count": null,
   "id": "054115fa-0d58-42b7-aede-6342ca9d9f4a",
   "metadata": {},
   "outputs": [],
   "source": []
  },
  {
   "cell_type": "code",
   "execution_count": 56,
   "id": "72888ae2-39e7-4218-816e-035b84ee9e04",
   "metadata": {},
   "outputs": [],
   "source": [
    "text = \"only find the hypen-words in this sentence. But yo do not know how long-ish the text is\""
   ]
  },
  {
   "cell_type": "code",
   "execution_count": 63,
   "id": "def5aab6-7a2b-4c21-9247-5dd23bca418f",
   "metadata": {},
   "outputs": [],
   "source": [
    "pattern = r'[\\w]+-[\\w]+'"
   ]
  },
  {
   "cell_type": "code",
   "execution_count": 64,
   "id": "4896e7ff-55cc-42f7-baaf-ebe8caa80645",
   "metadata": {},
   "outputs": [
    {
     "data": {
      "text/plain": [
       "['hypen-words', 'long-ish']"
      ]
     },
     "execution_count": 64,
     "metadata": {},
     "output_type": "execute_result"
    }
   ],
   "source": [
    "re.findall(pattern,text)"
   ]
  },
  {
   "cell_type": "code",
   "execution_count": null,
   "id": "cf5bdefd-b298-4bc3-a575-1d4ba2020fbe",
   "metadata": {},
   "outputs": [],
   "source": []
  },
  {
   "cell_type": "code",
   "execution_count": null,
   "id": "3859efa7-2770-44ee-b81b-9de5fad61529",
   "metadata": {},
   "outputs": [],
   "source": []
  },
  {
   "cell_type": "markdown",
   "id": "e207103c-988b-4b5d-a06c-d9a1a0b17db9",
   "metadata": {},
   "source": [
    "Timing your python code"
   ]
  },
  {
   "cell_type": "code",
   "execution_count": 67,
   "id": "40fa274d-8991-4c9b-8261-67b00f54fc63",
   "metadata": {},
   "outputs": [],
   "source": [
    "def func_one(n):\n",
    "    return [str(num) for num in range(n)]"
   ]
  },
  {
   "cell_type": "code",
   "execution_count": 68,
   "id": "a6a20741-0615-4f55-8aed-0dc4eb809697",
   "metadata": {},
   "outputs": [
    {
     "data": {
      "text/plain": [
       "['0', '1', '2', '3', '4', '5', '6', '7', '8', '9']"
      ]
     },
     "execution_count": 68,
     "metadata": {},
     "output_type": "execute_result"
    }
   ],
   "source": [
    "func_one(10)"
   ]
  },
  {
   "cell_type": "code",
   "execution_count": 69,
   "id": "6166fe36-a7e6-405f-b4c3-d483e843bb1a",
   "metadata": {},
   "outputs": [],
   "source": [
    "def func_two(n):\n",
    "    return list(map(str,range(n)))"
   ]
  },
  {
   "cell_type": "code",
   "execution_count": 70,
   "id": "8323d6b3-b383-4e00-90e8-b16eceae1cf0",
   "metadata": {},
   "outputs": [
    {
     "data": {
      "text/plain": [
       "['0', '1', '2', '3', '4', '5', '6', '7', '8', '9']"
      ]
     },
     "execution_count": 70,
     "metadata": {},
     "output_type": "execute_result"
    }
   ],
   "source": [
    "func_two(10)"
   ]
  },
  {
   "cell_type": "code",
   "execution_count": 71,
   "id": "40c8fc49-e137-4984-96fd-29cc9af20c74",
   "metadata": {},
   "outputs": [],
   "source": [
    "import time"
   ]
  },
  {
   "cell_type": "code",
   "execution_count": 72,
   "id": "53d26052-7555-4ab2-a517-c94052c32cdb",
   "metadata": {},
   "outputs": [
    {
     "name": "stdout",
     "output_type": "stream",
     "text": [
      "0.8837478160858154\n"
     ]
    }
   ],
   "source": [
    "#current time before\n",
    "start_time = time.time()\n",
    "#run code\n",
    "result = func_one(10000000)\n",
    "#current time after running code\n",
    "end_time =time.time()\n",
    "#elasped time\n",
    "elasped_time = end_time - start_time\n",
    "\n",
    "print(elasped_time)"
   ]
  },
  {
   "cell_type": "code",
   "execution_count": 73,
   "id": "108e1212-b475-4b32-ad0d-97e34fb8f229",
   "metadata": {},
   "outputs": [
    {
     "name": "stdout",
     "output_type": "stream",
     "text": [
      "0.7869129180908203\n"
     ]
    }
   ],
   "source": [
    "#current time before\n",
    "start_time = time.time()\n",
    "#run code\n",
    "result = func_two(10000000)\n",
    "#current time after running code\n",
    "end_time =time.time()\n",
    "#elasped time\n",
    "elasped_time = end_time - start_time\n",
    "\n",
    "print(elasped_time)"
   ]
  },
  {
   "cell_type": "code",
   "execution_count": 74,
   "id": "c599c9ae-384b-4ece-a96c-2a332a9d31f7",
   "metadata": {},
   "outputs": [],
   "source": [
    "import timeit"
   ]
  },
  {
   "cell_type": "code",
   "execution_count": 75,
   "id": "033aad62-2ef1-408a-bb0e-a0e20dabda32",
   "metadata": {},
   "outputs": [],
   "source": [
    "stmt = ''' \n",
    "func_one(100)\n",
    "'''"
   ]
  },
  {
   "cell_type": "code",
   "execution_count": 76,
   "id": "4ea64526-7b7d-4e38-b73b-56d6bc961459",
   "metadata": {},
   "outputs": [],
   "source": [
    "setup  = ''' \n",
    "def func_one(n):\n",
    "    return [str(num) for num in range(n)]\n",
    "'''"
   ]
  },
  {
   "cell_type": "code",
   "execution_count": 77,
   "id": "970b5f25-29b2-4cc3-9200-fb18d1b4bf60",
   "metadata": {},
   "outputs": [
    {
     "data": {
      "text/plain": [
       "0.7084993750031572"
      ]
     },
     "execution_count": 77,
     "metadata": {},
     "output_type": "execute_result"
    }
   ],
   "source": [
    "timeit.timeit(stmt,setup,number=100000)"
   ]
  },
  {
   "cell_type": "code",
   "execution_count": 78,
   "id": "7d01be7d-3f98-4dda-9cdd-37f27e4ea023",
   "metadata": {},
   "outputs": [],
   "source": [
    "stmt = ''' \n",
    "func_two(100)\n",
    "'''"
   ]
  },
  {
   "cell_type": "code",
   "execution_count": 80,
   "id": "b188023f-5723-402c-a8ba-8f684fc8d455",
   "metadata": {},
   "outputs": [],
   "source": [
    "setup  = ''' \n",
    "def func_two(n):\n",
    "    return list(map(str,range(n)))\n",
    "'''"
   ]
  },
  {
   "cell_type": "code",
   "execution_count": 81,
   "id": "f8c1575c-865d-47a1-bc20-007a5260c2e3",
   "metadata": {},
   "outputs": [
    {
     "data": {
      "text/plain": [
       "0.6280713749874849"
      ]
     },
     "execution_count": 81,
     "metadata": {},
     "output_type": "execute_result"
    }
   ],
   "source": [
    "timeit.timeit(stmt,setup,number=100000)"
   ]
  },
  {
   "cell_type": "code",
   "execution_count": 82,
   "id": "2f2d78c5-79b9-4644-985d-967663b928fa",
   "metadata": {},
   "outputs": [
    {
     "name": "stdout",
     "output_type": "stream",
     "text": [
      "6.77 µs ± 59.9 ns per loop (mean ± std. dev. of 7 runs, 100,000 loops each)\n"
     ]
    }
   ],
   "source": [
    "%%timeit\n",
    "func_one(100)"
   ]
  },
  {
   "cell_type": "code",
   "execution_count": 83,
   "id": "19225543-80b0-40fd-b92c-6702c50cd0e5",
   "metadata": {},
   "outputs": [
    {
     "name": "stdout",
     "output_type": "stream",
     "text": [
      "5.88 µs ± 72 ns per loop (mean ± std. dev. of 7 runs, 100,000 loops each)\n"
     ]
    }
   ],
   "source": [
    "%%timeit\n",
    "func_two(100)"
   ]
  },
  {
   "cell_type": "code",
   "execution_count": null,
   "id": "62509f17-db06-4f3a-97e3-48fff4c8d433",
   "metadata": {},
   "outputs": [],
   "source": []
  },
  {
   "cell_type": "code",
   "execution_count": null,
   "id": "142b25fd-657d-4881-8851-0c2f660072a9",
   "metadata": {},
   "outputs": [],
   "source": []
  },
  {
   "cell_type": "code",
   "execution_count": 84,
   "id": "c6650d09-9aee-43bb-b421-e5e12b0a5fa1",
   "metadata": {},
   "outputs": [],
   "source": [
    "#zipping and unzipping files in python"
   ]
  },
  {
   "cell_type": "code",
   "execution_count": 85,
   "id": "90d4ef6c-145e-4328-a35c-e63de33f6db1",
   "metadata": {},
   "outputs": [],
   "source": [
    "f = open('fileone.txt','w+')\n",
    "f.write(\"One file\")\n",
    "f.close()"
   ]
  },
  {
   "cell_type": "code",
   "execution_count": 86,
   "id": "dd5e4626-97b0-4204-82db-c3e96d518bfa",
   "metadata": {},
   "outputs": [],
   "source": [
    "f = open('filetwo.txt','w+')\n",
    "f.write(\"Two file\")\n",
    "f.close()"
   ]
  },
  {
   "cell_type": "code",
   "execution_count": 87,
   "id": "183ace4e-3508-405c-a708-c5588364d059",
   "metadata": {},
   "outputs": [],
   "source": [
    "import zipfile"
   ]
  },
  {
   "cell_type": "code",
   "execution_count": 88,
   "id": "8a81b1d1-5875-42f4-80a5-fe1ba92a2a82",
   "metadata": {},
   "outputs": [],
   "source": [
    "comp_file = zipfile.ZipFile('comp_file.zip','w')"
   ]
  },
  {
   "cell_type": "code",
   "execution_count": 90,
   "id": "07e58375-fab2-4b89-badd-c3f736bac9ed",
   "metadata": {},
   "outputs": [],
   "source": [
    "comp_file.write('fileone.txt',compress_type = zipfile.ZIP_DEFLATED)\n"
   ]
  },
  {
   "cell_type": "code",
   "execution_count": 91,
   "id": "e5e17440-c8f9-463b-92ab-cdced8e0c4b8",
   "metadata": {},
   "outputs": [],
   "source": [
    "comp_file.write('filetwo.txt',compress_type = zipfile.ZIP_DEFLATED)\n"
   ]
  },
  {
   "cell_type": "code",
   "execution_count": 92,
   "id": "89a23f52-2feb-4df9-ad6a-edf8bbd2efba",
   "metadata": {},
   "outputs": [],
   "source": [
    "comp_file.close()"
   ]
  },
  {
   "cell_type": "code",
   "execution_count": 93,
   "id": "73e246be-9a3a-4c24-8594-97f37e9131f2",
   "metadata": {},
   "outputs": [],
   "source": [
    "zip_obj = zipfile.ZipFile('comp_file.zip','r')"
   ]
  },
  {
   "cell_type": "code",
   "execution_count": 94,
   "id": "d8748d22-5a5a-490b-a4bb-84f756120277",
   "metadata": {},
   "outputs": [],
   "source": [
    "zip_obj.extractall('extracted_content')"
   ]
  },
  {
   "cell_type": "code",
   "execution_count": 95,
   "id": "5dd3cda5-e818-42b4-aba7-4d9317419fd0",
   "metadata": {},
   "outputs": [
    {
     "data": {
      "text/plain": [
       "'/Users/priyasuresh/Documents/Documents_Priya’s MacBook Pro/Selectiva_Systems_Training/python/python_training_files'"
      ]
     },
     "execution_count": 95,
     "metadata": {},
     "output_type": "execute_result"
    }
   ],
   "source": [
    "pwd"
   ]
  },
  {
   "cell_type": "code",
   "execution_count": 96,
   "id": "2f087643-090e-48d6-8d81-fb22003b62af",
   "metadata": {},
   "outputs": [],
   "source": [
    "import shutil"
   ]
  },
  {
   "cell_type": "code",
   "execution_count": 97,
   "id": "2926075f-869c-488c-a6c2-b7ba66a3775b",
   "metadata": {},
   "outputs": [],
   "source": [
    "#entire folder to zip file"
   ]
  },
  {
   "cell_type": "code",
   "execution_count": 98,
   "id": "8bf44fc0-1d40-4261-93ab-4b27819c5207",
   "metadata": {},
   "outputs": [],
   "source": [
    "dir_to_zip = '/Users/priyasuresh/Documents/Documents_Priya’s MacBook Pro/Selectiva_Systems_Training/python/python_training_files/extracted_content'"
   ]
  },
  {
   "cell_type": "code",
   "execution_count": 99,
   "id": "417821dd-0c5e-41de-862c-d50f93db9939",
   "metadata": {},
   "outputs": [],
   "source": [
    "output_filename = 'example'"
   ]
  },
  {
   "cell_type": "code",
   "execution_count": 101,
   "id": "28e2a4bd-84ec-4050-9cb3-af6cabedbf77",
   "metadata": {},
   "outputs": [
    {
     "data": {
      "text/plain": [
       "'/Users/priyasuresh/Documents/Documents_Priya’s MacBook Pro/Selectiva_Systems_Training/python/python_training_files/example.zip'"
      ]
     },
     "execution_count": 101,
     "metadata": {},
     "output_type": "execute_result"
    }
   ],
   "source": [
    "shutil.make_archive(output_filename,'zip',dir_to_zip)"
   ]
  },
  {
   "cell_type": "code",
   "execution_count": 102,
   "id": "bb3dbfde-f5b1-4253-8fbb-00c29be16575",
   "metadata": {},
   "outputs": [],
   "source": [
    "shutil.unpack_archive('example.zip','final_unzip','zip')"
   ]
  },
  {
   "cell_type": "code",
   "execution_count": null,
   "id": "240a358b-bd69-4f50-96b0-71f8bef330a4",
   "metadata": {},
   "outputs": [],
   "source": []
  }
 ],
 "metadata": {
  "kernelspec": {
   "display_name": "Python 3.10.4 (pyenv)",
   "language": "python",
   "name": "pyenv3104"
  },
  "language_info": {
   "codemirror_mode": {
    "name": "ipython",
    "version": 3
   },
   "file_extension": ".py",
   "mimetype": "text/x-python",
   "name": "python",
   "nbconvert_exporter": "python",
   "pygments_lexer": "ipython3",
   "version": "3.10.4"
  }
 },
 "nbformat": 4,
 "nbformat_minor": 5
}
