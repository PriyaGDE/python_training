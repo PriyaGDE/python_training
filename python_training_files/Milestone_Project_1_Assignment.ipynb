{
 "cells": [
  {
   "cell_type": "markdown",
   "metadata": {},
   "source": [
    "___\n",
    "\n",
    "<a href='https://www.udemy.com/user/joseportilla/'><img src='../Pierian_Data_Logo.png'/></a>\n",
    "___\n",
    "<center><em>Content Copyright by Pierian Data</em></center>"
   ]
  },
  {
   "cell_type": "markdown",
   "metadata": {},
   "source": [
    "# Milestone Project 1\n",
    "## Congratulations on making it to your first milestone!\n",
    "You've already learned a ton and are ready to work on a real project.\n",
    "\n",
    "Your assignment: Create a Tic Tac Toe game. You are free to use any IDE you like.\n",
    "\n",
    "Here are the requirements:\n",
    "\n",
    "* 2 players should be able to play the game (both sitting at the same computer)\n",
    "* The board should be printed out every time a player makes a move\n",
    "* You should be able to accept input of the player position and then place a symbol on the board\n",
    "\n",
    "Feel free to use Google or any chatbot to help you figure anything out (but don't just ask \"Tic Tac Toe in Python\" otherwise you won't learn anything!) Keep in mind that this project can take anywhere between several hours to several days.\n",
    "\n",
    "There are 4 Jupyter Notebooks related to this assignment:\n",
    "\n",
    "* This Assignment Notebook\n",
    "* A \"Walkthrough Steps Workbook\" Notebook\n",
    "* A \"Complete Walkthrough Solution\" Notebook\n",
    "* An \"Advanced Solution\" Notebook\n",
    "\n",
    "I encourage you to just try to start the project on your own without referencing any of the notebooks. If you get stuck, check out the next lecture which is a text lecture with helpful hints and steps. If you're still stuck after that, then check out the Walkthrough Steps Workbook, which breaks up the project in steps for you to solve. Still stuck? Then check out the Complete Walkthrough Solution video for more help on approaching the project!"
   ]
  },
  {
   "cell_type": "markdown",
   "metadata": {},
   "source": [
    "There are parts of this that will be a struggle...and that is good! I have complete faith that if you have made it this far through the course you have all the tools and knowledge to tackle this project. Remember, it's totally open book, so take your time, do a little research, and remember:\n",
    "\n",
    "## HAVE FUN!"
   ]
  },
  {
   "cell_type": "code",
   "execution_count": 1,
   "metadata": {},
   "outputs": [],
   "source": [
    "#display information\n",
    "def display(row1,row2,row3):\n",
    "    print(row1)\n",
    "    print(row2)\n",
    "    print(row3)"
   ]
  },
  {
   "cell_type": "code",
   "execution_count": 3,
   "metadata": {},
   "outputs": [
    {
     "name": "stdout",
     "output_type": "stream",
     "text": [
      "[' ', ' ', ' ']\n",
      "[' ', ' ', ' ']\n",
      "[' ', ' ', ' ']\n"
     ]
    }
   ],
   "source": [
    "row1 = [' ',' ',' ']\n",
    "row2=[' ',' ',' ']\n",
    "row3 = [' ',' ',' ']\n",
    "display(row1,row2,row3)"
   ]
  },
  {
   "cell_type": "code",
   "execution_count": 4,
   "metadata": {},
   "outputs": [],
   "source": [
    "row2[1]='X'"
   ]
  },
  {
   "cell_type": "code",
   "execution_count": 5,
   "metadata": {},
   "outputs": [
    {
     "name": "stdout",
     "output_type": "stream",
     "text": [
      "[' ', ' ', ' ']\n",
      "[' ', 'X', ' ']\n",
      "[' ', ' ', ' ']\n"
     ]
    }
   ],
   "source": [
    "display(row1,row2,row3)"
   ]
  },
  {
   "cell_type": "code",
   "execution_count": 6,
   "metadata": {},
   "outputs": [
    {
     "name": "stdin",
     "output_type": "stream",
     "text": [
      "Please enter a value:  2\n"
     ]
    }
   ],
   "source": [
    "#accepting user input\n",
    "result = input(\"Please enter a value: \")"
   ]
  },
  {
   "cell_type": "code",
   "execution_count": 7,
   "metadata": {},
   "outputs": [
    {
     "data": {
      "text/plain": [
       "'2'"
      ]
     },
     "execution_count": 7,
     "metadata": {},
     "output_type": "execute_result"
    }
   ],
   "source": [
    "result"
   ]
  },
  {
   "cell_type": "code",
   "execution_count": 8,
   "metadata": {},
   "outputs": [
    {
     "name": "stdin",
     "output_type": "stream",
     "text": [
      "Enter Value:  2\n"
     ]
    }
   ],
   "source": [
    "result = int(input(\"Enter Value: \"))\n"
   ]
  },
  {
   "cell_type": "code",
   "execution_count": 9,
   "metadata": {},
   "outputs": [
    {
     "data": {
      "text/plain": [
       "int"
      ]
     },
     "execution_count": 9,
     "metadata": {},
     "output_type": "execute_result"
    }
   ],
   "source": [
    "type(result)"
   ]
  },
  {
   "cell_type": "code",
   "execution_count": 1,
   "metadata": {},
   "outputs": [],
   "source": [
    "#validating user input\n",
    "def user_choice():\n",
    "    choice = input(\"Please enter number 0 to 10:\")\n",
    "    return int(choice)"
   ]
  },
  {
   "cell_type": "code",
   "execution_count": 4,
   "metadata": {},
   "outputs": [
    {
     "name": "stdin",
     "output_type": "stream",
     "text": [
      "Please enter number 0 to 10: 3\n"
     ]
    },
    {
     "data": {
      "text/plain": [
       "3"
      ]
     },
     "execution_count": 4,
     "metadata": {},
     "output_type": "execute_result"
    }
   ],
   "source": [
    "user_choice()"
   ]
  },
  {
   "cell_type": "code",
   "execution_count": 5,
   "metadata": {},
   "outputs": [
    {
     "data": {
      "text/plain": [
       "False"
      ]
     },
     "execution_count": 5,
     "metadata": {},
     "output_type": "execute_result"
    }
   ],
   "source": [
    "choice = 'Wrong'\n",
    "choice.isdigit()"
   ]
  },
  {
   "cell_type": "code",
   "execution_count": 18,
   "metadata": {},
   "outputs": [],
   "source": [
    "def user_choice():\n",
    "    choice = 'Wrong'\n",
    "    acceptable_range = range(0,10)\n",
    "    within_range =False\n",
    "    while choice.isdigit() == False or within_range ==False:\n",
    "        choice = input(\"Please enter number 0 to 10:\")\n",
    "        if choice.isdigit() ==False:\n",
    "            print(\"this is not a digit\")\n",
    "        if choice.isdigit() == True:\n",
    "            if int(choice) in acceptable_range:\n",
    "                within_range = True\n",
    "            else:\n",
    "                print(\"The number is not in the range\")\n",
    "                within_range= False\n",
    "        \n",
    "    return int(choice)"
   ]
  },
  {
   "cell_type": "code",
   "execution_count": 19,
   "metadata": {},
   "outputs": [
    {
     "name": "stdin",
     "output_type": "stream",
     "text": [
      "Please enter number 0 to 10: 11\n"
     ]
    },
    {
     "name": "stdout",
     "output_type": "stream",
     "text": [
      "The number is not in the range\n"
     ]
    },
    {
     "name": "stdin",
     "output_type": "stream",
     "text": [
      "Please enter number 0 to 10: teo\n"
     ]
    },
    {
     "name": "stdout",
     "output_type": "stream",
     "text": [
      "this is not a digit\n"
     ]
    },
    {
     "name": "stdin",
     "output_type": "stream",
     "text": [
      "Please enter number 0 to 10: 3\n"
     ]
    },
    {
     "data": {
      "text/plain": [
       "3"
      ]
     },
     "execution_count": 19,
     "metadata": {},
     "output_type": "execute_result"
    }
   ],
   "source": [
    "user_choice()"
   ]
  },
  {
   "cell_type": "code",
   "execution_count": null,
   "metadata": {},
   "outputs": [],
   "source": [
    "game_list = [0,1,2]"
   ]
  },
  {
   "cell_type": "code",
   "execution_count": null,
   "metadata": {},
   "outputs": [],
   "source": []
  },
  {
   "cell_type": "code",
   "execution_count": null,
   "metadata": {},
   "outputs": [],
   "source": []
  },
  {
   "cell_type": "code",
   "execution_count": null,
   "metadata": {},
   "outputs": [],
   "source": []
  },
  {
   "cell_type": "code",
   "execution_count": null,
   "metadata": {},
   "outputs": [],
   "source": []
  },
  {
   "cell_type": "markdown",
   "metadata": {},
   "source": [
    "Tic Tac Toe Game"
   ]
  },
  {
   "cell_type": "code",
   "execution_count": 114,
   "metadata": {},
   "outputs": [],
   "source": [
    "# Global game board (keeps track of all moves)\n",
    "row1 = [' ', ' ', ' ']\n",
    "row2 = [' ', ' ', ' ']\n",
    "row3 = [' ', ' ', ' ']"
   ]
  },
  {
   "cell_type": "code",
   "execution_count": 115,
   "metadata": {},
   "outputs": [],
   "source": [
    "#choosing player symbol and starting the game user input\n",
    "def choose_player():\n",
    "    player_choice = ' '\n",
    "    p_choice  = ['X','O']\n",
    "    while player_choice not in p_choice:\n",
    "        player_choice = input(\"Player 1: Do you want to be 'X' or 'O'?\")\n",
    "        if player_choice not in p_choice:\n",
    "            print(\"Wrong input. Please type 'X' or 'O'-caps!!\")\n",
    "    if player_choice == 'X':\n",
    "        return ['X','O']\n",
    "    else:\n",
    "        return ['O','X']\n",
    "    \n",
    "            "
   ]
  },
  {
   "cell_type": "code",
   "execution_count": 116,
   "metadata": {},
   "outputs": [],
   "source": [
    "#starting game\n",
    "def start_game():\n",
    "    s_choice = ' '\n",
    "    while s_choice not in ['yes','no'] :\n",
    "        s_choice = input(\"Are you ready to start the game?yes or no: \")\n",
    "        if s_choice not in ['yes','no']:\n",
    "            print(\"Wrong input. type only yes or no all lowercase!!\")\n",
    "    if s_choice == 'yes':\n",
    "        return True\n",
    "    else:\n",
    "        return False"
   ]
  },
  {
   "cell_type": "code",
   "execution_count": 117,
   "metadata": {},
   "outputs": [],
   "source": [
    "#stop game\n",
    "def stop_game():\n",
    "    print(\"Thank you for playing!!\")"
   ]
  },
  {
   "cell_type": "code",
   "execution_count": 118,
   "metadata": {},
   "outputs": [],
   "source": [
    "#choose number logic\n",
    "def num_logic():\n",
    "    num = 'Wrong'\n",
    "    within_range=False \n",
    "    while num.isdigit() == False or within_range == False:\n",
    "        num = input(\"Choose your number between 1 to 9: \")\n",
    "        if num.isdigit() == False:\n",
    "            print(\"Enter valid number between 1 to 9!!\")\n",
    "        if num.isdigit() == True:\n",
    "            if int(num) not in range(1,10):\n",
    "                print(\"Valid number should be entered between range 1 to 9!!\")\n",
    "                within_range == False\n",
    "            else:\n",
    "                within_range == True\n",
    "                break\n",
    "        \n",
    "    return int(num)"
   ]
  },
  {
   "cell_type": "code",
   "execution_count": 119,
   "metadata": {},
   "outputs": [],
   "source": [
    "def display_original():\n",
    "    row1 = ['1','2','3']\n",
    "    row2 = ['4','5','6']\n",
    "    row3 = ['7','8','9']\n",
    "    print(\"The Board with numbers for reference: \")\n",
    "    print(row1)\n",
    "    print(row2)\n",
    "    print(row3)\n",
    "    "
   ]
  },
  {
   "cell_type": "code",
   "execution_count": 120,
   "metadata": {},
   "outputs": [],
   "source": [
    "def display_num(num,string):\n",
    "    global row1, row2, row3\n",
    "\n",
    "    if num == 1:\n",
    "        row1[0] = string\n",
    "    elif num == 2:\n",
    "        row1[1] = string\n",
    "    elif num == 3:\n",
    "        row1[2] = string\n",
    "    elif num == 4:\n",
    "        row2[0] = string\n",
    "    elif num == 5:\n",
    "        row2[1] = string\n",
    "    elif num == 6:\n",
    "        row2[2] = string\n",
    "    elif num == 7:\n",
    "        row3[0] = string\n",
    "    elif num == 8:\n",
    "        row3[1] = string\n",
    "    elif num == 9:\n",
    "        row3[2] = string\n",
    "\n",
    "    print(\"The Board with numbers for reference:\")\n",
    "    print(['1', '2', '3'], \"   \", row1)\n",
    "    print(['4', '5', '6'], \"   \", row2)\n",
    "    print(['7', '8', '9'], \"   \", row3)\n"
   ]
  },
  {
   "cell_type": "code",
   "execution_count": 121,
   "metadata": {},
   "outputs": [],
   "source": [
    "def replacement_choice(player_choice,a):\n",
    "    if a%2 ==0:\n",
    "        return player_choice[0]\n",
    "    else:\n",
    "        return player_choice[1]"
   ]
  },
  {
   "cell_type": "code",
   "execution_count": 122,
   "metadata": {},
   "outputs": [],
   "source": [
    "def win_logic():\n",
    "    win_lines = [\n",
    "        row1, row2, row3,\n",
    "        [row1[0], row2[0], row3[0]],\n",
    "        [row1[1], row2[1], row3[1]],\n",
    "        [row1[2], row2[2], row3[2]],\n",
    "        [row1[0], row2[1], row3[2]],\n",
    "        [row1[2], row2[1], row3[0]],\n",
    "    ]\n",
    "    for line in win_lines:\n",
    "        if line[0] == line[1] == line[2] and line[0] != ' ':\n",
    "            print(f\"\\nPlayer '{line[0]}' wins!\")\n",
    "            return False  # This will break the loop\n",
    "    return True\n"
   ]
  },
  {
   "cell_type": "code",
   "execution_count": 123,
   "metadata": {},
   "outputs": [
    {
     "name": "stdout",
     "output_type": "stream",
     "text": [
      "Welcome to Tic Tac Toe!!\n"
     ]
    },
    {
     "name": "stdin",
     "output_type": "stream",
     "text": [
      "Player 1: Do you want to be 'X' or 'O'? X\n",
      "Are you ready to start the game?yes or no:  yes\n"
     ]
    },
    {
     "name": "stdout",
     "output_type": "stream",
     "text": [
      "The Board with numbers for reference: \n",
      "['1', '2', '3']\n",
      "['4', '5', '6']\n",
      "['7', '8', '9']\n"
     ]
    },
    {
     "name": "stdin",
     "output_type": "stream",
     "text": [
      "Choose your number between 1 to 9:  X\n"
     ]
    },
    {
     "name": "stdout",
     "output_type": "stream",
     "text": [
      "Enter valid number between 1 to 9!!\n"
     ]
    },
    {
     "name": "stdin",
     "output_type": "stream",
     "text": [
      "Choose your number between 1 to 9:  5\n"
     ]
    },
    {
     "name": "stdout",
     "output_type": "stream",
     "text": [
      "The Board with numbers for reference:\n",
      "['1', '2', '3']     [' ', ' ', ' ']\n",
      "['4', '5', '6']     [' ', 'X', ' ']\n",
      "['7', '8', '9']     [' ', ' ', ' ']\n"
     ]
    },
    {
     "name": "stdin",
     "output_type": "stream",
     "text": [
      "Choose your number between 1 to 9:  1\n"
     ]
    },
    {
     "name": "stdout",
     "output_type": "stream",
     "text": [
      "The Board with numbers for reference:\n",
      "['1', '2', '3']     ['O', ' ', ' ']\n",
      "['4', '5', '6']     [' ', 'X', ' ']\n",
      "['7', '8', '9']     [' ', ' ', ' ']\n"
     ]
    },
    {
     "name": "stdin",
     "output_type": "stream",
     "text": [
      "Choose your number between 1 to 9:  8\n"
     ]
    },
    {
     "name": "stdout",
     "output_type": "stream",
     "text": [
      "The Board with numbers for reference:\n",
      "['1', '2', '3']     ['O', ' ', ' ']\n",
      "['4', '5', '6']     [' ', 'X', ' ']\n",
      "['7', '8', '9']     [' ', 'X', ' ']\n"
     ]
    },
    {
     "name": "stdin",
     "output_type": "stream",
     "text": [
      "Choose your number between 1 to 9:  2\n"
     ]
    },
    {
     "name": "stdout",
     "output_type": "stream",
     "text": [
      "The Board with numbers for reference:\n",
      "['1', '2', '3']     ['O', 'O', ' ']\n",
      "['4', '5', '6']     [' ', 'X', ' ']\n",
      "['7', '8', '9']     [' ', 'X', ' ']\n"
     ]
    },
    {
     "name": "stdin",
     "output_type": "stream",
     "text": [
      "Choose your number between 1 to 9:  3\n"
     ]
    },
    {
     "name": "stdout",
     "output_type": "stream",
     "text": [
      "The Board with numbers for reference:\n",
      "['1', '2', '3']     ['O', 'O', 'X']\n",
      "['4', '5', '6']     [' ', 'X', ' ']\n",
      "['7', '8', '9']     [' ', 'X', ' ']\n"
     ]
    },
    {
     "name": "stdin",
     "output_type": "stream",
     "text": [
      "Choose your number between 1 to 9:  4\n"
     ]
    },
    {
     "name": "stdout",
     "output_type": "stream",
     "text": [
      "The Board with numbers for reference:\n",
      "['1', '2', '3']     ['O', 'O', 'X']\n",
      "['4', '5', '6']     ['O', 'X', ' ']\n",
      "['7', '8', '9']     [' ', 'X', ' ']\n"
     ]
    },
    {
     "name": "stdin",
     "output_type": "stream",
     "text": [
      "Choose your number between 1 to 9:  7\n"
     ]
    },
    {
     "name": "stdout",
     "output_type": "stream",
     "text": [
      "The Board with numbers for reference:\n",
      "['1', '2', '3']     ['O', 'O', 'X']\n",
      "['4', '5', '6']     ['O', 'X', ' ']\n",
      "['7', '8', '9']     ['X', 'X', ' ']\n",
      "\n",
      "Player 'X' wins!\n"
     ]
    }
   ],
   "source": [
    "#Game logic where all functions called and connected\n",
    "\n",
    "print(\"Welcome to Tic Tac Toe!!\")\n",
    "#choosing the player symbol and saying which player goes first\n",
    "player_choice = choose_player()\n",
    "#ask the players to start the game yes or no\n",
    "if start_game():\n",
    "    display_original()\n",
    "    a = 0\n",
    "    while win_logic()==True:\n",
    "        num = num_logic()\n",
    "        mystring = replacement_choice(player_choice,a)\n",
    "        display_num(num,mystring)\n",
    "        a = a + 1\n",
    "    \n",
    "else:\n",
    "    stop_game()\n"
   ]
  },
  {
   "cell_type": "code",
   "execution_count": null,
   "metadata": {},
   "outputs": [],
   "source": []
  }
 ],
 "metadata": {
  "kernelspec": {
   "display_name": "Python 3 (ipykernel)",
   "language": "python",
   "name": "python3"
  },
  "language_info": {
   "codemirror_mode": {
    "name": "ipython",
    "version": 3
   },
   "file_extension": ".py",
   "mimetype": "text/x-python",
   "name": "python",
   "nbconvert_exporter": "python",
   "pygments_lexer": "ipython3",
   "version": "3.10.4"
  }
 },
 "nbformat": 4,
 "nbformat_minor": 4
}
