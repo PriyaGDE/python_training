{
 "cells": [
  {
   "cell_type": "code",
   "execution_count": null,
   "id": "57ae0ba6-8b62-4dab-ac97-9950b517f067",
   "metadata": {},
   "outputs": [],
   "source": [
    "#object oriented programming--allows to create own objects that have methods and atttributes\n",
    "#these methods acts as function use info about the object, eg --append to a list\n"
   ]
  }
 ],
 "metadata": {
  "kernelspec": {
   "display_name": "Python 3.10.4 (pyenv)",
   "language": "python",
   "name": "pyenv3104"
  },
  "language_info": {
   "codemirror_mode": {
    "name": "ipython",
    "version": 3
   },
   "file_extension": ".py",
   "mimetype": "text/x-python",
   "name": "python",
   "nbconvert_exporter": "python",
   "pygments_lexer": "ipython3",
   "version": "3.10.4"
  }
 },
 "nbformat": 4,
 "nbformat_minor": 5
}
