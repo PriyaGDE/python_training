{
 "cells": [
  {
   "cell_type": "code",
   "execution_count": 1,
   "id": "02df2615-9423-401e-a663-822ae3e7e0e2",
   "metadata": {},
   "outputs": [],
   "source": [
    "#decorator -add additional code to existing function -easy to keep or delete new code"
   ]
  },
  {
   "cell_type": "code",
   "execution_count": 2,
   "id": "c90b297b-d327-4f1f-84c4-a6e469aa5bf7",
   "metadata": {},
   "outputs": [],
   "source": [
    "def func():\n",
    "    return 1\n",
    "    "
   ]
  },
  {
   "cell_type": "code",
   "execution_count": 3,
   "id": "67c4590d-8f18-4d9f-ad69-f31242cf0e10",
   "metadata": {},
   "outputs": [
    {
     "data": {
      "text/plain": [
       "1"
      ]
     },
     "execution_count": 3,
     "metadata": {},
     "output_type": "execute_result"
    }
   ],
   "source": [
    "func()"
   ]
  },
  {
   "cell_type": "code",
   "execution_count": 4,
   "id": "b5d52732-d4c0-49d8-9def-05bc6114a979",
   "metadata": {},
   "outputs": [],
   "source": [
    "def hello():\n",
    "    return 'hello!!'"
   ]
  },
  {
   "cell_type": "code",
   "execution_count": 5,
   "id": "ef05b881-9de9-4bbb-a4ff-604acbcedb64",
   "metadata": {},
   "outputs": [
    {
     "data": {
      "text/plain": [
       "'hello!!'"
      ]
     },
     "execution_count": 5,
     "metadata": {},
     "output_type": "execute_result"
    }
   ],
   "source": [
    "hello()"
   ]
  },
  {
   "cell_type": "code",
   "execution_count": 6,
   "id": "58916ec6-ec49-459c-96c3-0060a1a47e87",
   "metadata": {},
   "outputs": [],
   "source": [
    "greet = hello"
   ]
  },
  {
   "cell_type": "code",
   "execution_count": 7,
   "id": "5d0bebe8-332b-482f-a0ea-6c2a4dd035b2",
   "metadata": {},
   "outputs": [
    {
     "data": {
      "text/plain": [
       "'hello!!'"
      ]
     },
     "execution_count": 7,
     "metadata": {},
     "output_type": "execute_result"
    }
   ],
   "source": [
    "greet()"
   ]
  },
  {
   "cell_type": "code",
   "execution_count": 8,
   "id": "22b9654e-14ef-484d-83b3-61ac8edd328f",
   "metadata": {},
   "outputs": [],
   "source": [
    "del hello"
   ]
  },
  {
   "cell_type": "code",
   "execution_count": 9,
   "id": "47f6fa8e-ff97-4a92-9169-9f163609ba70",
   "metadata": {},
   "outputs": [
    {
     "data": {
      "text/plain": [
       "'hello!!'"
      ]
     },
     "execution_count": 9,
     "metadata": {},
     "output_type": "execute_result"
    }
   ],
   "source": [
    "greet()"
   ]
  },
  {
   "cell_type": "code",
   "execution_count": null,
   "id": "b0f49d56-e393-4a96-826e-c12d07dd5ce1",
   "metadata": {},
   "outputs": [],
   "source": []
  },
  {
   "cell_type": "code",
   "execution_count": null,
   "id": "bd5bc658-ca7e-4496-be07-694f5ffe3db6",
   "metadata": {},
   "outputs": [],
   "source": []
  },
  {
   "cell_type": "code",
   "execution_count": 10,
   "id": "7ab7f092-48a3-419c-ae94-34c4a92b37fd",
   "metadata": {},
   "outputs": [],
   "source": [
    "def hello(name='Jose'):\n",
    "    print(\"The hello function has been executed\")"
   ]
  },
  {
   "cell_type": "code",
   "execution_count": 11,
   "id": "218254e0-7708-4af0-b373-6998f545528b",
   "metadata": {},
   "outputs": [
    {
     "name": "stdout",
     "output_type": "stream",
     "text": [
      "The hello function has been executed\n"
     ]
    }
   ],
   "source": [
    "hello()"
   ]
  },
  {
   "cell_type": "code",
   "execution_count": 26,
   "id": "981ded82-4792-43ba-ac73-772467f4866c",
   "metadata": {},
   "outputs": [],
   "source": [
    "def hello(name='Jose'):\n",
    "    print(\"The hello function has been executed\")\n",
    "    def greet():\n",
    "        return (\"\\tThis function is inside hello!\")\n",
    "    def welcome():\n",
    "        return \"\\tthis is welcome function inside hello\"\n",
    "    print(greet())\n",
    "    print(welcome())\n",
    "    print(\"This is end of hello\")"
   ]
  },
  {
   "cell_type": "code",
   "execution_count": 27,
   "id": "5aca4c14-ffb8-4838-8ad6-3598a5c1349d",
   "metadata": {},
   "outputs": [
    {
     "name": "stdout",
     "output_type": "stream",
     "text": [
      "The hello function has been executed\n",
      "\tThis function is inside hello!\n",
      "\tthis is welcome function inside hello\n",
      "This is end of hello\n"
     ]
    }
   ],
   "source": [
    "hello()"
   ]
  },
  {
   "cell_type": "code",
   "execution_count": 28,
   "id": "5c0ec456-4d94-4592-8508-916baef01f3c",
   "metadata": {},
   "outputs": [
    {
     "ename": "NameError",
     "evalue": "name 'welcome' is not defined",
     "output_type": "error",
     "traceback": [
      "\u001b[0;31m---------------------------------------------------------------------------\u001b[0m",
      "\u001b[0;31mNameError\u001b[0m                                 Traceback (most recent call last)",
      "Cell \u001b[0;32mIn[28], line 1\u001b[0m\n\u001b[0;32m----> 1\u001b[0m \u001b[43mwelcome\u001b[49m()\n",
      "\u001b[0;31mNameError\u001b[0m: name 'welcome' is not defined"
     ]
    }
   ],
   "source": [
    "welcome()"
   ]
  },
  {
   "cell_type": "code",
   "execution_count": 29,
   "id": "92e6924a-0347-4676-ba0c-48c83e8123f4",
   "metadata": {},
   "outputs": [],
   "source": [
    "def hello(name='Jose'):\n",
    "    print(\"The hello function has been executed\")\n",
    "    def greet():\n",
    "        return (\"\\tThis function is inside hello!\")\n",
    "    def welcome():\n",
    "        return \"\\tthis is welcome function inside hello\"\n",
    "    print(\"Returning the function:\")\n",
    "    if name == 'Jose':\n",
    "        return greet\n",
    "    else:\n",
    "        return welcome"
   ]
  },
  {
   "cell_type": "code",
   "execution_count": 31,
   "id": "44cff0a2-d09e-45fd-ad0e-53ece9493147",
   "metadata": {},
   "outputs": [
    {
     "name": "stdout",
     "output_type": "stream",
     "text": [
      "The hello function has been executed\n",
      "Returning the function:\n"
     ]
    }
   ],
   "source": [
    "my_new_func = hello('Red')"
   ]
  },
  {
   "cell_type": "code",
   "execution_count": 33,
   "id": "50ae2994-57fa-4b44-8910-cf016c8c041c",
   "metadata": {},
   "outputs": [
    {
     "name": "stdout",
     "output_type": "stream",
     "text": [
      "\tthis is welcome function inside hello\n"
     ]
    }
   ],
   "source": [
    "print(my_new_func())"
   ]
  },
  {
   "cell_type": "code",
   "execution_count": null,
   "id": "96c49f88-44c0-407f-9049-a23514424bbb",
   "metadata": {},
   "outputs": [],
   "source": []
  },
  {
   "cell_type": "code",
   "execution_count": 34,
   "id": "471d5519-7c31-40a5-9991-f3dcc7187f35",
   "metadata": {},
   "outputs": [],
   "source": [
    "def hello():\n",
    "    return \"Hi Jose\""
   ]
  },
  {
   "cell_type": "code",
   "execution_count": 35,
   "id": "7fe2359d-1637-4847-9518-f41ef5599569",
   "metadata": {},
   "outputs": [],
   "source": [
    "def other(some_def_func):\n",
    "    print(\"Other code runs here!!\")\n",
    "    print(some_def_func())"
   ]
  },
  {
   "cell_type": "code",
   "execution_count": 36,
   "id": "7cba6f70-e04e-41eb-a811-d814e2b7a27e",
   "metadata": {},
   "outputs": [
    {
     "name": "stdout",
     "output_type": "stream",
     "text": [
      "Other code runs here!!\n",
      "Hi Jose\n"
     ]
    }
   ],
   "source": [
    "other(hello)"
   ]
  },
  {
   "cell_type": "code",
   "execution_count": null,
   "id": "364876a8-92cf-4ba7-b7bc-373d58f8672c",
   "metadata": {},
   "outputs": [],
   "source": []
  },
  {
   "cell_type": "code",
   "execution_count": 37,
   "id": "d6840eeb-a100-4a33-922e-b7f0ccc48957",
   "metadata": {},
   "outputs": [],
   "source": [
    "def new_decorator(original_func):\n",
    "    def wrap_func():\n",
    "        print(\"some extra code before the original function\")\n",
    "    original_func()\n",
    "    print(\"Code after original function\")\n",
    "    return wrap_func"
   ]
  },
  {
   "cell_type": "code",
   "execution_count": 38,
   "id": "36e764a0-0c1f-45f6-877c-dfafed405595",
   "metadata": {},
   "outputs": [],
   "source": [
    "def func_needs_decrator():\n",
    "    print(\"I want to be decorater!!\")"
   ]
  },
  {
   "cell_type": "code",
   "execution_count": 39,
   "id": "b185287b-7de2-4e29-8afc-1d47c5ee39f7",
   "metadata": {},
   "outputs": [
    {
     "name": "stdout",
     "output_type": "stream",
     "text": [
      "I want to be decorater!!\n"
     ]
    }
   ],
   "source": [
    "func_needs_decrator()"
   ]
  },
  {
   "cell_type": "code",
   "execution_count": 41,
   "id": "9a898e1a-50ff-493f-ae33-626421c52a01",
   "metadata": {},
   "outputs": [
    {
     "name": "stdout",
     "output_type": "stream",
     "text": [
      "I want to be decorater!!\n",
      "Code after original function\n"
     ]
    }
   ],
   "source": [
    "dec_func = new_decorator(func_needs_decrator)"
   ]
  },
  {
   "cell_type": "code",
   "execution_count": 43,
   "id": "cbcb6162-4596-4642-9ac2-de3eea7e4d6d",
   "metadata": {},
   "outputs": [
    {
     "name": "stdout",
     "output_type": "stream",
     "text": [
      "some extra code before the original function\n"
     ]
    }
   ],
   "source": [
    "dec_func()"
   ]
  },
  {
   "cell_type": "code",
   "execution_count": 44,
   "id": "48f089c3-087f-462a-9727-7e8031db5739",
   "metadata": {},
   "outputs": [
    {
     "name": "stdout",
     "output_type": "stream",
     "text": [
      "I want to be decorater!!\n",
      "Code after original function\n"
     ]
    }
   ],
   "source": [
    "@new_decorator\n",
    "def func_needs_decrator():\n",
    "    print(\"I want to be decorater!!\")"
   ]
  },
  {
   "cell_type": "code",
   "execution_count": 45,
   "id": "965858b4-3005-41d4-9874-2ee5abf7fb5f",
   "metadata": {},
   "outputs": [
    {
     "name": "stdout",
     "output_type": "stream",
     "text": [
      "some extra code before the original function\n"
     ]
    }
   ],
   "source": [
    "func_needs_decrator()"
   ]
  },
  {
   "cell_type": "code",
   "execution_count": null,
   "id": "d513b102-cf19-4a21-925c-0eec3655ecec",
   "metadata": {},
   "outputs": [],
   "source": []
  }
 ],
 "metadata": {
  "kernelspec": {
   "display_name": "Python 3.10.4 (pyenv)",
   "language": "python",
   "name": "pyenv3104"
  },
  "language_info": {
   "codemirror_mode": {
    "name": "ipython",
    "version": 3
   },
   "file_extension": ".py",
   "mimetype": "text/x-python",
   "name": "python",
   "nbconvert_exporter": "python",
   "pygments_lexer": "ipython3",
   "version": "3.10.4"
  }
 },
 "nbformat": 4,
 "nbformat_minor": 5
}
