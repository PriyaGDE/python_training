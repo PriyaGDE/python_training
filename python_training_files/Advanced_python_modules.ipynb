{
 "cells": [
  {
   "cell_type": "code",
   "execution_count": 43,
   "id": "3e7667e4-c596-4d55-8a08-8faa7d63cfb9",
   "metadata": {},
   "outputs": [],
   "source": [
    "#collections modules\n",
    "#coutner module"
   ]
  },
  {
   "cell_type": "code",
   "execution_count": 3,
   "id": "0c817ff2-c0ac-4201-ab33-c7b79db917b4",
   "metadata": {},
   "outputs": [],
   "source": [
    "from collections import Counter"
   ]
  },
  {
   "cell_type": "code",
   "execution_count": 4,
   "id": "8dd56d2b-e5d8-4c8e-a177-f83494a7ee88",
   "metadata": {},
   "outputs": [],
   "source": [
    "mylist = [1,1,1,2,2,2,3,3,3,3]"
   ]
  },
  {
   "cell_type": "code",
   "execution_count": 5,
   "id": "70546a74-677f-4120-a071-f8d4e1c3af6a",
   "metadata": {},
   "outputs": [
    {
     "data": {
      "text/plain": [
       "Counter({3: 4, 1: 3, 2: 3})"
      ]
     },
     "execution_count": 5,
     "metadata": {},
     "output_type": "execute_result"
    }
   ],
   "source": [
    "Counter(mylist)"
   ]
  },
  {
   "cell_type": "code",
   "execution_count": 8,
   "id": "704a007a-7be4-46f5-b52f-9faf151a9a1c",
   "metadata": {},
   "outputs": [],
   "source": [
    "mylist = ['a','a','a',10,10,10]"
   ]
  },
  {
   "cell_type": "code",
   "execution_count": 9,
   "id": "f3f3286d-302f-4b04-961c-1f6f6b772b97",
   "metadata": {},
   "outputs": [
    {
     "data": {
      "text/plain": [
       "Counter({'a': 3, 10: 3})"
      ]
     },
     "execution_count": 9,
     "metadata": {},
     "output_type": "execute_result"
    }
   ],
   "source": [
    "Counter(mylist)"
   ]
  },
  {
   "cell_type": "code",
   "execution_count": 10,
   "id": "12e86916-5b56-4537-95ec-6d61de2d7aa6",
   "metadata": {},
   "outputs": [
    {
     "data": {
      "text/plain": [
       "Counter({'a': 4, 's': 4, 'j': 3, 'd': 3, 'h': 1})"
      ]
     },
     "execution_count": 10,
     "metadata": {},
     "output_type": "execute_result"
    }
   ],
   "source": [
    "Counter('ajsdhasadsjsadj')"
   ]
  },
  {
   "cell_type": "code",
   "execution_count": 12,
   "id": "d04cdfad-646a-4ef3-86d1-c399198d7845",
   "metadata": {},
   "outputs": [
    {
     "data": {
      "text/plain": [
       "Counter({'word': 2,\n",
       "         'How': 1,\n",
       "         'many': 1,\n",
       "         'times': 1,\n",
       "         'each': 1,\n",
       "         'shows': 1,\n",
       "         'in': 1,\n",
       "         'this': 1,\n",
       "         'sentence': 1})"
      ]
     },
     "execution_count": 12,
     "metadata": {},
     "output_type": "execute_result"
    }
   ],
   "source": [
    "sentence = \"How many times each word shows in this sentence word\"\n",
    "Counter(sentence.split())"
   ]
  },
  {
   "cell_type": "code",
   "execution_count": 13,
   "id": "c9166d25-cb5d-4b94-9c28-dc44933af451",
   "metadata": {},
   "outputs": [],
   "source": [
    "letters = 'aaaabbbbccccddddd'\n",
    "c = Counter(letters)"
   ]
  },
  {
   "cell_type": "code",
   "execution_count": 14,
   "id": "7fd942e2-9952-49d3-be72-643244b137d8",
   "metadata": {},
   "outputs": [
    {
     "data": {
      "text/plain": [
       "Counter({'d': 5, 'a': 4, 'b': 4, 'c': 4})"
      ]
     },
     "execution_count": 14,
     "metadata": {},
     "output_type": "execute_result"
    }
   ],
   "source": [
    "c"
   ]
  },
  {
   "cell_type": "code",
   "execution_count": 17,
   "id": "138a4acf-05af-4bc9-9fe2-6d7a9c5290bb",
   "metadata": {},
   "outputs": [
    {
     "data": {
      "text/plain": [
       "[('d', 5)]"
      ]
     },
     "execution_count": 17,
     "metadata": {},
     "output_type": "execute_result"
    }
   ],
   "source": [
    "c.most_common(1)"
   ]
  },
  {
   "cell_type": "code",
   "execution_count": 18,
   "id": "f3ebafa3-d29f-47fd-a018-b777fef8f812",
   "metadata": {},
   "outputs": [
    {
     "data": {
      "text/plain": [
       "Counter({'d': 5, 'a': 4, 'b': 4, 'c': 4})"
      ]
     },
     "execution_count": 18,
     "metadata": {},
     "output_type": "execute_result"
    }
   ],
   "source": [
    "c"
   ]
  },
  {
   "cell_type": "code",
   "execution_count": 19,
   "id": "0aa917b6-001d-4f5e-8675-d2f1a57323fb",
   "metadata": {},
   "outputs": [
    {
     "data": {
      "text/plain": [
       "['a', 'b', 'c', 'd']"
      ]
     },
     "execution_count": 19,
     "metadata": {},
     "output_type": "execute_result"
    }
   ],
   "source": [
    "list(c)"
   ]
  },
  {
   "cell_type": "code",
   "execution_count": 25,
   "id": "b7ae7d36-1bfc-40c5-85ed-b6ae7891ec29",
   "metadata": {},
   "outputs": [],
   "source": [
    "#default dictionary"
   ]
  },
  {
   "cell_type": "code",
   "execution_count": 20,
   "id": "4c463908-1840-439c-bc65-1790b18908fb",
   "metadata": {},
   "outputs": [],
   "source": [
    "from collections import defaultdict"
   ]
  },
  {
   "cell_type": "code",
   "execution_count": 21,
   "id": "f6fc8984-6235-49c7-a389-861c4fed4ce8",
   "metadata": {},
   "outputs": [],
   "source": [
    "d = {'a':10}"
   ]
  },
  {
   "cell_type": "code",
   "execution_count": 22,
   "id": "8a94ddcb-ba21-435d-b8c8-3ae57b43688e",
   "metadata": {},
   "outputs": [
    {
     "data": {
      "text/plain": [
       "{'a': 10}"
      ]
     },
     "execution_count": 22,
     "metadata": {},
     "output_type": "execute_result"
    }
   ],
   "source": [
    "d"
   ]
  },
  {
   "cell_type": "code",
   "execution_count": 23,
   "id": "7a479749-0e0f-44f1-90db-97d62337284d",
   "metadata": {},
   "outputs": [
    {
     "data": {
      "text/plain": [
       "10"
      ]
     },
     "execution_count": 23,
     "metadata": {},
     "output_type": "execute_result"
    }
   ],
   "source": [
    "d['a']"
   ]
  },
  {
   "cell_type": "code",
   "execution_count": 24,
   "id": "7b2ec756-99b2-4cb4-b974-54f46c7cec62",
   "metadata": {},
   "outputs": [
    {
     "ename": "KeyError",
     "evalue": "'wrong'",
     "output_type": "error",
     "traceback": [
      "\u001b[0;31m---------------------------------------------------------------------------\u001b[0m",
      "\u001b[0;31mKeyError\u001b[0m                                  Traceback (most recent call last)",
      "Cell \u001b[0;32mIn[24], line 1\u001b[0m\n\u001b[0;32m----> 1\u001b[0m \u001b[43md\u001b[49m\u001b[43m[\u001b[49m\u001b[38;5;124;43m'\u001b[39;49m\u001b[38;5;124;43mwrong\u001b[39;49m\u001b[38;5;124;43m'\u001b[39;49m\u001b[43m]\u001b[49m\n",
      "\u001b[0;31mKeyError\u001b[0m: 'wrong'"
     ]
    }
   ],
   "source": [
    "d['wrong']"
   ]
  },
  {
   "cell_type": "code",
   "execution_count": 27,
   "id": "36757c98-59af-41e2-b313-b1e1c69be87f",
   "metadata": {},
   "outputs": [],
   "source": [
    "d = defaultdict(lambda:0)"
   ]
  },
  {
   "cell_type": "code",
   "execution_count": 28,
   "id": "cde8d349-f94f-4401-b963-20f69579b2bf",
   "metadata": {},
   "outputs": [
    {
     "data": {
      "text/plain": [
       "0"
      ]
     },
     "execution_count": 28,
     "metadata": {},
     "output_type": "execute_result"
    }
   ],
   "source": [
    "d['a']"
   ]
  },
  {
   "cell_type": "code",
   "execution_count": 29,
   "id": "55060896-4211-4e4b-a5eb-a818257a7a45",
   "metadata": {},
   "outputs": [],
   "source": [
    "d['correct'] =100"
   ]
  },
  {
   "cell_type": "code",
   "execution_count": 30,
   "id": "c7a23627-f861-46f6-a191-aec0935181b0",
   "metadata": {},
   "outputs": [
    {
     "data": {
      "text/plain": [
       "100"
      ]
     },
     "execution_count": 30,
     "metadata": {},
     "output_type": "execute_result"
    }
   ],
   "source": [
    "d['correct']"
   ]
  },
  {
   "cell_type": "code",
   "execution_count": 31,
   "id": "bb9bb70d-a7c2-46f8-93ff-11bac9930269",
   "metadata": {},
   "outputs": [
    {
     "data": {
      "text/plain": [
       "defaultdict(<function __main__.<lambda>()>, {'a': 0, 'correct': 100})"
      ]
     },
     "execution_count": 31,
     "metadata": {},
     "output_type": "execute_result"
    }
   ],
   "source": [
    "d"
   ]
  },
  {
   "cell_type": "code",
   "execution_count": null,
   "id": "bf1703de-bca7-4c27-b8d4-1ece4912bdd0",
   "metadata": {},
   "outputs": [],
   "source": [
    "#namedtuple collection"
   ]
  },
  {
   "cell_type": "code",
   "execution_count": 33,
   "id": "75cebd52-b20f-40f7-85fb-7bc30da7ab3d",
   "metadata": {},
   "outputs": [
    {
     "data": {
      "text/plain": [
       "10"
      ]
     },
     "execution_count": 33,
     "metadata": {},
     "output_type": "execute_result"
    }
   ],
   "source": [
    "mytuple = (10,20,30)\n",
    "\n",
    "mytuple[0]"
   ]
  },
  {
   "cell_type": "code",
   "execution_count": 34,
   "id": "ea12ed9e-1874-4842-afa8-067391566de9",
   "metadata": {},
   "outputs": [],
   "source": [
    "from collections import namedtuple"
   ]
  },
  {
   "cell_type": "code",
   "execution_count": 36,
   "id": "538f3192-29b9-4784-a83e-f2af217dfb8f",
   "metadata": {},
   "outputs": [],
   "source": [
    "Dog = namedtuple('Dog',['age','breed','name'])"
   ]
  },
  {
   "cell_type": "code",
   "execution_count": 37,
   "id": "c0ce4b9f-2b1d-4918-aaa2-1ce31b65895f",
   "metadata": {},
   "outputs": [],
   "source": [
    "sammy = Dog(age=5,breed='Husky',name='sam')"
   ]
  },
  {
   "cell_type": "code",
   "execution_count": 38,
   "id": "65453664-9d59-4713-a478-0ce054f1a0a4",
   "metadata": {},
   "outputs": [
    {
     "data": {
      "text/plain": [
       "__main__.Dog"
      ]
     },
     "execution_count": 38,
     "metadata": {},
     "output_type": "execute_result"
    }
   ],
   "source": [
    "type(sammy)"
   ]
  },
  {
   "cell_type": "code",
   "execution_count": 39,
   "id": "c04caab5-c849-4277-b66a-a3dc60308947",
   "metadata": {},
   "outputs": [
    {
     "data": {
      "text/plain": [
       "Dog(age=5, breed='Husky', name='sam')"
      ]
     },
     "execution_count": 39,
     "metadata": {},
     "output_type": "execute_result"
    }
   ],
   "source": [
    "sammy"
   ]
  },
  {
   "cell_type": "code",
   "execution_count": 40,
   "id": "b5feba14-71bf-4d23-8311-1318dcc4da08",
   "metadata": {},
   "outputs": [
    {
     "data": {
      "text/plain": [
       "5"
      ]
     },
     "execution_count": 40,
     "metadata": {},
     "output_type": "execute_result"
    }
   ],
   "source": [
    "sammy.age"
   ]
  },
  {
   "cell_type": "code",
   "execution_count": 41,
   "id": "a55c60e7-fae5-4262-952e-0408f8b50c3e",
   "metadata": {},
   "outputs": [
    {
     "data": {
      "text/plain": [
       "'Husky'"
      ]
     },
     "execution_count": 41,
     "metadata": {},
     "output_type": "execute_result"
    }
   ],
   "source": [
    "sammy.breed"
   ]
  },
  {
   "cell_type": "code",
   "execution_count": 42,
   "id": "75238050-a25e-4db6-a252-d4996ddb0e12",
   "metadata": {},
   "outputs": [
    {
     "data": {
      "text/plain": [
       "5"
      ]
     },
     "execution_count": 42,
     "metadata": {},
     "output_type": "execute_result"
    }
   ],
   "source": [
    "sammy[0]"
   ]
  },
  {
   "cell_type": "code",
   "execution_count": 44,
   "id": "775dc853-47e2-4bb1-98ba-712558fac0fb",
   "metadata": {},
   "outputs": [],
   "source": [
    "#opening and reading files and folders"
   ]
  },
  {
   "cell_type": "code",
   "execution_count": 45,
   "id": "84c7873a-92a0-4604-b893-b322122431d1",
   "metadata": {},
   "outputs": [
    {
     "data": {
      "text/plain": [
       "'/Users/priyasuresh/Documents/Documents_Priya’s MacBook Pro/Selectiva_Systems_Training/python/python_training_files'"
      ]
     },
     "execution_count": 45,
     "metadata": {},
     "output_type": "execute_result"
    }
   ],
   "source": [
    "pwd"
   ]
  },
  {
   "cell_type": "code",
   "execution_count": 46,
   "id": "bb58ef8c-2f15-4e7d-a055-1c07c324940c",
   "metadata": {},
   "outputs": [],
   "source": [
    "f = open('practice.txt','w+')\n",
    "f.write('This is practice file for section 14')\n",
    "f.close()"
   ]
  },
  {
   "cell_type": "code",
   "execution_count": 47,
   "id": "e80773fe-05c7-42ca-a400-989183652ae5",
   "metadata": {},
   "outputs": [],
   "source": [
    "import os"
   ]
  },
  {
   "cell_type": "code",
   "execution_count": 48,
   "id": "5e30fa0e-3097-473a-9711-35f5d7615215",
   "metadata": {},
   "outputs": [
    {
     "data": {
      "text/plain": [
       "'/Users/priyasuresh/Documents/Documents_Priya’s MacBook Pro/Selectiva_Systems_Training/python/python_training_files'"
      ]
     },
     "execution_count": 48,
     "metadata": {},
     "output_type": "execute_result"
    }
   ],
   "source": [
    "os.getcwd()"
   ]
  },
  {
   "cell_type": "code",
   "execution_count": 49,
   "id": "e41f6d00-8de3-454e-bdd3-2d33fa1d7e70",
   "metadata": {},
   "outputs": [
    {
     "data": {
      "text/plain": [
       "['error_handling.ipynb',\n",
       " 'Assessment_test_7.ipynb',\n",
       " 'Assessment_test_5.ipynb',\n",
       " '.DS_Store',\n",
       " 'object_oriented_programming.ipynb',\n",
       " 'Assessment_test_1.ipynb',\n",
       " 'Assessment_test_3.ipynb',\n",
       " 'OOP_Challenge.ipynb',\n",
       " 'Assessment_test_4.ipynb',\n",
       " 'Milestone_Project_1_Assignment.ipynb',\n",
       " 'Advanced_python_modules.ipynb',\n",
       " 'First_notebook.ipynb',\n",
       " 'practice.txt',\n",
       " 'Assessment_test_6.ipynb',\n",
       " 'Assessment_Test_2.ipynb',\n",
       " 'methods_functions.ipynb',\n",
       " 'Object_and_DS.ipynb',\n",
       " '__pycache__',\n",
       " 'Guessing_Game_Challenge.ipynb',\n",
       " 'text1',\n",
       " 'testing_code',\n",
       " 'operators_and_statements.ipynb',\n",
       " 'MyMainPackage',\n",
       " 'text.txt',\n",
       " '.ipynb_checkpoints',\n",
       " 'python_decorators_generators.ipynb']"
      ]
     },
     "execution_count": 49,
     "metadata": {},
     "output_type": "execute_result"
    }
   ],
   "source": [
    "os.listdir()"
   ]
  },
  {
   "cell_type": "code",
   "execution_count": 50,
   "id": "df1fb56b-dc67-4061-901a-d11ad98082b3",
   "metadata": {},
   "outputs": [
    {
     "data": {
      "text/plain": [
       "['python_training_files',\n",
       " '.DS_Store',\n",
       " '__pycache__',\n",
       " 'README.md',\n",
       " '.ipynb_checkpoints',\n",
       " '.git',\n",
       " 'python_assignment.ipynb']"
      ]
     },
     "execution_count": 50,
     "metadata": {},
     "output_type": "execute_result"
    }
   ],
   "source": [
    "os.listdir(\"/Users/priyasuresh/Documents/Documents_Priya’s MacBook Pro/Selectiva_Systems_Training/python\")"
   ]
  },
  {
   "cell_type": "code",
   "execution_count": 51,
   "id": "0596a467-c77e-455a-bd95-c496b87bc817",
   "metadata": {},
   "outputs": [],
   "source": [
    "#move files around"
   ]
  },
  {
   "cell_type": "code",
   "execution_count": 52,
   "id": "00a4623b-e99d-47c5-8aae-640ca99a47e5",
   "metadata": {},
   "outputs": [],
   "source": [
    "import shutil"
   ]
  },
  {
   "cell_type": "code",
   "execution_count": 53,
   "id": "b172ad17-3a8c-464c-ac93-ebb573ea4864",
   "metadata": {},
   "outputs": [
    {
     "data": {
      "text/plain": [
       "'/Users/priyasuresh/Documents/Documents_Priya’s MacBook Pro/Selectiva_Systems_Training/practice.txt'"
      ]
     },
     "execution_count": 53,
     "metadata": {},
     "output_type": "execute_result"
    }
   ],
   "source": [
    "shutil.move('practice.txt','/Users/priyasuresh/Documents/Documents_Priya’s MacBook Pro/Selectiva_Systems_Training')"
   ]
  },
  {
   "cell_type": "code",
   "execution_count": 60,
   "id": "d726ff7c-aaa7-451d-87d4-99a5df11144f",
   "metadata": {},
   "outputs": [
    {
     "name": "stdout",
     "output_type": "stream",
     "text": [
      "Currently looking at: /Users/priyasuresh/Documents/Documents_Priya’s MacBook Pro/Selectiva_Systems_Training/python/python_training_files/MyMainPackage\n",
      "\n",
      "The subfolders are:\n",
      "\n",
      "\tSubfolder:__pycache__\n",
      "\n",
      "\tSubfolder:SubPackage\n",
      "\n",
      "The files are: \n",
      "\n",
      "\tFiles:one.py\n",
      "\n",
      "\tFiles:.DS_Store\n",
      "\n",
      "\tFiles:__init__.py\n",
      "\n",
      "\tFiles:two.py\n",
      "\n",
      "\tFiles:myprogram.py\n",
      "\n",
      "\tFiles:some_main_script.py\n",
      "\n",
      "\tFiles:mymodule.py\n",
      "\n",
      "Currently looking at: /Users/priyasuresh/Documents/Documents_Priya’s MacBook Pro/Selectiva_Systems_Training/python/python_training_files/MyMainPackage/__pycache__\n",
      "\n",
      "The subfolders are:\n",
      "\n",
      "The files are: \n",
      "\n",
      "\tFiles:some_main_script.cpython-310.pyc\n",
      "\n",
      "\tFiles:__init__.cpython-310.pyc\n",
      "\n",
      "Currently looking at: /Users/priyasuresh/Documents/Documents_Priya’s MacBook Pro/Selectiva_Systems_Training/python/python_training_files/MyMainPackage/SubPackage\n",
      "\n",
      "The subfolders are:\n",
      "\n",
      "\tSubfolder:__pycache__\n",
      "\n",
      "The files are: \n",
      "\n",
      "\tFiles:__init__.py\n",
      "\n",
      "\tFiles:mysub_script.py\n",
      "\n",
      "Currently looking at: /Users/priyasuresh/Documents/Documents_Priya’s MacBook Pro/Selectiva_Systems_Training/python/python_training_files/MyMainPackage/SubPackage/__pycache__\n",
      "\n",
      "The subfolders are:\n",
      "\n",
      "The files are: \n",
      "\n",
      "\tFiles:mysub_script.cpython-310.pyc\n",
      "\n",
      "\tFiles:__init__.cpython-310.pyc\n",
      "\n"
     ]
    }
   ],
   "source": [
    "file_path = '/Users/priyasuresh/Documents/Documents_Priya’s MacBook Pro/Selectiva_Systems_Training/python/python_training_files/MyMainPackage'\n",
    "\n",
    "for folder,sub_folders,files in os.walk(file_path):\n",
    "    print(f\"Currently looking at: {folder}\\n\")\n",
    "    print(f\"The subfolders are:\\n\")\n",
    "    for sub_fold in sub_folders:\n",
    "        print(f\"\\tSubfolder:{sub_fold}\\n\")\n",
    "    print(\"The files are: \\n\")\n",
    "    for f in files:\n",
    "        print(f\"\\tFiles:{f}\\n\")"
   ]
  },
  {
   "cell_type": "code",
   "execution_count": 61,
   "id": "fe486169-cf09-4940-b029-a27f278b8d13",
   "metadata": {},
   "outputs": [],
   "source": [
    "#Datetime module"
   ]
  },
  {
   "cell_type": "code",
   "execution_count": 62,
   "id": "09672c5c-ee2e-4fe3-97c7-31fbcb3ea8d6",
   "metadata": {},
   "outputs": [],
   "source": [
    "import datetime"
   ]
  },
  {
   "cell_type": "code",
   "execution_count": 65,
   "id": "a2ecc0c7-80e0-4490-bd0b-c2f9b2bc0a3b",
   "metadata": {},
   "outputs": [],
   "source": [
    "mytime= datetime.time(2,20)"
   ]
  },
  {
   "cell_type": "code",
   "execution_count": 66,
   "id": "ffb9265f-c93b-4c16-a849-3e442c75f5e3",
   "metadata": {},
   "outputs": [
    {
     "data": {
      "text/plain": [
       "datetime.time(2, 20)"
      ]
     },
     "execution_count": 66,
     "metadata": {},
     "output_type": "execute_result"
    }
   ],
   "source": [
    "mytime"
   ]
  },
  {
   "cell_type": "code",
   "execution_count": 68,
   "id": "81da2329-ec08-4203-afe2-d3ed0cddf133",
   "metadata": {},
   "outputs": [
    {
     "data": {
      "text/plain": [
       "20"
      ]
     },
     "execution_count": 68,
     "metadata": {},
     "output_type": "execute_result"
    }
   ],
   "source": [
    "mytime.minute"
   ]
  },
  {
   "cell_type": "code",
   "execution_count": 69,
   "id": "24460a39-2e67-4bf4-a533-0923abd411e5",
   "metadata": {},
   "outputs": [
    {
     "name": "stdout",
     "output_type": "stream",
     "text": [
      "02:20:00\n"
     ]
    }
   ],
   "source": [
    "print(mytime)"
   ]
  },
  {
   "cell_type": "code",
   "execution_count": 70,
   "id": "4594f1fa-9af4-42ec-8958-3e0e206e5a81",
   "metadata": {},
   "outputs": [
    {
     "data": {
      "text/plain": [
       "2"
      ]
     },
     "execution_count": 70,
     "metadata": {},
     "output_type": "execute_result"
    }
   ],
   "source": [
    "mytime.hour"
   ]
  },
  {
   "cell_type": "code",
   "execution_count": 71,
   "id": "1b3016ee-b3e6-4aa2-bb1a-5b4d61aef042",
   "metadata": {},
   "outputs": [],
   "source": [
    "mytime= datetime.time(2,20,1,20)"
   ]
  },
  {
   "cell_type": "code",
   "execution_count": 72,
   "id": "6d6b41fa-5826-4eea-b4cb-88a6dc425d1a",
   "metadata": {},
   "outputs": [
    {
     "name": "stdout",
     "output_type": "stream",
     "text": [
      "02:20:01.000020\n"
     ]
    }
   ],
   "source": [
    "print(mytime)"
   ]
  },
  {
   "cell_type": "code",
   "execution_count": 73,
   "id": "125eb963-c183-4a8b-8471-2f945d8f9c1a",
   "metadata": {},
   "outputs": [
    {
     "data": {
      "text/plain": [
       "datetime.time"
      ]
     },
     "execution_count": 73,
     "metadata": {},
     "output_type": "execute_result"
    }
   ],
   "source": [
    "type(mytime)"
   ]
  },
  {
   "cell_type": "code",
   "execution_count": 74,
   "id": "7aec61a3-2a13-4768-8055-4ce6bbeecbcb",
   "metadata": {},
   "outputs": [],
   "source": [
    "today = datetime.date.today()"
   ]
  },
  {
   "cell_type": "code",
   "execution_count": 75,
   "id": "834e47f6-0098-4ed8-af5a-680417c689a4",
   "metadata": {},
   "outputs": [
    {
     "name": "stdout",
     "output_type": "stream",
     "text": [
      "2025-06-28\n"
     ]
    }
   ],
   "source": [
    "print(today)"
   ]
  },
  {
   "cell_type": "code",
   "execution_count": 76,
   "id": "c87a5c2e-8607-462e-941a-4f50b5e743e0",
   "metadata": {},
   "outputs": [
    {
     "data": {
      "text/plain": [
       "2025"
      ]
     },
     "execution_count": 76,
     "metadata": {},
     "output_type": "execute_result"
    }
   ],
   "source": [
    "today.year"
   ]
  },
  {
   "cell_type": "code",
   "execution_count": 78,
   "id": "942422a7-c61c-42b1-bf44-de13c01a9a2d",
   "metadata": {},
   "outputs": [
    {
     "data": {
      "text/plain": [
       "28"
      ]
     },
     "execution_count": 78,
     "metadata": {},
     "output_type": "execute_result"
    }
   ],
   "source": [
    "today.day"
   ]
  },
  {
   "cell_type": "code",
   "execution_count": 79,
   "id": "da6ff6d4-abad-4743-b5ad-32cbf6ab6d80",
   "metadata": {},
   "outputs": [
    {
     "data": {
      "text/plain": [
       "'Sat Jun 28 00:00:00 2025'"
      ]
     },
     "execution_count": 79,
     "metadata": {},
     "output_type": "execute_result"
    }
   ],
   "source": [
    "today.ctime()"
   ]
  },
  {
   "cell_type": "code",
   "execution_count": 96,
   "id": "a7211cfb-ddbd-453e-ad9d-b342479008a7",
   "metadata": {},
   "outputs": [],
   "source": [
    "from datetime import datetime"
   ]
  },
  {
   "cell_type": "code",
   "execution_count": 82,
   "id": "5f0ffb55-9a44-45b9-a6ae-4eaeb597bfd7",
   "metadata": {},
   "outputs": [],
   "source": [
    "mydatetime = datetime(2021,10,3,14,20,1)"
   ]
  },
  {
   "cell_type": "code",
   "execution_count": 83,
   "id": "1ce32653-0fc3-4b2b-a449-3c3c6b680149",
   "metadata": {},
   "outputs": [
    {
     "name": "stdout",
     "output_type": "stream",
     "text": [
      "2021-10-03 14:20:01\n"
     ]
    }
   ],
   "source": [
    "print(mydatetime)"
   ]
  },
  {
   "cell_type": "code",
   "execution_count": 86,
   "id": "b8056ab9-9cbe-481e-80db-32ef0c0fcdc6",
   "metadata": {},
   "outputs": [],
   "source": [
    "mydatetime= mydatetime.replace(year = 2025)"
   ]
  },
  {
   "cell_type": "code",
   "execution_count": 87,
   "id": "989ddc3b-f997-4a91-ab46-e4571db08350",
   "metadata": {},
   "outputs": [
    {
     "name": "stdout",
     "output_type": "stream",
     "text": [
      "2025-10-03 14:20:01\n"
     ]
    }
   ],
   "source": [
    "print(mydatetime)"
   ]
  },
  {
   "cell_type": "code",
   "execution_count": 88,
   "id": "56d47d67-ce77-4cea-ac5c-de0cc8209832",
   "metadata": {},
   "outputs": [],
   "source": [
    "#date"
   ]
  },
  {
   "cell_type": "code",
   "execution_count": 89,
   "id": "6d3c210e-d4cc-4ca7-b244-edace420d5c1",
   "metadata": {},
   "outputs": [],
   "source": [
    "from datetime import date"
   ]
  },
  {
   "cell_type": "code",
   "execution_count": 90,
   "id": "7a736e56-4d4b-46c9-8079-0d5015c16bab",
   "metadata": {},
   "outputs": [],
   "source": [
    "date1 = date(2021,11,3)\n",
    "date2 = date(2020,11,3)"
   ]
  },
  {
   "cell_type": "code",
   "execution_count": 91,
   "id": "8b08f55a-82bd-450d-b8a2-8511c0997f8d",
   "metadata": {},
   "outputs": [],
   "source": [
    "result = date1-date2"
   ]
  },
  {
   "cell_type": "code",
   "execution_count": 92,
   "id": "5e1a783f-e344-4e70-9033-9c274721044f",
   "metadata": {},
   "outputs": [
    {
     "name": "stdout",
     "output_type": "stream",
     "text": [
      "365 days, 0:00:00\n"
     ]
    }
   ],
   "source": [
    "print(result)"
   ]
  },
  {
   "cell_type": "code",
   "execution_count": 93,
   "id": "419c73b6-ce63-48ba-8c15-b4db64044efc",
   "metadata": {},
   "outputs": [
    {
     "data": {
      "text/plain": [
       "datetime.timedelta"
      ]
     },
     "execution_count": 93,
     "metadata": {},
     "output_type": "execute_result"
    }
   ],
   "source": [
    "type(result)"
   ]
  },
  {
   "cell_type": "code",
   "execution_count": 97,
   "id": "ed724cdc-8b0a-41e7-acf8-6560128c2026",
   "metadata": {},
   "outputs": [],
   "source": [
    "datetime1 = datetime(2021,11,3,22,0)"
   ]
  },
  {
   "cell_type": "code",
   "execution_count": 99,
   "id": "97619ac9-c8d9-4d90-9bcc-21fd9a623f24",
   "metadata": {},
   "outputs": [],
   "source": [
    "datetime12 = datetime(2020,11,3,22,0)"
   ]
  },
  {
   "cell_type": "code",
   "execution_count": 101,
   "id": "c1fae361-d599-4958-9845-31cfc0bc1f39",
   "metadata": {},
   "outputs": [],
   "source": [
    "mydiff = datetime1 =datetime12"
   ]
  },
  {
   "cell_type": "code",
   "execution_count": 104,
   "id": "109f365b-8813-4410-96d0-1a9f6c6e6b86",
   "metadata": {},
   "outputs": [
    {
     "data": {
      "text/plain": [
       "22"
      ]
     },
     "execution_count": 104,
     "metadata": {},
     "output_type": "execute_result"
    }
   ],
   "source": [
    "mydiff.hour"
   ]
  },
  {
   "cell_type": "code",
   "execution_count": null,
   "id": "74ca0574-189c-4c4f-b0e3-fa95e3406e09",
   "metadata": {},
   "outputs": [],
   "source": []
  },
  {
   "cell_type": "code",
   "execution_count": null,
   "id": "6a60d42e-e663-4e20-a067-c4516e3286b1",
   "metadata": {},
   "outputs": [],
   "source": []
  },
  {
   "cell_type": "code",
   "execution_count": 106,
   "id": "6737e33f-c031-439b-9ea4-8e9bbae2563f",
   "metadata": {},
   "outputs": [],
   "source": [
    "#Math and Random modules"
   ]
  },
  {
   "cell_type": "code",
   "execution_count": 107,
   "id": "b24e466a-9705-4bfc-94fd-7ef6c1a9ea45",
   "metadata": {},
   "outputs": [],
   "source": [
    "#help(math)"
   ]
  },
  {
   "cell_type": "code",
   "execution_count": 108,
   "id": "bb7a8179-c116-44ff-af99-093e557c5832",
   "metadata": {},
   "outputs": [],
   "source": [
    "import math"
   ]
  },
  {
   "cell_type": "code",
   "execution_count": 109,
   "id": "a35d28c3-038b-48c1-9dea-05cd597b0bd5",
   "metadata": {},
   "outputs": [],
   "source": [
    "value = 4.34"
   ]
  },
  {
   "cell_type": "code",
   "execution_count": 110,
   "id": "9626e627-d534-4832-a9f0-8c670bc89974",
   "metadata": {},
   "outputs": [
    {
     "data": {
      "text/plain": [
       "4"
      ]
     },
     "execution_count": 110,
     "metadata": {},
     "output_type": "execute_result"
    }
   ],
   "source": [
    "math.floor(value)"
   ]
  },
  {
   "cell_type": "code",
   "execution_count": 111,
   "id": "8a7650c5-ce4b-4873-8bb5-b1cfa3543f9e",
   "metadata": {},
   "outputs": [
    {
     "data": {
      "text/plain": [
       "5"
      ]
     },
     "execution_count": 111,
     "metadata": {},
     "output_type": "execute_result"
    }
   ],
   "source": [
    "math.ceil(value)"
   ]
  },
  {
   "cell_type": "code",
   "execution_count": 112,
   "id": "969835c7-830c-482e-80d0-630ce541e6a4",
   "metadata": {},
   "outputs": [
    {
     "data": {
      "text/plain": [
       "4"
      ]
     },
     "execution_count": 112,
     "metadata": {},
     "output_type": "execute_result"
    }
   ],
   "source": [
    "round(4.35)"
   ]
  },
  {
   "cell_type": "code",
   "execution_count": 113,
   "id": "ad343ce7-bbb3-4576-8ae7-98f18fc7da56",
   "metadata": {},
   "outputs": [
    {
     "data": {
      "text/plain": [
       "4"
      ]
     },
     "execution_count": 113,
     "metadata": {},
     "output_type": "execute_result"
    }
   ],
   "source": [
    "round(4.5)"
   ]
  },
  {
   "cell_type": "code",
   "execution_count": 114,
   "id": "38195a87-6c93-4bf1-a5c5-ef493e442761",
   "metadata": {},
   "outputs": [
    {
     "data": {
      "text/plain": [
       "6"
      ]
     },
     "execution_count": 114,
     "metadata": {},
     "output_type": "execute_result"
    }
   ],
   "source": [
    "round(5.5)"
   ]
  },
  {
   "cell_type": "code",
   "execution_count": 115,
   "id": "16a655fd-1e9a-49e4-8982-a233052654ab",
   "metadata": {},
   "outputs": [
    {
     "data": {
      "text/plain": [
       "3.141592653589793"
      ]
     },
     "execution_count": 115,
     "metadata": {},
     "output_type": "execute_result"
    }
   ],
   "source": [
    "math.pi"
   ]
  },
  {
   "cell_type": "code",
   "execution_count": 116,
   "id": "6e54742c-5e95-4f7b-854c-57a1702481c8",
   "metadata": {},
   "outputs": [],
   "source": [
    "from math import pi"
   ]
  },
  {
   "cell_type": "code",
   "execution_count": 117,
   "id": "ebb97337-2999-4c4c-9c40-996fdacf58a8",
   "metadata": {},
   "outputs": [
    {
     "data": {
      "text/plain": [
       "3.141592653589793"
      ]
     },
     "execution_count": 117,
     "metadata": {},
     "output_type": "execute_result"
    }
   ],
   "source": [
    "pi"
   ]
  },
  {
   "cell_type": "code",
   "execution_count": 118,
   "id": "3bd11cf7-69ae-4c74-bb2b-9bffd011ac60",
   "metadata": {},
   "outputs": [
    {
     "data": {
      "text/plain": [
       "2.718281828459045"
      ]
     },
     "execution_count": 118,
     "metadata": {},
     "output_type": "execute_result"
    }
   ],
   "source": [
    "math.e"
   ]
  },
  {
   "cell_type": "code",
   "execution_count": 119,
   "id": "ce753324-d7ea-4a1b-9707-6ab5eb5e575f",
   "metadata": {},
   "outputs": [
    {
     "data": {
      "text/plain": [
       "nan"
      ]
     },
     "execution_count": 119,
     "metadata": {},
     "output_type": "execute_result"
    }
   ],
   "source": [
    "math.nan"
   ]
  },
  {
   "cell_type": "code",
   "execution_count": 120,
   "id": "dcd02faf-cc18-4f92-8ae7-16f378e56bb5",
   "metadata": {},
   "outputs": [],
   "source": [
    "#numpy"
   ]
  },
  {
   "cell_type": "code",
   "execution_count": 121,
   "id": "b315598d-79bb-4d9e-a94e-cb0fbed9c117",
   "metadata": {},
   "outputs": [
    {
     "data": {
      "text/plain": [
       "2.718281828459045"
      ]
     },
     "execution_count": 121,
     "metadata": {},
     "output_type": "execute_result"
    }
   ],
   "source": [
    "math.e"
   ]
  },
  {
   "cell_type": "code",
   "execution_count": 122,
   "id": "e8382e86-6aab-4e92-94ee-d30ff430b8ee",
   "metadata": {},
   "outputs": [
    {
     "data": {
      "text/plain": [
       "1.0"
      ]
     },
     "execution_count": 122,
     "metadata": {},
     "output_type": "execute_result"
    }
   ],
   "source": [
    "math.log(math.e)"
   ]
  },
  {
   "cell_type": "code",
   "execution_count": 123,
   "id": "84dbfff4-6339-46d3-b981-34cf95a6af03",
   "metadata": {},
   "outputs": [
    {
     "data": {
      "text/plain": [
       "2.0"
      ]
     },
     "execution_count": 123,
     "metadata": {},
     "output_type": "execute_result"
    }
   ],
   "source": [
    "math.log(100,10)"
   ]
  },
  {
   "cell_type": "code",
   "execution_count": 124,
   "id": "446d915b-0f42-4ec3-b9da-c1ca14c572ba",
   "metadata": {},
   "outputs": [
    {
     "data": {
      "text/plain": [
       "-0.5440211108893698"
      ]
     },
     "execution_count": 124,
     "metadata": {},
     "output_type": "execute_result"
    }
   ],
   "source": [
    "math.sin(10)"
   ]
  },
  {
   "cell_type": "code",
   "execution_count": 125,
   "id": "789274ab-3da4-4abd-b77e-b0cb220eb5a3",
   "metadata": {},
   "outputs": [
    {
     "data": {
      "text/plain": [
       "90.0"
      ]
     },
     "execution_count": 125,
     "metadata": {},
     "output_type": "execute_result"
    }
   ],
   "source": [
    "math.degrees(pi/2)"
   ]
  },
  {
   "cell_type": "code",
   "execution_count": null,
   "id": "aee0424f-5539-4cb1-813e-9bc82002c425",
   "metadata": {},
   "outputs": [],
   "source": []
  },
  {
   "cell_type": "code",
   "execution_count": null,
   "id": "f67ebf1f-2be6-4cea-95f4-f3ddf76175b6",
   "metadata": {},
   "outputs": [],
   "source": []
  },
  {
   "cell_type": "code",
   "execution_count": 126,
   "id": "b092d5f3-ef3c-448a-8b10-b3d317fcd9e0",
   "metadata": {},
   "outputs": [],
   "source": [
    "#Random module"
   ]
  },
  {
   "cell_type": "code",
   "execution_count": 127,
   "id": "d9386b81-2c64-49e3-82d1-656eb798e3dd",
   "metadata": {},
   "outputs": [],
   "source": [
    "import random"
   ]
  },
  {
   "cell_type": "code",
   "execution_count": 130,
   "id": "e8ac888e-fa55-4f9d-a4c9-ac97c2d7199f",
   "metadata": {},
   "outputs": [
    {
     "data": {
      "text/plain": [
       "19"
      ]
     },
     "execution_count": 130,
     "metadata": {},
     "output_type": "execute_result"
    }
   ],
   "source": [
    "random.randint(1,20)"
   ]
  },
  {
   "cell_type": "code",
   "execution_count": 138,
   "id": "832a701a-0d58-4bec-a220-3147209f75e7",
   "metadata": {},
   "outputs": [
    {
     "data": {
      "text/plain": [
       "74"
      ]
     },
     "execution_count": 138,
     "metadata": {},
     "output_type": "execute_result"
    }
   ],
   "source": [
    "random.seed(101)\n",
    "random.randint(0,100)#same number repeated because of seed"
   ]
  },
  {
   "cell_type": "code",
   "execution_count": 139,
   "id": "8fea83bc-6ff6-424c-9f57-eff31709058d",
   "metadata": {},
   "outputs": [
    {
     "data": {
      "text/plain": [
       "24"
      ]
     },
     "execution_count": 139,
     "metadata": {},
     "output_type": "execute_result"
    }
   ],
   "source": [
    "random.randint(0,100)"
   ]
  },
  {
   "cell_type": "code",
   "execution_count": 144,
   "id": "87d1ae49-83ab-4d14-bb9f-36bb7d2a970c",
   "metadata": {},
   "outputs": [],
   "source": [
    "mylist = [1,2,3,4,5,6,7]"
   ]
  },
  {
   "cell_type": "code",
   "execution_count": 145,
   "id": "ed502557-7b01-4b35-8f07-01ce07b1e691",
   "metadata": {},
   "outputs": [
    {
     "data": {
      "text/plain": [
       "3"
      ]
     },
     "execution_count": 145,
     "metadata": {},
     "output_type": "execute_result"
    }
   ],
   "source": [
    "random.choice(mylist)"
   ]
  },
  {
   "cell_type": "code",
   "execution_count": 147,
   "id": "09599ca1-d66d-4d13-b0ea-8d38fe76c74b",
   "metadata": {},
   "outputs": [],
   "source": [
    "random.shuffle(mylist)"
   ]
  },
  {
   "cell_type": "code",
   "execution_count": 148,
   "id": "e26a8b68-1579-490e-bb9d-5ea5b98b1961",
   "metadata": {},
   "outputs": [
    {
     "data": {
      "text/plain": [
       "[7, 6, 3, 2, 5, 1, 4]"
      ]
     },
     "execution_count": 148,
     "metadata": {},
     "output_type": "execute_result"
    }
   ],
   "source": [
    "mylist"
   ]
  },
  {
   "cell_type": "code",
   "execution_count": 149,
   "id": "836ef6d4-2459-4b5c-923d-c91920cc6378",
   "metadata": {},
   "outputs": [
    {
     "data": {
      "text/plain": [
       "91.75331092515768"
      ]
     },
     "execution_count": 149,
     "metadata": {},
     "output_type": "execute_result"
    }
   ],
   "source": [
    "random.uniform(a=0,b=100)"
   ]
  },
  {
   "cell_type": "code",
   "execution_count": null,
   "id": "524f8241-0f8a-4377-a188-0340d4c2f19b",
   "metadata": {},
   "outputs": [],
   "source": []
  }
 ],
 "metadata": {
  "kernelspec": {
   "display_name": "Python 3.10.4 (pyenv)",
   "language": "python",
   "name": "pyenv3104"
  },
  "language_info": {
   "codemirror_mode": {
    "name": "ipython",
    "version": 3
   },
   "file_extension": ".py",
   "mimetype": "text/x-python",
   "name": "python",
   "nbconvert_exporter": "python",
   "pygments_lexer": "ipython3",
   "version": "3.10.4"
  }
 },
 "nbformat": 4,
 "nbformat_minor": 5
}
