{
 "cells": [
  {
   "cell_type": "code",
   "execution_count": 1,
   "id": "86c68b7d-ba31-4b3a-b1af-9997bbf0079f",
   "metadata": {},
   "outputs": [],
   "source": [
    "#Json library"
   ]
  },
  {
   "cell_type": "code",
   "execution_count": 70,
   "id": "1002f505-e5f7-476f-b80d-49d013d7ab72",
   "metadata": {},
   "outputs": [],
   "source": [
    "#1. Read the Json file and print value for key = crew"
   ]
  },
  {
   "cell_type": "code",
   "execution_count": 5,
   "id": "511ae66d-1524-4f55-8195-076408d7d544",
   "metadata": {},
   "outputs": [],
   "source": [
    "import requests\n",
    "import json"
   ]
  },
  {
   "cell_type": "code",
   "execution_count": 20,
   "id": "98ad5d70-50c8-4d03-afcd-3c72fe6b2099",
   "metadata": {},
   "outputs": [],
   "source": [
    "json_url1 = 'https://raw.githubusercontent.com/bhargav-velisetti/flink_examples/refs/heads/master/data/cruise_ship_schema.json'"
   ]
  },
  {
   "cell_type": "code",
   "execution_count": 21,
   "id": "495cd138-bf15-444f-b2cf-f652e6a9b8d8",
   "metadata": {},
   "outputs": [],
   "source": [
    "#get request to the url\n",
    "\n",
    "try:\n",
    "    response1 = requests.get(json_url1)\n",
    "    \n",
    "\n",
    "    #raise for errors if any occur like file not found\n",
    "\n",
    "    response1.raise_for_status() \n",
    "    \n",
    "\n",
    "    #load data into dataframe\n",
    "\n",
    "    df1 = response1.json()\n",
    "    \n",
    "except:\n",
    "    print(\"Error loading Json file!!\")"
   ]
  },
  {
   "cell_type": "code",
   "execution_count": 22,
   "id": "1780b657-c39a-4c31-a3e2-8863c166c141",
   "metadata": {},
   "outputs": [
    {
     "data": {
      "text/plain": [
       "{'Ship_name': 'STRING',\n",
       " 'Cruise_line': 'STRING',\n",
       " 'Age': 'INTEGER',\n",
       " 'Tonnage': 'FLOAT',\n",
       " 'passengers': 'FLOAT',\n",
       " 'length': 'FLOAT',\n",
       " 'cabins': 'FLOAT',\n",
       " 'passenger_density': 'FLOAT',\n",
       " 'crew': 'FLOAT'}"
      ]
     },
     "execution_count": 22,
     "metadata": {},
     "output_type": "execute_result"
    }
   ],
   "source": [
    "df1"
   ]
  },
  {
   "cell_type": "code",
   "execution_count": 24,
   "id": "9ebd3a2a-f113-4bcb-bb68-08dc2b4ad258",
   "metadata": {},
   "outputs": [
    {
     "data": {
      "text/plain": [
       "dict_keys(['Ship_name', 'Cruise_line', 'Age', 'Tonnage', 'passengers', 'length', 'cabins', 'passenger_density', 'crew'])"
      ]
     },
     "execution_count": 24,
     "metadata": {},
     "output_type": "execute_result"
    }
   ],
   "source": [
    "df1.keys()"
   ]
  },
  {
   "cell_type": "code",
   "execution_count": 26,
   "id": "629e5509-a3cd-4c54-8f6d-a1f51bfa2da5",
   "metadata": {},
   "outputs": [
    {
     "data": {
      "text/plain": [
       "'FLOAT'"
      ]
     },
     "execution_count": 26,
     "metadata": {},
     "output_type": "execute_result"
    }
   ],
   "source": [
    "df1['crew']"
   ]
  },
  {
   "cell_type": "code",
   "execution_count": 69,
   "id": "144189aa-7bbd-4dc5-9f8d-2518f107d033",
   "metadata": {},
   "outputs": [],
   "source": [
    "#2. Read this json file, loop over it and print values for the key = firstName"
   ]
  },
  {
   "cell_type": "code",
   "execution_count": 34,
   "id": "e28668c9-3aa9-4a00-a29c-51a2ac318c1d",
   "metadata": {},
   "outputs": [],
   "source": [
    "json_url2='https://github.com/bhargav-velisetti/apache_beam_examples_java/blob/master/data/sample-data.json'"
   ]
  },
  {
   "cell_type": "code",
   "execution_count": 43,
   "id": "bbfbd17c-cbd0-4503-a105-44c3d6b98341",
   "metadata": {},
   "outputs": [],
   "source": [
    "#get request to the url\n",
    "\n",
    "import requests\n",
    "import json\n",
    "\n",
    "json_url2 = 'https://raw.githubusercontent.com/bhargav-velisetti/apache_beam_examples_java/master/data/sample-data.json'\n",
    "\n",
    "try:\n",
    "    response2 = requests.get(json_url2)\n",
    "    response2.raise_for_status()\n",
    "\n",
    "    df2 = []\n",
    "    for line in response2.text.strip().split('\\n'):\n",
    "        if line.strip():  # skip empty lines\n",
    "            try:\n",
    "                obj = json.loads(line)\n",
    "                df2.append(obj)\n",
    "            except json.JSONDecodeError:\n",
    "                print(\"Skipping invalid JSON line:\", line)\n",
    "\n",
    "\n",
    "except Exception as e:\n",
    "    print(\"Error loading Json file!!\", e)\n"
   ]
  },
  {
   "cell_type": "code",
   "execution_count": 44,
   "id": "c3d68d06-76f5-48cf-885f-0b31e96b6ba9",
   "metadata": {},
   "outputs": [
    {
     "data": {
      "text/plain": [
       "[{'firstName': 'John1',\n",
       "  'lastName': 'Smith1',\n",
       "  'age': 25,\n",
       "  'address': {'streetAddress': '21 2nd Street',\n",
       "   'city': 'New York',\n",
       "   'state': 'NY',\n",
       "   'postalCode': 10021},\n",
       "  'phoneNumbers': {'type': 'home', 'number': '212 555-1234'}},\n",
       " {'firstName': 'John2',\n",
       "  'lastName': 'Smith2',\n",
       "  'age': 25,\n",
       "  'address': {'streetAddress': '21 2nd Street',\n",
       "   'city': 'New York',\n",
       "   'state': 'NY',\n",
       "   'postalCode': 10021},\n",
       "  'phoneNumbers': {'type': 'home', 'number': '212 555-1234'}}]"
      ]
     },
     "execution_count": 44,
     "metadata": {},
     "output_type": "execute_result"
    }
   ],
   "source": [
    "df2"
   ]
  },
  {
   "cell_type": "code",
   "execution_count": 67,
   "id": "7232b155-e109-4c02-a121-740922a28fbc",
   "metadata": {},
   "outputs": [],
   "source": [
    "\n",
    "def find_firstname(obj):\n",
    "    for key, value in obj.items():\n",
    "        if key == 'firstName':\n",
    "            print(f'{key}: {value}')\n",
    "        elif isinstance(value, dict):\n",
    "            find_firstname(value)\n",
    "    \n"
   ]
  },
  {
   "cell_type": "code",
   "execution_count": 68,
   "id": "75d3e625-005c-4620-925b-27986fde0350",
   "metadata": {},
   "outputs": [
    {
     "name": "stdout",
     "output_type": "stream",
     "text": [
      "firstName: John1\n",
      "firstName: John2\n"
     ]
    }
   ],
   "source": [
    "for obj in df2:\n",
    "    find_firstname(obj)"
   ]
  },
  {
   "cell_type": "code",
   "execution_count": 73,
   "id": "d4c287fe-0378-41cd-ad99-d9667babeeb3",
   "metadata": {},
   "outputs": [],
   "source": [
    "#Python Collections\n",
    "\n",
    "#list_a = [0,1,2,3,4,5,6]\n"
   ]
  },
  {
   "cell_type": "code",
   "execution_count": 72,
   "id": "3df07735-f73b-4854-9187-3caaf9b5e009",
   "metadata": {},
   "outputs": [],
   "source": [
    "list_a = [0,1,2,3,4,5,6]"
   ]
  },
  {
   "cell_type": "code",
   "execution_count": 74,
   "id": "bd6537a8-da3c-4222-b1b7-cd3dac37e1d8",
   "metadata": {},
   "outputs": [
    {
     "name": "stdout",
     "output_type": "stream",
     "text": [
      "4\n"
     ]
    }
   ],
   "source": [
    "#3. Print 5th element\n",
    "\n",
    "print(list_a[4])"
   ]
  },
  {
   "cell_type": "code",
   "execution_count": 75,
   "id": "8833ae75-7838-4233-87c9-c491fd878ef5",
   "metadata": {},
   "outputs": [
    {
     "name": "stdout",
     "output_type": "stream",
     "text": [
      "[4, 5, 6]\n"
     ]
    }
   ],
   "source": [
    "#4. Last three elements\n",
    "\n",
    "print(list_a[-3::])"
   ]
  },
  {
   "cell_type": "code",
   "execution_count": 76,
   "id": "3536fffe-073b-4e8b-adfa-d528066afb70",
   "metadata": {},
   "outputs": [
    {
     "data": {
      "text/plain": [
       "7"
      ]
     },
     "execution_count": 76,
     "metadata": {},
     "output_type": "execute_result"
    }
   ],
   "source": [
    "#5. Print Len of the list\n",
    "\n",
    "len(list_a)"
   ]
  },
  {
   "cell_type": "code",
   "execution_count": 77,
   "id": "6c28ea07-95cf-4c09-b2ba-07ada5df9dbb",
   "metadata": {},
   "outputs": [],
   "source": [
    "dict_a = {'a':1,'b':2}"
   ]
  },
  {
   "cell_type": "code",
   "execution_count": 86,
   "id": "adb1775d-fb2a-4a86-8815-e2abe9ff52e5",
   "metadata": {},
   "outputs": [
    {
     "name": "stdout",
     "output_type": "stream",
     "text": [
      "a\n",
      "b\n"
     ]
    }
   ],
   "source": [
    "#6. Print keys of the the dictionary dict_a\n",
    "\n",
    "for keys in dict_a:\n",
    "    print(keys)"
   ]
  },
  {
   "cell_type": "code",
   "execution_count": 85,
   "id": "668b6bdb-ffc1-42aa-92eb-91486b836955",
   "metadata": {},
   "outputs": [
    {
     "name": "stdout",
     "output_type": "stream",
     "text": [
      "1\n",
      "2\n"
     ]
    }
   ],
   "source": [
    "#7. Print values of the dictionary dict_a\n",
    "\n",
    "for value in dict_a:\n",
    "    print(dict_a[value])"
   ]
  },
  {
   "cell_type": "code",
   "execution_count": 87,
   "id": "5e9c9908-8b05-4738-b9d3-009849dcaf82",
   "metadata": {},
   "outputs": [
    {
     "name": "stdout",
     "output_type": "stream",
     "text": [
      "2\n"
     ]
    }
   ],
   "source": [
    "#8. Print value of the key = b\n",
    "\n",
    "for value in dict_a:\n",
    "    if value == 'b':\n",
    "        print(dict_a[value])\n",
    "    else:\n",
    "        pass"
   ]
  },
  {
   "cell_type": "code",
   "execution_count": 88,
   "id": "42ad9065-5fcb-48f8-96ce-3a9cbeb470c0",
   "metadata": {},
   "outputs": [
    {
     "data": {
      "text/plain": [
       "'\\n9. Pass Python Command Line args\\n\\nparse_cl_args.py \"Hello World !\"\\n\\nWhen I run above script , it should print\\n\\nHello\\nWorld\\n'"
      ]
     },
     "execution_count": 88,
     "metadata": {},
     "output_type": "execute_result"
    }
   ],
   "source": [
    "'''\n",
    "9. Pass Python Command Line args\n",
    "\n",
    "parse_cl_args.py \"Hello World !\"\n",
    "\n",
    "When I run above script , it should print\n",
    "\n",
    "Hello\n",
    "World\n",
    "'''"
   ]
  },
  {
   "cell_type": "code",
   "execution_count": null,
   "id": "55693d12-b066-4cf3-b21b-2661501fce96",
   "metadata": {},
   "outputs": [],
   "source": [
    "#below file created and executed the code in terminal--"
   ]
  },
  {
   "cell_type": "code",
   "execution_count": 101,
   "id": "dd925090-5252-447b-be4a-34ff965481a0",
   "metadata": {},
   "outputs": [
    {
     "name": "stdout",
     "output_type": "stream",
     "text": [
      "-f\n",
      "/Users/priyasuresh/Library/Jupyter/runtime/kernel-d7a79b77-f768-4102-93f5-833e88efda12.json\n"
     ]
    }
   ],
   "source": [
    "#parse_cl_args.py\n",
    "import sys\n",
    "\n",
    "if __name__ == \"__main__\":\n",
    "    if len(sys.argv) > 1:\n",
    "        for arg in sys.argv[1:]:\n",
    "            for word in arg.split():\n",
    "                print(word)\n",
    "    else:\n",
    "        print(\"No command-line arguments provided.\")"
   ]
  },
  {
   "cell_type": "code",
   "execution_count": 99,
   "id": "ef2c057e-c4bf-4fd8-b6f5-a51b70fb38d5",
   "metadata": {},
   "outputs": [
    {
     "data": {
      "text/plain": [
       "'/Users/priyasuresh/Documents/Documents_Priya’s MacBook Pro/Selectiva_Systems_Training/python'"
      ]
     },
     "execution_count": 99,
     "metadata": {},
     "output_type": "execute_result"
    }
   ],
   "source": [
    "pwd"
   ]
  },
  {
   "cell_type": "code",
   "execution_count": 100,
   "id": "078a4b82-5304-4a0d-be1e-423a774e808f",
   "metadata": {},
   "outputs": [
    {
     "name": "stdout",
     "output_type": "stream",
     "text": [
      "\u001b[34m__pycache__\u001b[m\u001b[m/             python_assignment.ipynb  README.md\n",
      "parse_cl_args.py         \u001b[34mpython_training_files\u001b[m\u001b[m/\n"
     ]
    }
   ],
   "source": [
    "ls "
   ]
  },
  {
   "cell_type": "markdown",
   "id": "7c15c8f8-fc5c-49d4-89c8-63c79b10e4b9",
   "metadata": {},
   "source": [
    "'''\n",
    "\n",
    "(base) priyasuresh@Priyas-MacBook-Pro python % python parse_cl_args.py 'Hello World !'\n",
    "Hello\n",
    "World\n",
    "!\n",
    "(base) priyasuresh@Priyas-MacBook-Pro python % \n",
    "\n",
    "'''"
   ]
  },
  {
   "cell_type": "code",
   "execution_count": null,
   "id": "36e062fb-5203-4400-b186-3e1251923fe7",
   "metadata": {},
   "outputs": [],
   "source": [
    "'''\n",
    "10. Request library for rest calls \n",
    "\n",
    "\n",
    "Please develop two python functions to download GitHub Activity History files using Python3 requests library. \n",
    "\n",
    "End Point = https://data.gharchive.org/2015-01-01-{0..23}.json.gz\n",
    "\n",
    "API Documentation can be found here = https://www.gharchive.org/\n",
    "\n",
    "I want you guys to develop 2 functions. \n",
    "\n",
    "1. Download files function \n",
    "\n",
    "def download_gh():\n",
    "   #Download File of 2023 March 01 10AM into your computer filesystem \n",
    "   #Return fully qualified path of downloaded file from your computer filesystem\n",
    "\n",
    "2. unittest function for download function (You can use any library, I would recommend pytest)\n",
    "\n",
    "def test_download_gh():\n",
    "   #Implement Assertion \n",
    "\n",
    "'''"
   ]
  },
  {
   "cell_type": "code",
   "execution_count": 123,
   "id": "2d4e9c5f-9e02-4f9a-a019-8fbe650eb543",
   "metadata": {},
   "outputs": [],
   "source": [
    "import requests\n",
    "import os"
   ]
  },
  {
   "cell_type": "code",
   "execution_count": 106,
   "id": "f11c60d5-ad20-4fb2-87a8-bc96c9d8a196",
   "metadata": {},
   "outputs": [],
   "source": [
    "base_url = 'https://data.gharchive.org/2015-01-01-{}.json.gz'\n",
    "\n",
    "#the hour goes from 0 to 23"
   ]
  },
  {
   "cell_type": "code",
   "execution_count": 107,
   "id": "601a6f71-d859-4953-a386-3ef44de7c19b",
   "metadata": {},
   "outputs": [],
   "source": [
    "res = requests.get(base_url.format(10))"
   ]
  },
  {
   "cell_type": "code",
   "execution_count": 110,
   "id": "0265564a-33f4-4fbb-bbc3-7435c92b5a55",
   "metadata": {},
   "outputs": [],
   "source": [
    "f = open('2015-01-01-10.json.gz','wb')"
   ]
  },
  {
   "cell_type": "code",
   "execution_count": 126,
   "id": "7161bff7-9898-4e88-b526-69c76f3acbd8",
   "metadata": {},
   "outputs": [],
   "source": [
    "def download_gh():\n",
    "    base_url = 'https://data.gharchive.org/2015-01-01-{}.json.gz'\n",
    "    res = requests.get(base_url.format(10))\n",
    "    f = open('2015-01-01-10.json.gz','wb')\n",
    "    f.write(res.content)\n",
    "    os_path = os.path.abspath('2015-01-01-10.json.gz')\n",
    "    f.close()\n",
    "    return os_path"
   ]
  },
  {
   "cell_type": "code",
   "execution_count": 127,
   "id": "d94d50a2-91c1-4291-9a25-730fb544c6d4",
   "metadata": {},
   "outputs": [
    {
     "data": {
      "text/plain": [
       "'/Users/priyasuresh/Documents/Documents_Priya’s MacBook Pro/Selectiva_Systems_Training/python/2015-01-01-10.json.gz'"
      ]
     },
     "execution_count": 127,
     "metadata": {},
     "output_type": "execute_result"
    }
   ],
   "source": [
    "download_gh()"
   ]
  },
  {
   "cell_type": "code",
   "execution_count": 131,
   "id": "5906f0cd-aa95-4e52-bfd5-2eeb52ed31bb",
   "metadata": {},
   "outputs": [],
   "source": [
    "import gzip"
   ]
  },
  {
   "cell_type": "code",
   "execution_count": 132,
   "id": "55847010-1409-480e-b93e-51ec2f43a353",
   "metadata": {},
   "outputs": [],
   "source": [
    "def test_download_gh():\n",
    "    downloaded_path = download_gh()\n",
    "    assert os.path.exists(downloaded_path)\n",
    "\n",
    "    with gzip.open(downloaded_path, 'rt', encoding='utf-8') as f:\n",
    "        line = f.readline()\n",
    "        data_json = json.loads(line)\n",
    "        assert isinstance(data_json, dict)"
   ]
  },
  {
   "cell_type": "code",
   "execution_count": 133,
   "id": "87f73338-fcab-4693-a6a6-9cac4ee71061",
   "metadata": {},
   "outputs": [],
   "source": [
    "#---created two files: ghdownload.py and test_filename.py"
   ]
  },
  {
   "cell_type": "code",
   "execution_count": 134,
   "id": "8a04f464-be62-40a2-a377-243acb593615",
   "metadata": {},
   "outputs": [
    {
     "name": "stdout",
     "output_type": "stream",
     "text": [
      "\u001b[34m__pycache__\u001b[m\u001b[m/             parse_cl_args.py         README.md\n",
      "2015-01-01-10.json.gz    python_assignment.ipynb  test_filename.py\n",
      "ghdownload.py            \u001b[34mpython_training_files\u001b[m\u001b[m/\n"
     ]
    }
   ],
   "source": [
    "ls\n"
   ]
  },
  {
   "cell_type": "markdown",
   "id": "7afe3b89-6e01-44c9-87ba-88a514c262f0",
   "metadata": {},
   "source": [
    "'''\n",
    "(base) priyasuresh@Priyas-MacBook-Pro python % pytest test_filename.py\n",
    "=========================================================== test session starts ============================================================\n",
    "platform darwin -- Python 3.11.4, pytest-7.4.0, pluggy-1.0.0\n",
    "rootdir: /Users/priyasuresh/Documents/Documents_Priya’s MacBook Pro/Selectiva_Systems_Training/python\n",
    "plugins: anyio-3.5.0, Faker-19.13.0\n",
    "collected 1 item                                                                                                                           \n",
    "\n",
    "test_filename.py .                                                                                                                   [100%]\n",
    "\n",
    "============================================================ 1 passed in 0.38s =============================================================\n",
    "(base) priyasuresh@Priyas-MacBook-Pro python % \n",
    "'''"
   ]
  }
 ],
 "metadata": {
  "kernelspec": {
   "display_name": "Python 3 (ipykernel)",
   "language": "python",
   "name": "python3"
  },
  "language_info": {
   "codemirror_mode": {
    "name": "ipython",
    "version": 3
   },
   "file_extension": ".py",
   "mimetype": "text/x-python",
   "name": "python",
   "nbconvert_exporter": "python",
   "pygments_lexer": "ipython3",
   "version": "3.10.4"
  }
 },
 "nbformat": 4,
 "nbformat_minor": 5
}
