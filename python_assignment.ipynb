{
 "cells": [
  {
   "cell_type": "code",
   "execution_count": 1,
   "id": "86c68b7d-ba31-4b3a-b1af-9997bbf0079f",
   "metadata": {},
   "outputs": [],
   "source": [
    "#Json library"
   ]
  },
  {
   "cell_type": "code",
   "execution_count": 5,
   "id": "511ae66d-1524-4f55-8195-076408d7d544",
   "metadata": {},
   "outputs": [],
   "source": [
    "import requests\n",
    "import json"
   ]
  },
  {
   "cell_type": "code",
   "execution_count": 20,
   "id": "98ad5d70-50c8-4d03-afcd-3c72fe6b2099",
   "metadata": {},
   "outputs": [],
   "source": [
    "json_url1 = 'https://raw.githubusercontent.com/bhargav-velisetti/flink_examples/refs/heads/master/data/cruise_ship_schema.json'"
   ]
  },
  {
   "cell_type": "code",
   "execution_count": 21,
   "id": "495cd138-bf15-444f-b2cf-f652e6a9b8d8",
   "metadata": {},
   "outputs": [],
   "source": [
    "#get request to the url\n",
    "\n",
    "try:\n",
    "    response1 = requests.get(json_url1)\n",
    "    \n",
    "\n",
    "    #raise for errors if any occur like file not found\n",
    "\n",
    "    response1.raise_for_status() \n",
    "    \n",
    "\n",
    "    #load data into dataframe\n",
    "\n",
    "    df1 = response1.json()\n",
    "    \n",
    "except:\n",
    "    print(\"Error loading Json file!!\")"
   ]
  },
  {
   "cell_type": "code",
   "execution_count": 22,
   "id": "1780b657-c39a-4c31-a3e2-8863c166c141",
   "metadata": {},
   "outputs": [
    {
     "data": {
      "text/plain": [
       "{'Ship_name': 'STRING',\n",
       " 'Cruise_line': 'STRING',\n",
       " 'Age': 'INTEGER',\n",
       " 'Tonnage': 'FLOAT',\n",
       " 'passengers': 'FLOAT',\n",
       " 'length': 'FLOAT',\n",
       " 'cabins': 'FLOAT',\n",
       " 'passenger_density': 'FLOAT',\n",
       " 'crew': 'FLOAT'}"
      ]
     },
     "execution_count": 22,
     "metadata": {},
     "output_type": "execute_result"
    }
   ],
   "source": [
    "df1"
   ]
  },
  {
   "cell_type": "code",
   "execution_count": 24,
   "id": "9ebd3a2a-f113-4bcb-bb68-08dc2b4ad258",
   "metadata": {},
   "outputs": [
    {
     "data": {
      "text/plain": [
       "dict_keys(['Ship_name', 'Cruise_line', 'Age', 'Tonnage', 'passengers', 'length', 'cabins', 'passenger_density', 'crew'])"
      ]
     },
     "execution_count": 24,
     "metadata": {},
     "output_type": "execute_result"
    }
   ],
   "source": [
    "df1.keys()"
   ]
  },
  {
   "cell_type": "code",
   "execution_count": 26,
   "id": "629e5509-a3cd-4c54-8f6d-a1f51bfa2da5",
   "metadata": {},
   "outputs": [
    {
     "data": {
      "text/plain": [
       "'FLOAT'"
      ]
     },
     "execution_count": 26,
     "metadata": {},
     "output_type": "execute_result"
    }
   ],
   "source": [
    "df1['crew']"
   ]
  },
  {
   "cell_type": "code",
   "execution_count": 34,
   "id": "e28668c9-3aa9-4a00-a29c-51a2ac318c1d",
   "metadata": {},
   "outputs": [],
   "source": [
    "json_url2='https://github.com/bhargav-velisetti/apache_beam_examples_java/blob/master/data/sample-data.json'"
   ]
  },
  {
   "cell_type": "code",
   "execution_count": 43,
   "id": "bbfbd17c-cbd0-4503-a105-44c3d6b98341",
   "metadata": {},
   "outputs": [],
   "source": [
    "#get request to the url\n",
    "\n",
    "import requests\n",
    "import json\n",
    "\n",
    "json_url2 = 'https://raw.githubusercontent.com/bhargav-velisetti/apache_beam_examples_java/master/data/sample-data.json'\n",
    "\n",
    "try:\n",
    "    response2 = requests.get(json_url2)\n",
    "    response2.raise_for_status()\n",
    "\n",
    "    df2 = []\n",
    "    for line in response2.text.strip().split('\\n'):\n",
    "        if line.strip():  # skip empty lines\n",
    "            try:\n",
    "                obj = json.loads(line)\n",
    "                df2.append(obj)\n",
    "            except json.JSONDecodeError:\n",
    "                print(\"Skipping invalid JSON line:\", line)\n",
    "\n",
    "\n",
    "except Exception as e:\n",
    "    print(\"Error loading Json file!!\", e)\n"
   ]
  },
  {
   "cell_type": "code",
   "execution_count": 44,
   "id": "c3d68d06-76f5-48cf-885f-0b31e96b6ba9",
   "metadata": {},
   "outputs": [
    {
     "data": {
      "text/plain": [
       "[{'firstName': 'John1',\n",
       "  'lastName': 'Smith1',\n",
       "  'age': 25,\n",
       "  'address': {'streetAddress': '21 2nd Street',\n",
       "   'city': 'New York',\n",
       "   'state': 'NY',\n",
       "   'postalCode': 10021},\n",
       "  'phoneNumbers': {'type': 'home', 'number': '212 555-1234'}},\n",
       " {'firstName': 'John2',\n",
       "  'lastName': 'Smith2',\n",
       "  'age': 25,\n",
       "  'address': {'streetAddress': '21 2nd Street',\n",
       "   'city': 'New York',\n",
       "   'state': 'NY',\n",
       "   'postalCode': 10021},\n",
       "  'phoneNumbers': {'type': 'home', 'number': '212 555-1234'}}]"
      ]
     },
     "execution_count": 44,
     "metadata": {},
     "output_type": "execute_result"
    }
   ],
   "source": [
    "df2"
   ]
  },
  {
   "cell_type": "code",
   "execution_count": 67,
   "id": "7232b155-e109-4c02-a121-740922a28fbc",
   "metadata": {},
   "outputs": [],
   "source": [
    "\n",
    "def find_firstname(obj):\n",
    "    for key, value in obj.items():\n",
    "        if key == 'firstName':\n",
    "            print(f'{key}: {value}')\n",
    "        elif isinstance(value, dict):\n",
    "            find_firstname(value)\n",
    "    \n"
   ]
  },
  {
   "cell_type": "code",
   "execution_count": 68,
   "id": "75d3e625-005c-4620-925b-27986fde0350",
   "metadata": {},
   "outputs": [
    {
     "name": "stdout",
     "output_type": "stream",
     "text": [
      "firstName: John1\n",
      "firstName: John2\n"
     ]
    }
   ],
   "source": [
    "for obj in df2:\n",
    "    find_firstname(obj)"
   ]
  },
  {
   "cell_type": "code",
   "execution_count": null,
   "id": "d4c287fe-0378-41cd-ad99-d9667babeeb3",
   "metadata": {},
   "outputs": [],
   "source": []
  }
 ],
 "metadata": {
  "kernelspec": {
   "display_name": "Python 3 (ipykernel)",
   "language": "python",
   "name": "python3"
  },
  "language_info": {
   "codemirror_mode": {
    "name": "ipython",
    "version": 3
   },
   "file_extension": ".py",
   "mimetype": "text/x-python",
   "name": "python",
   "nbconvert_exporter": "python",
   "pygments_lexer": "ipython3",
   "version": "3.10.4"
  }
 },
 "nbformat": 4,
 "nbformat_minor": 5
}
